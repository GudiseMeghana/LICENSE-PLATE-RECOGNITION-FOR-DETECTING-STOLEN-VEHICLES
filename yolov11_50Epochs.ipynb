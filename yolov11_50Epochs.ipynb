{
  "nbformat": 4,
  "nbformat_minor": 0,
  "metadata": {
    "colab": {
      "provenance": [],
      "gpuType": "T4"
    },
    "kernelspec": {
      "name": "python3",
      "display_name": "Python 3"
    },
    "language_info": {
      "name": "python"
    },
    "accelerator": "GPU"
  },
  "cells": [
    {
      "cell_type": "code",
      "execution_count": 7,
      "metadata": {
        "colab": {
          "base_uri": "https://localhost:8080/"
        },
        "id": "KS0KyZetEpxQ",
        "outputId": "6ebe3cd8-a77a-4f1d-cb88-a130af3d9435"
      },
      "outputs": [
        {
          "output_type": "stream",
          "name": "stdout",
          "text": [
            "Requirement already satisfied: ultralytics in /usr/local/lib/python3.11/dist-packages (8.3.82)\n",
            "Requirement already satisfied: opencv-python-headless in /usr/local/lib/python3.11/dist-packages (4.10.0.84)\n",
            "Requirement already satisfied: matplotlib in /usr/local/lib/python3.11/dist-packages (3.10.0)\n",
            "Requirement already satisfied: roboflow in /usr/local/lib/python3.11/dist-packages (1.1.54)\n",
            "Requirement already satisfied: numpy<=2.1.1,>=1.23.0 in /usr/local/lib/python3.11/dist-packages (from ultralytics) (1.26.4)\n",
            "Requirement already satisfied: opencv-python>=4.6.0 in /usr/local/lib/python3.11/dist-packages (from ultralytics) (4.11.0.86)\n",
            "Requirement already satisfied: pillow>=7.1.2 in /usr/local/lib/python3.11/dist-packages (from ultralytics) (11.1.0)\n",
            "Requirement already satisfied: pyyaml>=5.3.1 in /usr/local/lib/python3.11/dist-packages (from ultralytics) (6.0.2)\n",
            "Requirement already satisfied: requests>=2.23.0 in /usr/local/lib/python3.11/dist-packages (from ultralytics) (2.32.3)\n",
            "Requirement already satisfied: scipy>=1.4.1 in /usr/local/lib/python3.11/dist-packages (from ultralytics) (1.13.1)\n",
            "Requirement already satisfied: torch>=1.8.0 in /usr/local/lib/python3.11/dist-packages (from ultralytics) (2.5.1+cu124)\n",
            "Requirement already satisfied: torchvision>=0.9.0 in /usr/local/lib/python3.11/dist-packages (from ultralytics) (0.20.1+cu124)\n",
            "Requirement already satisfied: tqdm>=4.64.0 in /usr/local/lib/python3.11/dist-packages (from ultralytics) (4.67.1)\n",
            "Requirement already satisfied: psutil in /usr/local/lib/python3.11/dist-packages (from ultralytics) (5.9.5)\n",
            "Requirement already satisfied: py-cpuinfo in /usr/local/lib/python3.11/dist-packages (from ultralytics) (9.0.0)\n",
            "Requirement already satisfied: pandas>=1.1.4 in /usr/local/lib/python3.11/dist-packages (from ultralytics) (2.2.2)\n",
            "Requirement already satisfied: seaborn>=0.11.0 in /usr/local/lib/python3.11/dist-packages (from ultralytics) (0.13.2)\n",
            "Requirement already satisfied: ultralytics-thop>=2.0.0 in /usr/local/lib/python3.11/dist-packages (from ultralytics) (2.0.14)\n",
            "Requirement already satisfied: contourpy>=1.0.1 in /usr/local/lib/python3.11/dist-packages (from matplotlib) (1.3.1)\n",
            "Requirement already satisfied: cycler>=0.10 in /usr/local/lib/python3.11/dist-packages (from matplotlib) (0.12.1)\n",
            "Requirement already satisfied: fonttools>=4.22.0 in /usr/local/lib/python3.11/dist-packages (from matplotlib) (4.56.0)\n",
            "Requirement already satisfied: kiwisolver>=1.3.1 in /usr/local/lib/python3.11/dist-packages (from matplotlib) (1.4.8)\n",
            "Requirement already satisfied: packaging>=20.0 in /usr/local/lib/python3.11/dist-packages (from matplotlib) (24.2)\n",
            "Requirement already satisfied: pyparsing>=2.3.1 in /usr/local/lib/python3.11/dist-packages (from matplotlib) (3.2.1)\n",
            "Requirement already satisfied: python-dateutil>=2.7 in /usr/local/lib/python3.11/dist-packages (from matplotlib) (2.8.2)\n",
            "Requirement already satisfied: certifi in /usr/local/lib/python3.11/dist-packages (from roboflow) (2025.1.31)\n",
            "Requirement already satisfied: idna==3.7 in /usr/local/lib/python3.11/dist-packages (from roboflow) (3.7)\n",
            "Requirement already satisfied: python-dotenv in /usr/local/lib/python3.11/dist-packages (from roboflow) (1.0.1)\n",
            "Requirement already satisfied: six in /usr/local/lib/python3.11/dist-packages (from roboflow) (1.17.0)\n",
            "Requirement already satisfied: urllib3>=1.26.6 in /usr/local/lib/python3.11/dist-packages (from roboflow) (2.3.0)\n",
            "Requirement already satisfied: requests-toolbelt in /usr/local/lib/python3.11/dist-packages (from roboflow) (1.0.0)\n",
            "Requirement already satisfied: filetype in /usr/local/lib/python3.11/dist-packages (from roboflow) (1.2.0)\n",
            "Requirement already satisfied: pytz>=2020.1 in /usr/local/lib/python3.11/dist-packages (from pandas>=1.1.4->ultralytics) (2025.1)\n",
            "Requirement already satisfied: tzdata>=2022.7 in /usr/local/lib/python3.11/dist-packages (from pandas>=1.1.4->ultralytics) (2025.1)\n",
            "Requirement already satisfied: charset-normalizer<4,>=2 in /usr/local/lib/python3.11/dist-packages (from requests>=2.23.0->ultralytics) (3.4.1)\n",
            "Requirement already satisfied: filelock in /usr/local/lib/python3.11/dist-packages (from torch>=1.8.0->ultralytics) (3.17.0)\n",
            "Requirement already satisfied: typing-extensions>=4.8.0 in /usr/local/lib/python3.11/dist-packages (from torch>=1.8.0->ultralytics) (4.12.2)\n",
            "Requirement already satisfied: networkx in /usr/local/lib/python3.11/dist-packages (from torch>=1.8.0->ultralytics) (3.4.2)\n",
            "Requirement already satisfied: jinja2 in /usr/local/lib/python3.11/dist-packages (from torch>=1.8.0->ultralytics) (3.1.5)\n",
            "Requirement already satisfied: fsspec in /usr/local/lib/python3.11/dist-packages (from torch>=1.8.0->ultralytics) (2024.10.0)\n",
            "Requirement already satisfied: nvidia-cuda-nvrtc-cu12==12.4.127 in /usr/local/lib/python3.11/dist-packages (from torch>=1.8.0->ultralytics) (12.4.127)\n",
            "Requirement already satisfied: nvidia-cuda-runtime-cu12==12.4.127 in /usr/local/lib/python3.11/dist-packages (from torch>=1.8.0->ultralytics) (12.4.127)\n",
            "Requirement already satisfied: nvidia-cuda-cupti-cu12==12.4.127 in /usr/local/lib/python3.11/dist-packages (from torch>=1.8.0->ultralytics) (12.4.127)\n",
            "Requirement already satisfied: nvidia-cudnn-cu12==9.1.0.70 in /usr/local/lib/python3.11/dist-packages (from torch>=1.8.0->ultralytics) (9.1.0.70)\n",
            "Requirement already satisfied: nvidia-cublas-cu12==12.4.5.8 in /usr/local/lib/python3.11/dist-packages (from torch>=1.8.0->ultralytics) (12.4.5.8)\n",
            "Requirement already satisfied: nvidia-cufft-cu12==11.2.1.3 in /usr/local/lib/python3.11/dist-packages (from torch>=1.8.0->ultralytics) (11.2.1.3)\n",
            "Requirement already satisfied: nvidia-curand-cu12==10.3.5.147 in /usr/local/lib/python3.11/dist-packages (from torch>=1.8.0->ultralytics) (10.3.5.147)\n",
            "Requirement already satisfied: nvidia-cusolver-cu12==11.6.1.9 in /usr/local/lib/python3.11/dist-packages (from torch>=1.8.0->ultralytics) (11.6.1.9)\n",
            "Requirement already satisfied: nvidia-cusparse-cu12==12.3.1.170 in /usr/local/lib/python3.11/dist-packages (from torch>=1.8.0->ultralytics) (12.3.1.170)\n",
            "Requirement already satisfied: nvidia-nccl-cu12==2.21.5 in /usr/local/lib/python3.11/dist-packages (from torch>=1.8.0->ultralytics) (2.21.5)\n",
            "Requirement already satisfied: nvidia-nvtx-cu12==12.4.127 in /usr/local/lib/python3.11/dist-packages (from torch>=1.8.0->ultralytics) (12.4.127)\n",
            "Requirement already satisfied: nvidia-nvjitlink-cu12==12.4.127 in /usr/local/lib/python3.11/dist-packages (from torch>=1.8.0->ultralytics) (12.4.127)\n",
            "Requirement already satisfied: triton==3.1.0 in /usr/local/lib/python3.11/dist-packages (from torch>=1.8.0->ultralytics) (3.1.0)\n",
            "Requirement already satisfied: sympy==1.13.1 in /usr/local/lib/python3.11/dist-packages (from torch>=1.8.0->ultralytics) (1.13.1)\n",
            "Requirement already satisfied: mpmath<1.4,>=1.1.0 in /usr/local/lib/python3.11/dist-packages (from sympy==1.13.1->torch>=1.8.0->ultralytics) (1.3.0)\n",
            "Requirement already satisfied: MarkupSafe>=2.0 in /usr/local/lib/python3.11/dist-packages (from jinja2->torch>=1.8.0->ultralytics) (3.0.2)\n"
          ]
        }
      ],
      "source": [
        "pip install ultralytics opencv-python-headless matplotlib roboflow"
      ]
    },
    {
      "cell_type": "code",
      "source": [
        "from roboflow import Roboflow\n",
        "rf = Roboflow(api_key=\"WrevqW1tjru6KOcBRDdU\")  # Replace with your actual API key\n",
        "project = rf.workspace(\"meghana-gudise-hb1mf\").project(\"license-plate-detection-g15hx-daa3i\")\n",
        "version = project.version(1)\n",
        "dataset = version.download(\"yolov11\")"
      ],
      "metadata": {
        "id": "lbdwtcr_ExmB",
        "colab": {
          "base_uri": "https://localhost:8080/"
        },
        "outputId": "8018e8c5-0041-4abc-b249-1c08d15eede6"
      },
      "execution_count": null,
      "outputs": [
        {
          "output_type": "stream",
          "name": "stdout",
          "text": [
            "loading Roboflow workspace...\n",
            "loading Roboflow project...\n"
          ]
        },
        {
          "output_type": "stream",
          "name": "stderr",
          "text": [
            "Downloading Dataset Version Zip in license-plate-detection-1 to yolov11:: 100%|██████████| 578176/578176 [00:34<00:00, 16973.84it/s]"
          ]
        },
        {
          "output_type": "stream",
          "name": "stdout",
          "text": [
            "\n"
          ]
        },
        {
          "output_type": "stream",
          "name": "stderr",
          "text": [
            "\n",
            "Extracting Dataset Version Zip to license-plate-detection-1 in yolov11:: 100%|██████████| 10812/10812 [00:06<00:00, 1782.82it/s]\n"
          ]
        }
      ]
    },
    {
      "cell_type": "code",
      "source": [
        "from google.colab import drive\n",
        "drive.mount('/content/drive')"
      ],
      "metadata": {
        "id": "gH4SNL39E4d3",
        "colab": {
          "base_uri": "https://localhost:8080/"
        },
        "outputId": "ba728d54-2c11-4dd0-ef67-83fc21bd0fc9"
      },
      "execution_count": null,
      "outputs": [
        {
          "output_type": "stream",
          "name": "stdout",
          "text": [
            "Drive already mounted at /content/drive; to attempt to forcibly remount, call drive.mount(\"/content/drive\", force_remount=True).\n"
          ]
        }
      ]
    },
    {
      "cell_type": "code",
      "source": [
        "from ultralytics import YOLO\n",
        "\n",
        "# Load a pre-trained YOLOv11 model\n",
        "model = YOLO(\"/content/drive/MyDrive/yolo11n.pt\")  # Use \"yolov11n.pt\" for Nano version\n",
        "\n",
        "# Train the model on the dataset\n",
        "model.train(data=\"/content/license-plate-detection-1/data.yaml\", epochs=50, batch=16, imgsz=640, save=True)"
      ],
      "metadata": {
        "id": "XYpbDht6E7Ve",
        "colab": {
          "base_uri": "https://localhost:8080/"
        },
        "outputId": "7db81117-6125-459f-fd6e-4ba0eae8c041"
      },
      "execution_count": 9,
      "outputs": [
        {
          "output_type": "stream",
          "name": "stdout",
          "text": [
            "Ultralytics 8.3.82 🚀 Python-3.11.11 torch-2.5.1+cu124 CUDA:0 (Tesla T4, 15095MiB)\n",
            "\u001b[34m\u001b[1mengine/trainer: \u001b[0mtask=detect, mode=train, model=/content/drive/MyDrive/yolo11n.pt, data=/content/license-plate-detection-1/data.yaml, epochs=50, time=None, patience=100, batch=16, imgsz=640, save=True, save_period=-1, cache=False, device=None, workers=8, project=None, name=train4, exist_ok=False, pretrained=True, optimizer=auto, verbose=True, seed=0, deterministic=True, single_cls=False, rect=False, cos_lr=False, close_mosaic=10, resume=False, amp=True, fraction=1.0, profile=False, freeze=None, multi_scale=False, overlap_mask=True, mask_ratio=4, dropout=0.0, val=True, split=val, save_json=False, save_hybrid=False, conf=None, iou=0.7, max_det=300, half=False, dnn=False, plots=True, source=None, vid_stride=1, stream_buffer=False, visualize=False, augment=False, agnostic_nms=False, classes=None, retina_masks=False, embed=None, show=False, save_frames=False, save_txt=False, save_conf=False, save_crop=False, show_labels=True, show_conf=True, show_boxes=True, line_width=None, format=torchscript, keras=False, optimize=False, int8=False, dynamic=False, simplify=True, opset=None, workspace=None, nms=False, lr0=0.01, lrf=0.01, momentum=0.937, weight_decay=0.0005, warmup_epochs=3.0, warmup_momentum=0.8, warmup_bias_lr=0.1, box=7.5, cls=0.5, dfl=1.5, pose=12.0, kobj=1.0, nbs=64, hsv_h=0.015, hsv_s=0.7, hsv_v=0.4, degrees=0.0, translate=0.1, scale=0.5, shear=0.0, perspective=0.0, flipud=0.0, fliplr=0.5, bgr=0.0, mosaic=1.0, mixup=0.0, copy_paste=0.0, copy_paste_mode=flip, auto_augment=randaugment, erasing=0.4, crop_fraction=1.0, cfg=None, tracker=botsort.yaml, save_dir=runs/detect/train4\n",
            "Downloading https://ultralytics.com/assets/Arial.ttf to '/root/.config/Ultralytics/Arial.ttf'...\n"
          ]
        },
        {
          "output_type": "stream",
          "name": "stderr",
          "text": [
            "100%|██████████| 755k/755k [00:00<00:00, 107MB/s]\n"
          ]
        },
        {
          "output_type": "stream",
          "name": "stdout",
          "text": [
            "Overriding model.yaml nc=80 with nc=1\n",
            "\n",
            "                   from  n    params  module                                       arguments                     \n",
            "  0                  -1  1       464  ultralytics.nn.modules.conv.Conv             [3, 16, 3, 2]                 \n",
            "  1                  -1  1      4672  ultralytics.nn.modules.conv.Conv             [16, 32, 3, 2]                \n",
            "  2                  -1  1      6640  ultralytics.nn.modules.block.C3k2            [32, 64, 1, False, 0.25]      \n",
            "  3                  -1  1     36992  ultralytics.nn.modules.conv.Conv             [64, 64, 3, 2]                \n",
            "  4                  -1  1     26080  ultralytics.nn.modules.block.C3k2            [64, 128, 1, False, 0.25]     \n",
            "  5                  -1  1    147712  ultralytics.nn.modules.conv.Conv             [128, 128, 3, 2]              \n",
            "  6                  -1  1     87040  ultralytics.nn.modules.block.C3k2            [128, 128, 1, True]           \n",
            "  7                  -1  1    295424  ultralytics.nn.modules.conv.Conv             [128, 256, 3, 2]              \n",
            "  8                  -1  1    346112  ultralytics.nn.modules.block.C3k2            [256, 256, 1, True]           \n",
            "  9                  -1  1    164608  ultralytics.nn.modules.block.SPPF            [256, 256, 5]                 \n",
            " 10                  -1  1    249728  ultralytics.nn.modules.block.C2PSA           [256, 256, 1]                 \n",
            " 11                  -1  1         0  torch.nn.modules.upsampling.Upsample         [None, 2, 'nearest']          \n",
            " 12             [-1, 6]  1         0  ultralytics.nn.modules.conv.Concat           [1]                           \n",
            " 13                  -1  1    111296  ultralytics.nn.modules.block.C3k2            [384, 128, 1, False]          \n",
            " 14                  -1  1         0  torch.nn.modules.upsampling.Upsample         [None, 2, 'nearest']          \n",
            " 15             [-1, 4]  1         0  ultralytics.nn.modules.conv.Concat           [1]                           \n",
            " 16                  -1  1     32096  ultralytics.nn.modules.block.C3k2            [256, 64, 1, False]           \n",
            " 17                  -1  1     36992  ultralytics.nn.modules.conv.Conv             [64, 64, 3, 2]                \n",
            " 18            [-1, 13]  1         0  ultralytics.nn.modules.conv.Concat           [1]                           \n",
            " 19                  -1  1     86720  ultralytics.nn.modules.block.C3k2            [192, 128, 1, False]          \n",
            " 20                  -1  1    147712  ultralytics.nn.modules.conv.Conv             [128, 128, 3, 2]              \n",
            " 21            [-1, 10]  1         0  ultralytics.nn.modules.conv.Concat           [1]                           \n",
            " 22                  -1  1    378880  ultralytics.nn.modules.block.C3k2            [384, 256, 1, True]           \n",
            " 23        [16, 19, 22]  1    430867  ultralytics.nn.modules.head.Detect           [1, [64, 128, 256]]           \n",
            "YOLO11n summary: 181 layers, 2,590,035 parameters, 2,590,019 gradients, 6.4 GFLOPs\n",
            "\n",
            "Transferred 448/499 items from pretrained weights\n",
            "\u001b[34m\u001b[1mTensorBoard: \u001b[0mStart with 'tensorboard --logdir runs/detect/train4', view at http://localhost:6006/\n",
            "Freezing layer 'model.23.dfl.conv.weight'\n",
            "\u001b[34m\u001b[1mAMP: \u001b[0mrunning Automatic Mixed Precision (AMP) checks...\n",
            "\u001b[34m\u001b[1mAMP: \u001b[0mchecks passed ✅\n"
          ]
        },
        {
          "output_type": "stream",
          "name": "stderr",
          "text": [
            "\u001b[34m\u001b[1mtrain: \u001b[0mScanning /content/license-plate-detection-1/train/labels... 4959 images, 0 backgrounds, 0 corrupt: 100%|██████████| 4959/4959 [00:02<00:00, 2237.02it/s]\n"
          ]
        },
        {
          "output_type": "stream",
          "name": "stdout",
          "text": [
            "\u001b[34m\u001b[1mtrain: \u001b[0mNew cache created: /content/license-plate-detection-1/train/labels.cache\n",
            "WARNING ⚠️ Box and segment counts should be equal, but got len(segments) = 3636, len(boxes) = 6621. To resolve this only boxes will be used and all segments will be removed. To avoid this please supply either a detect or segment dataset, not a detect-segment mixed dataset.\n",
            "\u001b[34m\u001b[1malbumentations: \u001b[0mBlur(p=0.01, blur_limit=(3, 7)), MedianBlur(p=0.01, blur_limit=(3, 7)), ToGray(p=0.01, num_output_channels=3, method='weighted_average'), CLAHE(p=0.01, clip_limit=(1.0, 4.0), tile_grid_size=(8, 8))\n"
          ]
        },
        {
          "output_type": "stream",
          "name": "stderr",
          "text": [
            "A new version of Albumentations is available: '2.0.5' (you have '2.0.4'). Upgrade using: pip install -U albumentations. To disable automatic update checks, set the environment variable NO_ALBUMENTATIONS_UPDATE to 1.\n",
            "\u001b[34m\u001b[1mval: \u001b[0mScanning /content/license-plate-detection-1/valid/labels... 220 images, 0 backgrounds, 0 corrupt: 100%|██████████| 220/220 [00:00<00:00, 1217.89it/s]\n"
          ]
        },
        {
          "output_type": "stream",
          "name": "stdout",
          "text": [
            "\u001b[34m\u001b[1mval: \u001b[0mNew cache created: /content/license-plate-detection-1/valid/labels.cache\n",
            "WARNING ⚠️ Box and segment counts should be equal, but got len(segments) = 154, len(boxes) = 307. To resolve this only boxes will be used and all segments will be removed. To avoid this please supply either a detect or segment dataset, not a detect-segment mixed dataset.\n",
            "Plotting labels to runs/detect/train4/labels.jpg... \n",
            "\u001b[34m\u001b[1moptimizer:\u001b[0m 'optimizer=auto' found, ignoring 'lr0=0.01' and 'momentum=0.937' and determining best 'optimizer', 'lr0' and 'momentum' automatically... \n",
            "\u001b[34m\u001b[1moptimizer:\u001b[0m AdamW(lr=0.002, momentum=0.9) with parameter groups 81 weight(decay=0.0), 88 weight(decay=0.0005), 87 bias(decay=0.0)\n",
            "\u001b[34m\u001b[1mTensorBoard: \u001b[0mmodel graph visualization added ✅\n",
            "Image sizes 640 train, 640 val\n",
            "Using 2 dataloader workers\n",
            "Logging results to \u001b[1mruns/detect/train4\u001b[0m\n",
            "Starting training for 50 epochs...\n",
            "\n",
            "      Epoch    GPU_mem   box_loss   cls_loss   dfl_loss  Instances       Size\n"
          ]
        },
        {
          "output_type": "stream",
          "name": "stderr",
          "text": [
            "       1/50       2.4G      1.281      1.962       1.49         45        640: 100%|██████████| 310/310 [01:41<00:00,  3.06it/s]\n",
            "                 Class     Images  Instances      Box(P          R      mAP50  mAP50-95): 100%|██████████| 7/7 [00:03<00:00,  2.21it/s]"
          ]
        },
        {
          "output_type": "stream",
          "name": "stdout",
          "text": [
            "                   all        220        307      0.641      0.517      0.545      0.324\n"
          ]
        },
        {
          "output_type": "stream",
          "name": "stderr",
          "text": [
            "\n"
          ]
        },
        {
          "output_type": "stream",
          "name": "stdout",
          "text": [
            "\n",
            "      Epoch    GPU_mem   box_loss   cls_loss   dfl_loss  Instances       Size\n"
          ]
        },
        {
          "output_type": "stream",
          "name": "stderr",
          "text": [
            "       2/50      2.21G       1.39      1.473      1.576         51        640: 100%|██████████| 310/310 [01:36<00:00,  3.20it/s]\n",
            "                 Class     Images  Instances      Box(P          R      mAP50  mAP50-95): 100%|██████████| 7/7 [00:01<00:00,  3.51it/s]"
          ]
        },
        {
          "output_type": "stream",
          "name": "stdout",
          "text": [
            "                   all        220        307      0.594      0.329      0.388      0.213\n"
          ]
        },
        {
          "output_type": "stream",
          "name": "stderr",
          "text": [
            "\n"
          ]
        },
        {
          "output_type": "stream",
          "name": "stdout",
          "text": [
            "\n",
            "      Epoch    GPU_mem   box_loss   cls_loss   dfl_loss  Instances       Size\n"
          ]
        },
        {
          "output_type": "stream",
          "name": "stderr",
          "text": [
            "       3/50      2.21G      1.392      1.354      1.574         36        640: 100%|██████████| 310/310 [01:35<00:00,  3.25it/s]\n",
            "                 Class     Images  Instances      Box(P          R      mAP50  mAP50-95): 100%|██████████| 7/7 [00:01<00:00,  3.53it/s]"
          ]
        },
        {
          "output_type": "stream",
          "name": "stdout",
          "text": [
            "                   all        220        307      0.729      0.564      0.627      0.363\n"
          ]
        },
        {
          "output_type": "stream",
          "name": "stderr",
          "text": [
            "\n"
          ]
        },
        {
          "output_type": "stream",
          "name": "stdout",
          "text": [
            "\n",
            "      Epoch    GPU_mem   box_loss   cls_loss   dfl_loss  Instances       Size\n"
          ]
        },
        {
          "output_type": "stream",
          "name": "stderr",
          "text": [
            "       4/50      2.22G      1.345      1.276      1.539         34        640: 100%|██████████| 310/310 [01:35<00:00,  3.26it/s]\n",
            "                 Class     Images  Instances      Box(P          R      mAP50  mAP50-95): 100%|██████████| 7/7 [00:01<00:00,  3.58it/s]"
          ]
        },
        {
          "output_type": "stream",
          "name": "stdout",
          "text": [
            "                   all        220        307      0.799      0.697      0.723      0.469\n"
          ]
        },
        {
          "output_type": "stream",
          "name": "stderr",
          "text": [
            "\n"
          ]
        },
        {
          "output_type": "stream",
          "name": "stdout",
          "text": [
            "\n",
            "      Epoch    GPU_mem   box_loss   cls_loss   dfl_loss  Instances       Size\n"
          ]
        },
        {
          "output_type": "stream",
          "name": "stderr",
          "text": [
            "       5/50      2.22G      1.283      1.173      1.486         33        640: 100%|██████████| 310/310 [01:34<00:00,  3.26it/s]\n",
            "                 Class     Images  Instances      Box(P          R      mAP50  mAP50-95): 100%|██████████| 7/7 [00:02<00:00,  3.29it/s]"
          ]
        },
        {
          "output_type": "stream",
          "name": "stdout",
          "text": [
            "                   all        220        307      0.864        0.7      0.749      0.506\n"
          ]
        },
        {
          "output_type": "stream",
          "name": "stderr",
          "text": [
            "\n"
          ]
        },
        {
          "output_type": "stream",
          "name": "stdout",
          "text": [
            "\n",
            "      Epoch    GPU_mem   box_loss   cls_loss   dfl_loss  Instances       Size\n"
          ]
        },
        {
          "output_type": "stream",
          "name": "stderr",
          "text": [
            "       6/50       2.2G      1.244        1.1      1.461         43        640: 100%|██████████| 310/310 [01:34<00:00,  3.27it/s]\n",
            "                 Class     Images  Instances      Box(P          R      mAP50  mAP50-95): 100%|██████████| 7/7 [00:02<00:00,  3.49it/s]"
          ]
        },
        {
          "output_type": "stream",
          "name": "stdout",
          "text": [
            "                   all        220        307      0.867       0.72      0.773      0.525\n"
          ]
        },
        {
          "output_type": "stream",
          "name": "stderr",
          "text": [
            "\n"
          ]
        },
        {
          "output_type": "stream",
          "name": "stdout",
          "text": [
            "\n",
            "      Epoch    GPU_mem   box_loss   cls_loss   dfl_loss  Instances       Size\n"
          ]
        },
        {
          "output_type": "stream",
          "name": "stderr",
          "text": [
            "       7/50      2.25G      1.224      1.063      1.443         27        640: 100%|██████████| 310/310 [01:34<00:00,  3.27it/s]\n",
            "                 Class     Images  Instances      Box(P          R      mAP50  mAP50-95): 100%|██████████| 7/7 [00:01<00:00,  3.60it/s]"
          ]
        },
        {
          "output_type": "stream",
          "name": "stdout",
          "text": [
            "                   all        220        307      0.874      0.744      0.788      0.541\n"
          ]
        },
        {
          "output_type": "stream",
          "name": "stderr",
          "text": [
            "\n"
          ]
        },
        {
          "output_type": "stream",
          "name": "stdout",
          "text": [
            "\n",
            "      Epoch    GPU_mem   box_loss   cls_loss   dfl_loss  Instances       Size\n"
          ]
        },
        {
          "output_type": "stream",
          "name": "stderr",
          "text": [
            "       8/50       2.2G      1.202      1.016      1.427         25        640: 100%|██████████| 310/310 [01:34<00:00,  3.26it/s]\n",
            "                 Class     Images  Instances      Box(P          R      mAP50  mAP50-95): 100%|██████████| 7/7 [00:02<00:00,  3.34it/s]"
          ]
        },
        {
          "output_type": "stream",
          "name": "stdout",
          "text": [
            "                   all        220        307      0.914      0.707      0.785      0.536\n"
          ]
        },
        {
          "output_type": "stream",
          "name": "stderr",
          "text": [
            "\n"
          ]
        },
        {
          "output_type": "stream",
          "name": "stdout",
          "text": [
            "\n",
            "      Epoch    GPU_mem   box_loss   cls_loss   dfl_loss  Instances       Size\n"
          ]
        },
        {
          "output_type": "stream",
          "name": "stderr",
          "text": [
            "       9/50       2.2G      1.174     0.9831      1.406         33        640: 100%|██████████| 310/310 [01:34<00:00,  3.28it/s]\n",
            "                 Class     Images  Instances      Box(P          R      mAP50  mAP50-95): 100%|██████████| 7/7 [00:02<00:00,  2.88it/s]"
          ]
        },
        {
          "output_type": "stream",
          "name": "stdout",
          "text": [
            "                   all        220        307      0.868      0.727       0.78      0.527\n"
          ]
        },
        {
          "output_type": "stream",
          "name": "stderr",
          "text": [
            "\n"
          ]
        },
        {
          "output_type": "stream",
          "name": "stdout",
          "text": [
            "\n",
            "      Epoch    GPU_mem   box_loss   cls_loss   dfl_loss  Instances       Size\n"
          ]
        },
        {
          "output_type": "stream",
          "name": "stderr",
          "text": [
            "      10/50       2.2G      1.154     0.9544      1.392         40        640: 100%|██████████| 310/310 [01:33<00:00,  3.33it/s]\n",
            "                 Class     Images  Instances      Box(P          R      mAP50  mAP50-95): 100%|██████████| 7/7 [00:03<00:00,  2.25it/s]"
          ]
        },
        {
          "output_type": "stream",
          "name": "stdout",
          "text": [
            "                   all        220        307      0.812      0.759      0.768      0.517\n"
          ]
        },
        {
          "output_type": "stream",
          "name": "stderr",
          "text": [
            "\n"
          ]
        },
        {
          "output_type": "stream",
          "name": "stdout",
          "text": [
            "\n",
            "      Epoch    GPU_mem   box_loss   cls_loss   dfl_loss  Instances       Size\n"
          ]
        },
        {
          "output_type": "stream",
          "name": "stderr",
          "text": [
            "      11/50       2.2G      1.145     0.9495       1.39         37        640: 100%|██████████| 310/310 [01:33<00:00,  3.33it/s]\n",
            "                 Class     Images  Instances      Box(P          R      mAP50  mAP50-95): 100%|██████████| 7/7 [00:02<00:00,  3.08it/s]"
          ]
        },
        {
          "output_type": "stream",
          "name": "stdout",
          "text": [
            "                   all        220        307      0.913      0.726      0.805      0.565\n"
          ]
        },
        {
          "output_type": "stream",
          "name": "stderr",
          "text": [
            "\n"
          ]
        },
        {
          "output_type": "stream",
          "name": "stdout",
          "text": [
            "\n",
            "      Epoch    GPU_mem   box_loss   cls_loss   dfl_loss  Instances       Size\n"
          ]
        },
        {
          "output_type": "stream",
          "name": "stderr",
          "text": [
            "      12/50      2.22G      1.126     0.9158      1.371         36        640: 100%|██████████| 310/310 [01:33<00:00,  3.30it/s]\n",
            "                 Class     Images  Instances      Box(P          R      mAP50  mAP50-95): 100%|██████████| 7/7 [00:01<00:00,  3.83it/s]"
          ]
        },
        {
          "output_type": "stream",
          "name": "stdout",
          "text": [
            "                   all        220        307      0.848      0.769      0.801      0.562\n"
          ]
        },
        {
          "output_type": "stream",
          "name": "stderr",
          "text": [
            "\n"
          ]
        },
        {
          "output_type": "stream",
          "name": "stdout",
          "text": [
            "\n",
            "      Epoch    GPU_mem   box_loss   cls_loss   dfl_loss  Instances       Size\n"
          ]
        },
        {
          "output_type": "stream",
          "name": "stderr",
          "text": [
            "      13/50       2.2G       1.12     0.9061      1.367         42        640: 100%|██████████| 310/310 [01:34<00:00,  3.27it/s]\n",
            "                 Class     Images  Instances      Box(P          R      mAP50  mAP50-95): 100%|██████████| 7/7 [00:01<00:00,  3.70it/s]"
          ]
        },
        {
          "output_type": "stream",
          "name": "stdout",
          "text": [
            "                   all        220        307      0.886      0.746      0.814      0.574\n"
          ]
        },
        {
          "output_type": "stream",
          "name": "stderr",
          "text": [
            "\n"
          ]
        },
        {
          "output_type": "stream",
          "name": "stdout",
          "text": [
            "\n",
            "      Epoch    GPU_mem   box_loss   cls_loss   dfl_loss  Instances       Size\n"
          ]
        },
        {
          "output_type": "stream",
          "name": "stderr",
          "text": [
            "      14/50      2.22G      1.113     0.9012      1.368         47        640: 100%|██████████| 310/310 [01:35<00:00,  3.25it/s]\n",
            "                 Class     Images  Instances      Box(P          R      mAP50  mAP50-95): 100%|██████████| 7/7 [00:01<00:00,  3.57it/s]"
          ]
        },
        {
          "output_type": "stream",
          "name": "stdout",
          "text": [
            "                   all        220        307      0.896      0.755      0.812      0.569\n"
          ]
        },
        {
          "output_type": "stream",
          "name": "stderr",
          "text": [
            "\n"
          ]
        },
        {
          "output_type": "stream",
          "name": "stdout",
          "text": [
            "\n",
            "      Epoch    GPU_mem   box_loss   cls_loss   dfl_loss  Instances       Size\n"
          ]
        },
        {
          "output_type": "stream",
          "name": "stderr",
          "text": [
            "      15/50      2.23G      1.103     0.8809      1.357         44        640: 100%|██████████| 310/310 [01:34<00:00,  3.29it/s]\n",
            "                 Class     Images  Instances      Box(P          R      mAP50  mAP50-95): 100%|██████████| 7/7 [00:02<00:00,  3.41it/s]"
          ]
        },
        {
          "output_type": "stream",
          "name": "stdout",
          "text": [
            "                   all        220        307      0.866      0.779      0.812       0.56\n"
          ]
        },
        {
          "output_type": "stream",
          "name": "stderr",
          "text": [
            "\n"
          ]
        },
        {
          "output_type": "stream",
          "name": "stdout",
          "text": [
            "\n",
            "      Epoch    GPU_mem   box_loss   cls_loss   dfl_loss  Instances       Size\n"
          ]
        },
        {
          "output_type": "stream",
          "name": "stderr",
          "text": [
            "      16/50      2.22G      1.089     0.8649      1.347         25        640: 100%|██████████| 310/310 [01:34<00:00,  3.28it/s]\n",
            "                 Class     Images  Instances      Box(P          R      mAP50  mAP50-95): 100%|██████████| 7/7 [00:01<00:00,  3.54it/s]"
          ]
        },
        {
          "output_type": "stream",
          "name": "stdout",
          "text": [
            "                   all        220        307      0.877      0.739      0.805      0.561\n"
          ]
        },
        {
          "output_type": "stream",
          "name": "stderr",
          "text": [
            "\n"
          ]
        },
        {
          "output_type": "stream",
          "name": "stdout",
          "text": [
            "\n",
            "      Epoch    GPU_mem   box_loss   cls_loss   dfl_loss  Instances       Size\n"
          ]
        },
        {
          "output_type": "stream",
          "name": "stderr",
          "text": [
            "      17/50      2.22G       1.09     0.8579      1.337         35        640: 100%|██████████| 310/310 [01:34<00:00,  3.27it/s]\n",
            "                 Class     Images  Instances      Box(P          R      mAP50  mAP50-95): 100%|██████████| 7/7 [00:01<00:00,  3.58it/s]"
          ]
        },
        {
          "output_type": "stream",
          "name": "stdout",
          "text": [
            "                   all        220        307      0.852      0.791      0.814      0.576\n"
          ]
        },
        {
          "output_type": "stream",
          "name": "stderr",
          "text": [
            "\n"
          ]
        },
        {
          "output_type": "stream",
          "name": "stdout",
          "text": [
            "\n",
            "      Epoch    GPU_mem   box_loss   cls_loss   dfl_loss  Instances       Size\n"
          ]
        },
        {
          "output_type": "stream",
          "name": "stderr",
          "text": [
            "      18/50      2.22G      1.064     0.8337      1.329         34        640: 100%|██████████| 310/310 [01:33<00:00,  3.30it/s]\n",
            "                 Class     Images  Instances      Box(P          R      mAP50  mAP50-95): 100%|██████████| 7/7 [00:02<00:00,  3.07it/s]"
          ]
        },
        {
          "output_type": "stream",
          "name": "stdout",
          "text": [
            "                   all        220        307      0.874      0.788      0.804      0.562\n"
          ]
        },
        {
          "output_type": "stream",
          "name": "stderr",
          "text": [
            "\n"
          ]
        },
        {
          "output_type": "stream",
          "name": "stdout",
          "text": [
            "\n",
            "      Epoch    GPU_mem   box_loss   cls_loss   dfl_loss  Instances       Size\n"
          ]
        },
        {
          "output_type": "stream",
          "name": "stderr",
          "text": [
            "      19/50      2.22G      1.059     0.8258      1.327         44        640: 100%|██████████| 310/310 [01:32<00:00,  3.37it/s]\n",
            "                 Class     Images  Instances      Box(P          R      mAP50  mAP50-95): 100%|██████████| 7/7 [00:03<00:00,  2.25it/s]"
          ]
        },
        {
          "output_type": "stream",
          "name": "stdout",
          "text": [
            "                   all        220        307      0.881      0.794       0.82      0.576\n"
          ]
        },
        {
          "output_type": "stream",
          "name": "stderr",
          "text": [
            "\n"
          ]
        },
        {
          "output_type": "stream",
          "name": "stdout",
          "text": [
            "\n",
            "      Epoch    GPU_mem   box_loss   cls_loss   dfl_loss  Instances       Size\n"
          ]
        },
        {
          "output_type": "stream",
          "name": "stderr",
          "text": [
            "      20/50       2.2G      1.061      0.829      1.325         31        640: 100%|██████████| 310/310 [01:33<00:00,  3.33it/s]\n",
            "                 Class     Images  Instances      Box(P          R      mAP50  mAP50-95): 100%|██████████| 7/7 [00:02<00:00,  3.04it/s]"
          ]
        },
        {
          "output_type": "stream",
          "name": "stdout",
          "text": [
            "                   all        220        307      0.899      0.781      0.818      0.581\n"
          ]
        },
        {
          "output_type": "stream",
          "name": "stderr",
          "text": [
            "\n"
          ]
        },
        {
          "output_type": "stream",
          "name": "stdout",
          "text": [
            "\n",
            "      Epoch    GPU_mem   box_loss   cls_loss   dfl_loss  Instances       Size\n"
          ]
        },
        {
          "output_type": "stream",
          "name": "stderr",
          "text": [
            "      21/50      2.23G      1.065     0.8183      1.322         41        640: 100%|██████████| 310/310 [01:33<00:00,  3.33it/s]\n",
            "                 Class     Images  Instances      Box(P          R      mAP50  mAP50-95): 100%|██████████| 7/7 [00:02<00:00,  3.49it/s]"
          ]
        },
        {
          "output_type": "stream",
          "name": "stdout",
          "text": [
            "                   all        220        307      0.863      0.788      0.826      0.576\n"
          ]
        },
        {
          "output_type": "stream",
          "name": "stderr",
          "text": [
            "\n"
          ]
        },
        {
          "output_type": "stream",
          "name": "stdout",
          "text": [
            "\n",
            "      Epoch    GPU_mem   box_loss   cls_loss   dfl_loss  Instances       Size\n"
          ]
        },
        {
          "output_type": "stream",
          "name": "stderr",
          "text": [
            "      22/50      2.21G      1.044     0.8011      1.315         24        640: 100%|██████████| 310/310 [01:34<00:00,  3.29it/s]\n",
            "                 Class     Images  Instances      Box(P          R      mAP50  mAP50-95): 100%|██████████| 7/7 [00:02<00:00,  3.22it/s]"
          ]
        },
        {
          "output_type": "stream",
          "name": "stdout",
          "text": [
            "                   all        220        307      0.889      0.781      0.817      0.596\n"
          ]
        },
        {
          "output_type": "stream",
          "name": "stderr",
          "text": [
            "\n"
          ]
        },
        {
          "output_type": "stream",
          "name": "stdout",
          "text": [
            "\n",
            "      Epoch    GPU_mem   box_loss   cls_loss   dfl_loss  Instances       Size\n"
          ]
        },
        {
          "output_type": "stream",
          "name": "stderr",
          "text": [
            "      23/50      2.21G      1.037     0.7965      1.311         44        640: 100%|██████████| 310/310 [01:34<00:00,  3.30it/s]\n",
            "                 Class     Images  Instances      Box(P          R      mAP50  mAP50-95): 100%|██████████| 7/7 [00:01<00:00,  3.78it/s]"
          ]
        },
        {
          "output_type": "stream",
          "name": "stdout",
          "text": [
            "                   all        220        307      0.876      0.779      0.823      0.587\n"
          ]
        },
        {
          "output_type": "stream",
          "name": "stderr",
          "text": [
            "\n"
          ]
        },
        {
          "output_type": "stream",
          "name": "stdout",
          "text": [
            "\n",
            "      Epoch    GPU_mem   box_loss   cls_loss   dfl_loss  Instances       Size\n"
          ]
        },
        {
          "output_type": "stream",
          "name": "stderr",
          "text": [
            "      24/50      2.21G      1.024     0.7868      1.296         36        640: 100%|██████████| 310/310 [01:34<00:00,  3.30it/s]\n",
            "                 Class     Images  Instances      Box(P          R      mAP50  mAP50-95): 100%|██████████| 7/7 [00:01<00:00,  3.64it/s]"
          ]
        },
        {
          "output_type": "stream",
          "name": "stdout",
          "text": [
            "                   all        220        307      0.932      0.769      0.829      0.595\n"
          ]
        },
        {
          "output_type": "stream",
          "name": "stderr",
          "text": [
            "\n"
          ]
        },
        {
          "output_type": "stream",
          "name": "stdout",
          "text": [
            "\n",
            "      Epoch    GPU_mem   box_loss   cls_loss   dfl_loss  Instances       Size\n"
          ]
        },
        {
          "output_type": "stream",
          "name": "stderr",
          "text": [
            "      25/50      2.25G       1.03     0.7927      1.302         40        640: 100%|██████████| 310/310 [01:33<00:00,  3.33it/s]\n",
            "                 Class     Images  Instances      Box(P          R      mAP50  mAP50-95): 100%|██████████| 7/7 [00:02<00:00,  2.65it/s]"
          ]
        },
        {
          "output_type": "stream",
          "name": "stdout",
          "text": [
            "                   all        220        307      0.906      0.789      0.828      0.587\n"
          ]
        },
        {
          "output_type": "stream",
          "name": "stderr",
          "text": [
            "\n"
          ]
        },
        {
          "output_type": "stream",
          "name": "stdout",
          "text": [
            "\n",
            "      Epoch    GPU_mem   box_loss   cls_loss   dfl_loss  Instances       Size\n"
          ]
        },
        {
          "output_type": "stream",
          "name": "stderr",
          "text": [
            "      26/50       2.2G      1.017     0.7701      1.295         38        640: 100%|██████████| 310/310 [01:32<00:00,  3.34it/s]\n",
            "                 Class     Images  Instances      Box(P          R      mAP50  mAP50-95): 100%|██████████| 7/7 [00:03<00:00,  2.32it/s]"
          ]
        },
        {
          "output_type": "stream",
          "name": "stdout",
          "text": [
            "                   all        220        307      0.921      0.772      0.832        0.6\n"
          ]
        },
        {
          "output_type": "stream",
          "name": "stderr",
          "text": [
            "\n"
          ]
        },
        {
          "output_type": "stream",
          "name": "stdout",
          "text": [
            "\n",
            "      Epoch    GPU_mem   box_loss   cls_loss   dfl_loss  Instances       Size\n"
          ]
        },
        {
          "output_type": "stream",
          "name": "stderr",
          "text": [
            "      27/50      2.25G       1.01      0.777      1.292         36        640: 100%|██████████| 310/310 [01:32<00:00,  3.34it/s]\n",
            "                 Class     Images  Instances      Box(P          R      mAP50  mAP50-95): 100%|██████████| 7/7 [00:02<00:00,  2.83it/s]"
          ]
        },
        {
          "output_type": "stream",
          "name": "stdout",
          "text": [
            "                   all        220        307      0.885      0.779      0.827      0.588\n"
          ]
        },
        {
          "output_type": "stream",
          "name": "stderr",
          "text": [
            "\n"
          ]
        },
        {
          "output_type": "stream",
          "name": "stdout",
          "text": [
            "\n",
            "      Epoch    GPU_mem   box_loss   cls_loss   dfl_loss  Instances       Size\n"
          ]
        },
        {
          "output_type": "stream",
          "name": "stderr",
          "text": [
            "      28/50      2.21G     0.9984     0.7568      1.278         38        640: 100%|██████████| 310/310 [01:33<00:00,  3.33it/s]\n",
            "                 Class     Images  Instances      Box(P          R      mAP50  mAP50-95): 100%|██████████| 7/7 [00:01<00:00,  3.54it/s]"
          ]
        },
        {
          "output_type": "stream",
          "name": "stdout",
          "text": [
            "                   all        220        307      0.921      0.755      0.832      0.596\n"
          ]
        },
        {
          "output_type": "stream",
          "name": "stderr",
          "text": [
            "\n"
          ]
        },
        {
          "output_type": "stream",
          "name": "stdout",
          "text": [
            "\n",
            "      Epoch    GPU_mem   box_loss   cls_loss   dfl_loss  Instances       Size\n"
          ]
        },
        {
          "output_type": "stream",
          "name": "stderr",
          "text": [
            "      29/50      2.22G     0.9994     0.7658      1.285         35        640: 100%|██████████| 310/310 [01:34<00:00,  3.29it/s]\n",
            "                 Class     Images  Instances      Box(P          R      mAP50  mAP50-95): 100%|██████████| 7/7 [00:01<00:00,  3.57it/s]"
          ]
        },
        {
          "output_type": "stream",
          "name": "stdout",
          "text": [
            "                   all        220        307        0.9      0.792      0.833      0.603\n"
          ]
        },
        {
          "output_type": "stream",
          "name": "stderr",
          "text": [
            "\n"
          ]
        },
        {
          "output_type": "stream",
          "name": "stdout",
          "text": [
            "\n",
            "      Epoch    GPU_mem   box_loss   cls_loss   dfl_loss  Instances       Size\n"
          ]
        },
        {
          "output_type": "stream",
          "name": "stderr",
          "text": [
            "      30/50      2.25G     0.9878      0.756      1.282         46        640: 100%|██████████| 310/310 [01:36<00:00,  3.20it/s]\n",
            "                 Class     Images  Instances      Box(P          R      mAP50  mAP50-95): 100%|██████████| 7/7 [00:01<00:00,  3.53it/s]"
          ]
        },
        {
          "output_type": "stream",
          "name": "stdout",
          "text": [
            "                   all        220        307      0.878        0.8      0.836      0.611\n"
          ]
        },
        {
          "output_type": "stream",
          "name": "stderr",
          "text": [
            "\n"
          ]
        },
        {
          "output_type": "stream",
          "name": "stdout",
          "text": [
            "\n",
            "      Epoch    GPU_mem   box_loss   cls_loss   dfl_loss  Instances       Size\n"
          ]
        },
        {
          "output_type": "stream",
          "name": "stderr",
          "text": [
            "      31/50      2.22G     0.9731     0.7406      1.266         39        640: 100%|██████████| 310/310 [01:34<00:00,  3.28it/s]\n",
            "                 Class     Images  Instances      Box(P          R      mAP50  mAP50-95): 100%|██████████| 7/7 [00:01<00:00,  3.75it/s]"
          ]
        },
        {
          "output_type": "stream",
          "name": "stdout",
          "text": [
            "                   all        220        307      0.884      0.795      0.827      0.612\n"
          ]
        },
        {
          "output_type": "stream",
          "name": "stderr",
          "text": [
            "\n"
          ]
        },
        {
          "output_type": "stream",
          "name": "stdout",
          "text": [
            "\n",
            "      Epoch    GPU_mem   box_loss   cls_loss   dfl_loss  Instances       Size\n"
          ]
        },
        {
          "output_type": "stream",
          "name": "stderr",
          "text": [
            "      32/50       2.2G     0.9727     0.7341      1.268         49        640: 100%|██████████| 310/310 [01:34<00:00,  3.27it/s]\n",
            "                 Class     Images  Instances      Box(P          R      mAP50  mAP50-95): 100%|██████████| 7/7 [00:02<00:00,  3.35it/s]"
          ]
        },
        {
          "output_type": "stream",
          "name": "stdout",
          "text": [
            "                   all        220        307       0.87      0.803      0.826      0.603\n"
          ]
        },
        {
          "output_type": "stream",
          "name": "stderr",
          "text": [
            "\n"
          ]
        },
        {
          "output_type": "stream",
          "name": "stdout",
          "text": [
            "\n",
            "      Epoch    GPU_mem   box_loss   cls_loss   dfl_loss  Instances       Size\n"
          ]
        },
        {
          "output_type": "stream",
          "name": "stderr",
          "text": [
            "      33/50      2.21G     0.9616     0.7166      1.254         38        640: 100%|██████████| 310/310 [01:36<00:00,  3.22it/s]\n",
            "                 Class     Images  Instances      Box(P          R      mAP50  mAP50-95): 100%|██████████| 7/7 [00:02<00:00,  3.36it/s]"
          ]
        },
        {
          "output_type": "stream",
          "name": "stdout",
          "text": [
            "                   all        220        307      0.898      0.788      0.837      0.607\n"
          ]
        },
        {
          "output_type": "stream",
          "name": "stderr",
          "text": [
            "\n"
          ]
        },
        {
          "output_type": "stream",
          "name": "stdout",
          "text": [
            "\n",
            "      Epoch    GPU_mem   box_loss   cls_loss   dfl_loss  Instances       Size\n"
          ]
        },
        {
          "output_type": "stream",
          "name": "stderr",
          "text": [
            "      34/50       2.2G     0.9599     0.7152       1.25         31        640: 100%|██████████| 310/310 [01:35<00:00,  3.23it/s]\n",
            "                 Class     Images  Instances      Box(P          R      mAP50  mAP50-95): 100%|██████████| 7/7 [00:02<00:00,  3.18it/s]"
          ]
        },
        {
          "output_type": "stream",
          "name": "stdout",
          "text": [
            "                   all        220        307      0.907      0.797      0.833      0.613\n"
          ]
        },
        {
          "output_type": "stream",
          "name": "stderr",
          "text": [
            "\n"
          ]
        },
        {
          "output_type": "stream",
          "name": "stdout",
          "text": [
            "\n",
            "      Epoch    GPU_mem   box_loss   cls_loss   dfl_loss  Instances       Size\n"
          ]
        },
        {
          "output_type": "stream",
          "name": "stderr",
          "text": [
            "      35/50      2.21G     0.9691     0.7254      1.261         30        640: 100%|██████████| 310/310 [01:35<00:00,  3.25it/s]\n",
            "                 Class     Images  Instances      Box(P          R      mAP50  mAP50-95): 100%|██████████| 7/7 [00:02<00:00,  3.40it/s]"
          ]
        },
        {
          "output_type": "stream",
          "name": "stdout",
          "text": [
            "                   all        220        307      0.865      0.785      0.827        0.6\n"
          ]
        },
        {
          "output_type": "stream",
          "name": "stderr",
          "text": [
            "\n"
          ]
        },
        {
          "output_type": "stream",
          "name": "stdout",
          "text": [
            "\n",
            "      Epoch    GPU_mem   box_loss   cls_loss   dfl_loss  Instances       Size\n"
          ]
        },
        {
          "output_type": "stream",
          "name": "stderr",
          "text": [
            "      36/50       2.2G     0.9366     0.6913      1.241         32        640: 100%|██████████| 310/310 [01:34<00:00,  3.27it/s]\n",
            "                 Class     Images  Instances      Box(P          R      mAP50  mAP50-95): 100%|██████████| 7/7 [00:02<00:00,  3.12it/s]"
          ]
        },
        {
          "output_type": "stream",
          "name": "stdout",
          "text": [
            "                   all        220        307      0.902      0.777      0.832      0.611\n"
          ]
        },
        {
          "output_type": "stream",
          "name": "stderr",
          "text": [
            "\n"
          ]
        },
        {
          "output_type": "stream",
          "name": "stdout",
          "text": [
            "\n",
            "      Epoch    GPU_mem   box_loss   cls_loss   dfl_loss  Instances       Size\n"
          ]
        },
        {
          "output_type": "stream",
          "name": "stderr",
          "text": [
            "      37/50      2.23G      0.943     0.7009      1.238         41        640: 100%|██████████| 310/310 [01:33<00:00,  3.30it/s]\n",
            "                 Class     Images  Instances      Box(P          R      mAP50  mAP50-95): 100%|██████████| 7/7 [00:01<00:00,  3.64it/s]"
          ]
        },
        {
          "output_type": "stream",
          "name": "stdout",
          "text": [
            "                   all        220        307      0.907      0.798      0.842      0.616\n"
          ]
        },
        {
          "output_type": "stream",
          "name": "stderr",
          "text": [
            "\n"
          ]
        },
        {
          "output_type": "stream",
          "name": "stdout",
          "text": [
            "\n",
            "      Epoch    GPU_mem   box_loss   cls_loss   dfl_loss  Instances       Size\n"
          ]
        },
        {
          "output_type": "stream",
          "name": "stderr",
          "text": [
            "      38/50      2.26G     0.9267     0.6935      1.227         40        640: 100%|██████████| 310/310 [01:34<00:00,  3.29it/s]\n",
            "                 Class     Images  Instances      Box(P          R      mAP50  mAP50-95): 100%|██████████| 7/7 [00:02<00:00,  3.44it/s]"
          ]
        },
        {
          "output_type": "stream",
          "name": "stdout",
          "text": [
            "                   all        220        307      0.865      0.795      0.837      0.613\n"
          ]
        },
        {
          "output_type": "stream",
          "name": "stderr",
          "text": [
            "\n"
          ]
        },
        {
          "output_type": "stream",
          "name": "stdout",
          "text": [
            "\n",
            "      Epoch    GPU_mem   box_loss   cls_loss   dfl_loss  Instances       Size\n"
          ]
        },
        {
          "output_type": "stream",
          "name": "stderr",
          "text": [
            "      39/50      2.21G     0.9377     0.6993      1.238         44        640: 100%|██████████| 310/310 [01:36<00:00,  3.22it/s]\n",
            "                 Class     Images  Instances      Box(P          R      mAP50  mAP50-95): 100%|██████████| 7/7 [00:01<00:00,  3.73it/s]"
          ]
        },
        {
          "output_type": "stream",
          "name": "stdout",
          "text": [
            "                   all        220        307      0.896      0.801      0.834       0.62\n"
          ]
        },
        {
          "output_type": "stream",
          "name": "stderr",
          "text": [
            "\n"
          ]
        },
        {
          "output_type": "stream",
          "name": "stdout",
          "text": [
            "\n",
            "      Epoch    GPU_mem   box_loss   cls_loss   dfl_loss  Instances       Size\n"
          ]
        },
        {
          "output_type": "stream",
          "name": "stderr",
          "text": [
            "      40/50      2.22G      0.928     0.6892      1.231         37        640: 100%|██████████| 310/310 [01:35<00:00,  3.26it/s]\n",
            "                 Class     Images  Instances      Box(P          R      mAP50  mAP50-95): 100%|██████████| 7/7 [00:01<00:00,  3.55it/s]"
          ]
        },
        {
          "output_type": "stream",
          "name": "stdout",
          "text": [
            "                   all        220        307      0.888      0.798       0.84      0.615\n"
          ]
        },
        {
          "output_type": "stream",
          "name": "stderr",
          "text": [
            "\n"
          ]
        },
        {
          "output_type": "stream",
          "name": "stdout",
          "text": [
            "Closing dataloader mosaic\n",
            "\u001b[34m\u001b[1malbumentations: \u001b[0mBlur(p=0.01, blur_limit=(3, 7)), MedianBlur(p=0.01, blur_limit=(3, 7)), ToGray(p=0.01, num_output_channels=3, method='weighted_average'), CLAHE(p=0.01, clip_limit=(1.0, 4.0), tile_grid_size=(8, 8))\n",
            "\n",
            "      Epoch    GPU_mem   box_loss   cls_loss   dfl_loss  Instances       Size\n"
          ]
        },
        {
          "output_type": "stream",
          "name": "stderr",
          "text": [
            "      41/50      2.27G     0.8585     0.5926      1.223         23        640: 100%|██████████| 310/310 [01:33<00:00,  3.31it/s]\n",
            "                 Class     Images  Instances      Box(P          R      mAP50  mAP50-95): 100%|██████████| 7/7 [00:01<00:00,  3.51it/s]"
          ]
        },
        {
          "output_type": "stream",
          "name": "stdout",
          "text": [
            "                   all        220        307      0.869      0.821      0.849      0.621\n"
          ]
        },
        {
          "output_type": "stream",
          "name": "stderr",
          "text": [
            "\n"
          ]
        },
        {
          "output_type": "stream",
          "name": "stdout",
          "text": [
            "\n",
            "      Epoch    GPU_mem   box_loss   cls_loss   dfl_loss  Instances       Size\n"
          ]
        },
        {
          "output_type": "stream",
          "name": "stderr",
          "text": [
            "      42/50      2.21G     0.8518     0.5716      1.209         19        640: 100%|██████████| 310/310 [01:31<00:00,  3.39it/s]\n",
            "                 Class     Images  Instances      Box(P          R      mAP50  mAP50-95): 100%|██████████| 7/7 [00:02<00:00,  2.46it/s]"
          ]
        },
        {
          "output_type": "stream",
          "name": "stdout",
          "text": [
            "                   all        220        307      0.907      0.792      0.848      0.623\n"
          ]
        },
        {
          "output_type": "stream",
          "name": "stderr",
          "text": [
            "\n"
          ]
        },
        {
          "output_type": "stream",
          "name": "stdout",
          "text": [
            "\n",
            "      Epoch    GPU_mem   box_loss   cls_loss   dfl_loss  Instances       Size\n"
          ]
        },
        {
          "output_type": "stream",
          "name": "stderr",
          "text": [
            "      43/50      2.21G     0.8365     0.5656      1.204         23        640: 100%|██████████| 310/310 [01:30<00:00,  3.41it/s]\n",
            "                 Class     Images  Instances      Box(P          R      mAP50  mAP50-95): 100%|██████████| 7/7 [00:02<00:00,  3.42it/s]"
          ]
        },
        {
          "output_type": "stream",
          "name": "stdout",
          "text": [
            "                   all        220        307      0.904      0.788       0.84       0.62\n"
          ]
        },
        {
          "output_type": "stream",
          "name": "stderr",
          "text": [
            "\n"
          ]
        },
        {
          "output_type": "stream",
          "name": "stdout",
          "text": [
            "\n",
            "      Epoch    GPU_mem   box_loss   cls_loss   dfl_loss  Instances       Size\n"
          ]
        },
        {
          "output_type": "stream",
          "name": "stderr",
          "text": [
            "      44/50       2.2G     0.8352     0.5547      1.198         19        640: 100%|██████████| 310/310 [01:32<00:00,  3.36it/s]\n",
            "                 Class     Images  Instances      Box(P          R      mAP50  mAP50-95): 100%|██████████| 7/7 [00:01<00:00,  3.64it/s]"
          ]
        },
        {
          "output_type": "stream",
          "name": "stdout",
          "text": [
            "                   all        220        307       0.94      0.779      0.845      0.621\n"
          ]
        },
        {
          "output_type": "stream",
          "name": "stderr",
          "text": [
            "\n"
          ]
        },
        {
          "output_type": "stream",
          "name": "stdout",
          "text": [
            "\n",
            "      Epoch    GPU_mem   box_loss   cls_loss   dfl_loss  Instances       Size\n"
          ]
        },
        {
          "output_type": "stream",
          "name": "stderr",
          "text": [
            "      45/50      2.21G     0.8229     0.5489      1.192         15        640: 100%|██████████| 310/310 [01:30<00:00,  3.42it/s]\n",
            "                 Class     Images  Instances      Box(P          R      mAP50  mAP50-95): 100%|██████████| 7/7 [00:03<00:00,  2.27it/s]"
          ]
        },
        {
          "output_type": "stream",
          "name": "stdout",
          "text": [
            "                   all        220        307       0.93      0.782      0.844      0.623\n"
          ]
        },
        {
          "output_type": "stream",
          "name": "stderr",
          "text": [
            "\n"
          ]
        },
        {
          "output_type": "stream",
          "name": "stdout",
          "text": [
            "\n",
            "      Epoch    GPU_mem   box_loss   cls_loss   dfl_loss  Instances       Size\n"
          ]
        },
        {
          "output_type": "stream",
          "name": "stderr",
          "text": [
            "      46/50       2.2G      0.824     0.5459      1.189         17        640: 100%|██████████| 310/310 [01:29<00:00,  3.46it/s]\n",
            "                 Class     Images  Instances      Box(P          R      mAP50  mAP50-95): 100%|██████████| 7/7 [00:01<00:00,  3.73it/s]"
          ]
        },
        {
          "output_type": "stream",
          "name": "stdout",
          "text": [
            "                   all        220        307      0.918      0.785      0.842      0.617\n"
          ]
        },
        {
          "output_type": "stream",
          "name": "stderr",
          "text": [
            "\n"
          ]
        },
        {
          "output_type": "stream",
          "name": "stdout",
          "text": [
            "\n",
            "      Epoch    GPU_mem   box_loss   cls_loss   dfl_loss  Instances       Size\n"
          ]
        },
        {
          "output_type": "stream",
          "name": "stderr",
          "text": [
            "      47/50       2.2G     0.8064      0.534      1.172         18        640: 100%|██████████| 310/310 [01:30<00:00,  3.42it/s]\n",
            "                 Class     Images  Instances      Box(P          R      mAP50  mAP50-95): 100%|██████████| 7/7 [00:02<00:00,  3.17it/s]"
          ]
        },
        {
          "output_type": "stream",
          "name": "stdout",
          "text": [
            "                   all        220        307       0.91      0.798      0.845      0.629\n"
          ]
        },
        {
          "output_type": "stream",
          "name": "stderr",
          "text": [
            "\n"
          ]
        },
        {
          "output_type": "stream",
          "name": "stdout",
          "text": [
            "\n",
            "      Epoch    GPU_mem   box_loss   cls_loss   dfl_loss  Instances       Size\n"
          ]
        },
        {
          "output_type": "stream",
          "name": "stderr",
          "text": [
            "      48/50       2.2G     0.8028     0.5319      1.182         19        640: 100%|██████████| 310/310 [01:29<00:00,  3.47it/s]\n",
            "                 Class     Images  Instances      Box(P          R      mAP50  mAP50-95): 100%|██████████| 7/7 [00:01<00:00,  3.68it/s]"
          ]
        },
        {
          "output_type": "stream",
          "name": "stdout",
          "text": [
            "                   all        220        307      0.913      0.789      0.843      0.626\n"
          ]
        },
        {
          "output_type": "stream",
          "name": "stderr",
          "text": [
            "\n"
          ]
        },
        {
          "output_type": "stream",
          "name": "stdout",
          "text": [
            "\n",
            "      Epoch    GPU_mem   box_loss   cls_loss   dfl_loss  Instances       Size\n"
          ]
        },
        {
          "output_type": "stream",
          "name": "stderr",
          "text": [
            "      49/50      2.21G     0.7894     0.5282      1.171         17        640: 100%|██████████| 310/310 [01:30<00:00,  3.42it/s]\n",
            "                 Class     Images  Instances      Box(P          R      mAP50  mAP50-95): 100%|██████████| 7/7 [00:02<00:00,  3.47it/s]"
          ]
        },
        {
          "output_type": "stream",
          "name": "stdout",
          "text": [
            "                   all        220        307      0.923      0.784      0.844      0.625\n"
          ]
        },
        {
          "output_type": "stream",
          "name": "stderr",
          "text": [
            "\n"
          ]
        },
        {
          "output_type": "stream",
          "name": "stdout",
          "text": [
            "\n",
            "      Epoch    GPU_mem   box_loss   cls_loss   dfl_loss  Instances       Size\n"
          ]
        },
        {
          "output_type": "stream",
          "name": "stderr",
          "text": [
            "      50/50       2.2G     0.7916     0.5218      1.171         15        640: 100%|██████████| 310/310 [01:29<00:00,  3.46it/s]\n",
            "                 Class     Images  Instances      Box(P          R      mAP50  mAP50-95): 100%|██████████| 7/7 [00:02<00:00,  2.58it/s]"
          ]
        },
        {
          "output_type": "stream",
          "name": "stdout",
          "text": [
            "                   all        220        307       0.92      0.788      0.845       0.63\n"
          ]
        },
        {
          "output_type": "stream",
          "name": "stderr",
          "text": [
            "\n"
          ]
        },
        {
          "output_type": "stream",
          "name": "stdout",
          "text": [
            "\n",
            "50 epochs completed in 1.348 hours.\n",
            "Optimizer stripped from runs/detect/train4/weights/last.pt, 5.5MB\n",
            "Optimizer stripped from runs/detect/train4/weights/best.pt, 5.5MB\n",
            "\n",
            "Validating runs/detect/train4/weights/best.pt...\n",
            "Ultralytics 8.3.82 🚀 Python-3.11.11 torch-2.5.1+cu124 CUDA:0 (Tesla T4, 15095MiB)\n",
            "YOLO11n summary (fused): 100 layers, 2,582,347 parameters, 0 gradients, 6.3 GFLOPs\n"
          ]
        },
        {
          "output_type": "stream",
          "name": "stderr",
          "text": [
            "                 Class     Images  Instances      Box(P          R      mAP50  mAP50-95): 100%|██████████| 7/7 [00:03<00:00,  1.79it/s]\n"
          ]
        },
        {
          "output_type": "stream",
          "name": "stdout",
          "text": [
            "                   all        220        307      0.919      0.788      0.845       0.63\n",
            "Speed: 0.5ms preprocess, 2.8ms inference, 0.0ms loss, 4.3ms postprocess per image\n",
            "Results saved to \u001b[1mruns/detect/train4\u001b[0m\n"
          ]
        },
        {
          "output_type": "execute_result",
          "data": {
            "text/plain": [
              "ultralytics.utils.metrics.DetMetrics object with attributes:\n",
              "\n",
              "ap_class_index: array([0])\n",
              "box: ultralytics.utils.metrics.Metric object\n",
              "confusion_matrix: <ultralytics.utils.metrics.ConfusionMatrix object at 0x7beefb50f310>\n",
              "curves: ['Precision-Recall(B)', 'F1-Confidence(B)', 'Precision-Confidence(B)', 'Recall-Confidence(B)']\n",
              "curves_results: [[array([          0,    0.001001,    0.002002,    0.003003,    0.004004,    0.005005,    0.006006,    0.007007,    0.008008,    0.009009,     0.01001,    0.011011,    0.012012,    0.013013,    0.014014,    0.015015,    0.016016,    0.017017,    0.018018,    0.019019,     0.02002,    0.021021,    0.022022,    0.023023,\n",
              "          0.024024,    0.025025,    0.026026,    0.027027,    0.028028,    0.029029,     0.03003,    0.031031,    0.032032,    0.033033,    0.034034,    0.035035,    0.036036,    0.037037,    0.038038,    0.039039,     0.04004,    0.041041,    0.042042,    0.043043,    0.044044,    0.045045,    0.046046,    0.047047,\n",
              "          0.048048,    0.049049,     0.05005,    0.051051,    0.052052,    0.053053,    0.054054,    0.055055,    0.056056,    0.057057,    0.058058,    0.059059,     0.06006,    0.061061,    0.062062,    0.063063,    0.064064,    0.065065,    0.066066,    0.067067,    0.068068,    0.069069,     0.07007,    0.071071,\n",
              "          0.072072,    0.073073,    0.074074,    0.075075,    0.076076,    0.077077,    0.078078,    0.079079,     0.08008,    0.081081,    0.082082,    0.083083,    0.084084,    0.085085,    0.086086,    0.087087,    0.088088,    0.089089,     0.09009,    0.091091,    0.092092,    0.093093,    0.094094,    0.095095,\n",
              "          0.096096,    0.097097,    0.098098,    0.099099,      0.1001,      0.1011,      0.1021,      0.1031,      0.1041,     0.10511,     0.10611,     0.10711,     0.10811,     0.10911,     0.11011,     0.11111,     0.11211,     0.11311,     0.11411,     0.11512,     0.11612,     0.11712,     0.11812,     0.11912,\n",
              "           0.12012,     0.12112,     0.12212,     0.12312,     0.12412,     0.12513,     0.12613,     0.12713,     0.12813,     0.12913,     0.13013,     0.13113,     0.13213,     0.13313,     0.13413,     0.13514,     0.13614,     0.13714,     0.13814,     0.13914,     0.14014,     0.14114,     0.14214,     0.14314,\n",
              "           0.14414,     0.14515,     0.14615,     0.14715,     0.14815,     0.14915,     0.15015,     0.15115,     0.15215,     0.15315,     0.15415,     0.15516,     0.15616,     0.15716,     0.15816,     0.15916,     0.16016,     0.16116,     0.16216,     0.16316,     0.16416,     0.16517,     0.16617,     0.16717,\n",
              "           0.16817,     0.16917,     0.17017,     0.17117,     0.17217,     0.17317,     0.17417,     0.17518,     0.17618,     0.17718,     0.17818,     0.17918,     0.18018,     0.18118,     0.18218,     0.18318,     0.18418,     0.18519,     0.18619,     0.18719,     0.18819,     0.18919,     0.19019,     0.19119,\n",
              "           0.19219,     0.19319,     0.19419,      0.1952,      0.1962,      0.1972,      0.1982,      0.1992,      0.2002,      0.2012,      0.2022,      0.2032,      0.2042,     0.20521,     0.20621,     0.20721,     0.20821,     0.20921,     0.21021,     0.21121,     0.21221,     0.21321,     0.21421,     0.21522,\n",
              "           0.21622,     0.21722,     0.21822,     0.21922,     0.22022,     0.22122,     0.22222,     0.22322,     0.22422,     0.22523,     0.22623,     0.22723,     0.22823,     0.22923,     0.23023,     0.23123,     0.23223,     0.23323,     0.23423,     0.23524,     0.23624,     0.23724,     0.23824,     0.23924,\n",
              "           0.24024,     0.24124,     0.24224,     0.24324,     0.24424,     0.24525,     0.24625,     0.24725,     0.24825,     0.24925,     0.25025,     0.25125,     0.25225,     0.25325,     0.25425,     0.25526,     0.25626,     0.25726,     0.25826,     0.25926,     0.26026,     0.26126,     0.26226,     0.26326,\n",
              "           0.26426,     0.26527,     0.26627,     0.26727,     0.26827,     0.26927,     0.27027,     0.27127,     0.27227,     0.27327,     0.27427,     0.27528,     0.27628,     0.27728,     0.27828,     0.27928,     0.28028,     0.28128,     0.28228,     0.28328,     0.28428,     0.28529,     0.28629,     0.28729,\n",
              "           0.28829,     0.28929,     0.29029,     0.29129,     0.29229,     0.29329,     0.29429,      0.2953,      0.2963,      0.2973,      0.2983,      0.2993,      0.3003,      0.3013,      0.3023,      0.3033,      0.3043,     0.30531,     0.30631,     0.30731,     0.30831,     0.30931,     0.31031,     0.31131,\n",
              "           0.31231,     0.31331,     0.31431,     0.31532,     0.31632,     0.31732,     0.31832,     0.31932,     0.32032,     0.32132,     0.32232,     0.32332,     0.32432,     0.32533,     0.32633,     0.32733,     0.32833,     0.32933,     0.33033,     0.33133,     0.33233,     0.33333,     0.33433,     0.33534,\n",
              "           0.33634,     0.33734,     0.33834,     0.33934,     0.34034,     0.34134,     0.34234,     0.34334,     0.34434,     0.34535,     0.34635,     0.34735,     0.34835,     0.34935,     0.35035,     0.35135,     0.35235,     0.35335,     0.35435,     0.35536,     0.35636,     0.35736,     0.35836,     0.35936,\n",
              "           0.36036,     0.36136,     0.36236,     0.36336,     0.36436,     0.36537,     0.36637,     0.36737,     0.36837,     0.36937,     0.37037,     0.37137,     0.37237,     0.37337,     0.37437,     0.37538,     0.37638,     0.37738,     0.37838,     0.37938,     0.38038,     0.38138,     0.38238,     0.38338,\n",
              "           0.38438,     0.38539,     0.38639,     0.38739,     0.38839,     0.38939,     0.39039,     0.39139,     0.39239,     0.39339,     0.39439,      0.3954,      0.3964,      0.3974,      0.3984,      0.3994,      0.4004,      0.4014,      0.4024,      0.4034,      0.4044,     0.40541,     0.40641,     0.40741,\n",
              "           0.40841,     0.40941,     0.41041,     0.41141,     0.41241,     0.41341,     0.41441,     0.41542,     0.41642,     0.41742,     0.41842,     0.41942,     0.42042,     0.42142,     0.42242,     0.42342,     0.42442,     0.42543,     0.42643,     0.42743,     0.42843,     0.42943,     0.43043,     0.43143,\n",
              "           0.43243,     0.43343,     0.43443,     0.43544,     0.43644,     0.43744,     0.43844,     0.43944,     0.44044,     0.44144,     0.44244,     0.44344,     0.44444,     0.44545,     0.44645,     0.44745,     0.44845,     0.44945,     0.45045,     0.45145,     0.45245,     0.45345,     0.45445,     0.45546,\n",
              "           0.45646,     0.45746,     0.45846,     0.45946,     0.46046,     0.46146,     0.46246,     0.46346,     0.46446,     0.46547,     0.46647,     0.46747,     0.46847,     0.46947,     0.47047,     0.47147,     0.47247,     0.47347,     0.47447,     0.47548,     0.47648,     0.47748,     0.47848,     0.47948,\n",
              "           0.48048,     0.48148,     0.48248,     0.48348,     0.48448,     0.48549,     0.48649,     0.48749,     0.48849,     0.48949,     0.49049,     0.49149,     0.49249,     0.49349,     0.49449,      0.4955,      0.4965,      0.4975,      0.4985,      0.4995,      0.5005,      0.5015,      0.5025,      0.5035,\n",
              "            0.5045,     0.50551,     0.50651,     0.50751,     0.50851,     0.50951,     0.51051,     0.51151,     0.51251,     0.51351,     0.51451,     0.51552,     0.51652,     0.51752,     0.51852,     0.51952,     0.52052,     0.52152,     0.52252,     0.52352,     0.52452,     0.52553,     0.52653,     0.52753,\n",
              "           0.52853,     0.52953,     0.53053,     0.53153,     0.53253,     0.53353,     0.53453,     0.53554,     0.53654,     0.53754,     0.53854,     0.53954,     0.54054,     0.54154,     0.54254,     0.54354,     0.54454,     0.54555,     0.54655,     0.54755,     0.54855,     0.54955,     0.55055,     0.55155,\n",
              "           0.55255,     0.55355,     0.55455,     0.55556,     0.55656,     0.55756,     0.55856,     0.55956,     0.56056,     0.56156,     0.56256,     0.56356,     0.56456,     0.56557,     0.56657,     0.56757,     0.56857,     0.56957,     0.57057,     0.57157,     0.57257,     0.57357,     0.57457,     0.57558,\n",
              "           0.57658,     0.57758,     0.57858,     0.57958,     0.58058,     0.58158,     0.58258,     0.58358,     0.58458,     0.58559,     0.58659,     0.58759,     0.58859,     0.58959,     0.59059,     0.59159,     0.59259,     0.59359,     0.59459,      0.5956,      0.5966,      0.5976,      0.5986,      0.5996,\n",
              "            0.6006,      0.6016,      0.6026,      0.6036,      0.6046,     0.60561,     0.60661,     0.60761,     0.60861,     0.60961,     0.61061,     0.61161,     0.61261,     0.61361,     0.61461,     0.61562,     0.61662,     0.61762,     0.61862,     0.61962,     0.62062,     0.62162,     0.62262,     0.62362,\n",
              "           0.62462,     0.62563,     0.62663,     0.62763,     0.62863,     0.62963,     0.63063,     0.63163,     0.63263,     0.63363,     0.63463,     0.63564,     0.63664,     0.63764,     0.63864,     0.63964,     0.64064,     0.64164,     0.64264,     0.64364,     0.64464,     0.64565,     0.64665,     0.64765,\n",
              "           0.64865,     0.64965,     0.65065,     0.65165,     0.65265,     0.65365,     0.65465,     0.65566,     0.65666,     0.65766,     0.65866,     0.65966,     0.66066,     0.66166,     0.66266,     0.66366,     0.66466,     0.66567,     0.66667,     0.66767,     0.66867,     0.66967,     0.67067,     0.67167,\n",
              "           0.67267,     0.67367,     0.67467,     0.67568,     0.67668,     0.67768,     0.67868,     0.67968,     0.68068,     0.68168,     0.68268,     0.68368,     0.68468,     0.68569,     0.68669,     0.68769,     0.68869,     0.68969,     0.69069,     0.69169,     0.69269,     0.69369,     0.69469,      0.6957,\n",
              "            0.6967,      0.6977,      0.6987,      0.6997,      0.7007,      0.7017,      0.7027,      0.7037,      0.7047,     0.70571,     0.70671,     0.70771,     0.70871,     0.70971,     0.71071,     0.71171,     0.71271,     0.71371,     0.71471,     0.71572,     0.71672,     0.71772,     0.71872,     0.71972,\n",
              "           0.72072,     0.72172,     0.72272,     0.72372,     0.72472,     0.72573,     0.72673,     0.72773,     0.72873,     0.72973,     0.73073,     0.73173,     0.73273,     0.73373,     0.73473,     0.73574,     0.73674,     0.73774,     0.73874,     0.73974,     0.74074,     0.74174,     0.74274,     0.74374,\n",
              "           0.74474,     0.74575,     0.74675,     0.74775,     0.74875,     0.74975,     0.75075,     0.75175,     0.75275,     0.75375,     0.75475,     0.75576,     0.75676,     0.75776,     0.75876,     0.75976,     0.76076,     0.76176,     0.76276,     0.76376,     0.76476,     0.76577,     0.76677,     0.76777,\n",
              "           0.76877,     0.76977,     0.77077,     0.77177,     0.77277,     0.77377,     0.77477,     0.77578,     0.77678,     0.77778,     0.77878,     0.77978,     0.78078,     0.78178,     0.78278,     0.78378,     0.78478,     0.78579,     0.78679,     0.78779,     0.78879,     0.78979,     0.79079,     0.79179,\n",
              "           0.79279,     0.79379,     0.79479,      0.7958,      0.7968,      0.7978,      0.7988,      0.7998,      0.8008,      0.8018,      0.8028,      0.8038,      0.8048,     0.80581,     0.80681,     0.80781,     0.80881,     0.80981,     0.81081,     0.81181,     0.81281,     0.81381,     0.81481,     0.81582,\n",
              "           0.81682,     0.81782,     0.81882,     0.81982,     0.82082,     0.82182,     0.82282,     0.82382,     0.82482,     0.82583,     0.82683,     0.82783,     0.82883,     0.82983,     0.83083,     0.83183,     0.83283,     0.83383,     0.83483,     0.83584,     0.83684,     0.83784,     0.83884,     0.83984,\n",
              "           0.84084,     0.84184,     0.84284,     0.84384,     0.84484,     0.84585,     0.84685,     0.84785,     0.84885,     0.84985,     0.85085,     0.85185,     0.85285,     0.85385,     0.85485,     0.85586,     0.85686,     0.85786,     0.85886,     0.85986,     0.86086,     0.86186,     0.86286,     0.86386,\n",
              "           0.86486,     0.86587,     0.86687,     0.86787,     0.86887,     0.86987,     0.87087,     0.87187,     0.87287,     0.87387,     0.87487,     0.87588,     0.87688,     0.87788,     0.87888,     0.87988,     0.88088,     0.88188,     0.88288,     0.88388,     0.88488,     0.88589,     0.88689,     0.88789,\n",
              "           0.88889,     0.88989,     0.89089,     0.89189,     0.89289,     0.89389,     0.89489,      0.8959,      0.8969,      0.8979,      0.8989,      0.8999,      0.9009,      0.9019,      0.9029,      0.9039,      0.9049,     0.90591,     0.90691,     0.90791,     0.90891,     0.90991,     0.91091,     0.91191,\n",
              "           0.91291,     0.91391,     0.91491,     0.91592,     0.91692,     0.91792,     0.91892,     0.91992,     0.92092,     0.92192,     0.92292,     0.92392,     0.92492,     0.92593,     0.92693,     0.92793,     0.92893,     0.92993,     0.93093,     0.93193,     0.93293,     0.93393,     0.93493,     0.93594,\n",
              "           0.93694,     0.93794,     0.93894,     0.93994,     0.94094,     0.94194,     0.94294,     0.94394,     0.94494,     0.94595,     0.94695,     0.94795,     0.94895,     0.94995,     0.95095,     0.95195,     0.95295,     0.95395,     0.95495,     0.95596,     0.95696,     0.95796,     0.95896,     0.95996,\n",
              "           0.96096,     0.96196,     0.96296,     0.96396,     0.96496,     0.96597,     0.96697,     0.96797,     0.96897,     0.96997,     0.97097,     0.97197,     0.97297,     0.97397,     0.97497,     0.97598,     0.97698,     0.97798,     0.97898,     0.97998,     0.98098,     0.98198,     0.98298,     0.98398,\n",
              "           0.98498,     0.98599,     0.98699,     0.98799,     0.98899,     0.98999,     0.99099,     0.99199,     0.99299,     0.99399,     0.99499,       0.996,       0.997,       0.998,       0.999,           1]), array([[          1,           1,           1,           1,           1,           1,           1,           1,           1,           1,           1,           1,           1,           1,           1,           1,           1,           1,           1,           1,           1,           1,           1,\n",
              "                  1,           1,           1,           1,           1,           1,           1,           1,           1,           1,           1,           1,           1,           1,           1,           1,           1,           1,           1,           1,           1,           1,           1,\n",
              "                  1,           1,           1,           1,           1,           1,           1,           1,           1,           1,           1,           1,           1,           1,           1,           1,           1,           1,           1,           1,           1,           1,           1,\n",
              "                  1,           1,           1,           1,           1,           1,           1,           1,           1,           1,           1,           1,           1,           1,           1,           1,           1,           1,           1,           1,           1,           1,           1,\n",
              "                  1,           1,           1,           1,           1,           1,           1,           1,           1,           1,           1,           1,           1,           1,           1,           1,           1,           1,           1,           1,           1,           1,           1,\n",
              "                  1,           1,           1,           1,           1,           1,           1,           1,           1,           1,           1,           1,           1,           1,           1,           1,           1,           1,           1,           1,           1,           1,           1,\n",
              "                  1,           1,           1,           1,           1,           1,           1,           1,           1,           1,           1,           1,           1,           1,           1,           1,           1,           1,           1,           1,           1,           1,           1,\n",
              "                  1,           1,           1,           1,           1,           1,           1,           1,           1,           1,           1,           1,           1,           1,           1,           1,           1,           1,           1,           1,           1,           1,           1,\n",
              "                  1,           1,           1,           1,           1,           1,           1,           1,           1,           1,           1,           1,           1,           1,           1,           1,           1,           1,           1,           1,           1,           1,           1,\n",
              "                  1,           1,           1,           1,           1,           1,           1,           1,           1,           1,           1,           1,           1,           1,           1,           1,           1,           1,           1,           1,           1,           1,           1,\n",
              "                  1,           1,           1,           1,           1,           1,           1,           1,           1,           1,           1,           1,           1,           1,           1,           1,           1,           1,           1,           1,           1,           1,           1,\n",
              "                  1,           1,           1,           1,           1,           1,           1,           1,           1,           1,           1,           1,           1,           1,           1,           1,           1,           1,           1,           1,           1,           1,           1,\n",
              "                  1,           1,           1,           1,           1,           1,           1,           1,           1,           1,           1,           1,           1,           1,           1,           1,           1,           1,           1,           1,           1,           1,           1,\n",
              "                  1,           1,           1,           1,           1,           1,           1,           1,           1,           1,           1,           1,           1,           1,           1,           1,           1,           1,           1,           1,           1,           1,           1,\n",
              "                  1,           1,           1,           1,           1,           1,           1,           1,           1,           1,           1,           1,           1,           1,           1,           1,           1,           1,           1,           1,           1,           1,           1,\n",
              "                  1,           1,           1,           1,           1,           1,           1,           1,           1,           1,           1,           1,           1,           1,           1,           1,           1,           1,           1,           1,           1,           1,           1,\n",
              "                  1,           1,           1,           1,           1,           1,           1,           1,           1,           1,           1,           1,           1,           1,           1,           1,           1,           1,           1,           1,           1,           1,           1,\n",
              "                  1,           1,           1,           1,           1,           1,           1,           1,           1,           1,           1,           1,           1,           1,           1,           1,           1,           1,           1,           1,           1,           1,           1,\n",
              "                  1,           1,           1,           1,           1,           1,           1,           1,           1,           1,           1,           1,           1,           1,           1,           1,           1,           1,           1,           1,           1,           1,           1,\n",
              "                  1,           1,           1,           1,           1,           1,     0.99371,     0.99371,     0.99371,     0.99371,     0.99371,     0.99371,     0.99371,     0.99371,     0.99371,     0.99371,     0.99371,     0.99371,     0.99371,     0.99371,     0.99371,     0.99371,     0.99371,\n",
              "            0.99371,     0.99371,     0.99371,     0.99371,     0.99371,     0.99371,     0.99371,     0.99371,     0.99371,     0.99371,     0.99371,     0.99371,     0.99371,     0.99371,     0.99371,     0.99371,     0.99371,     0.99371,     0.99371,     0.99371,     0.99371,     0.99371,     0.99371,\n",
              "            0.99371,     0.99371,     0.99371,     0.99371,     0.99371,     0.99371,     0.99371,     0.99371,     0.99371,     0.99371,     0.99371,     0.99371,     0.99371,     0.99371,     0.99371,     0.99371,     0.99371,     0.99371,     0.99371,     0.99371,     0.99371,     0.99371,     0.99371,\n",
              "            0.99371,     0.99371,     0.99371,     0.99371,     0.99371,     0.99371,     0.99371,     0.99371,     0.99371,     0.98883,     0.98883,     0.98883,     0.98883,     0.98883,     0.98883,     0.98883,     0.98883,     0.98883,     0.98883,     0.98883,     0.98883,     0.98883,     0.98883,\n",
              "            0.98883,     0.98883,     0.98883,     0.98883,     0.98883,     0.98883,     0.98883,     0.98883,     0.98883,     0.98883,     0.98883,     0.98883,     0.98883,     0.98883,     0.98883,     0.98883,     0.98883,     0.98883,     0.98883,     0.98883,     0.98883,     0.98883,     0.98883,\n",
              "            0.98883,     0.98883,     0.98883,     0.98883,     0.98883,     0.98883,     0.98883,     0.98883,     0.98883,     0.98883,     0.98883,     0.98883,     0.98883,     0.98883,     0.98883,     0.98883,     0.98883,     0.98883,     0.98883,     0.98883,     0.98883,     0.98883,     0.98883,\n",
              "            0.98883,     0.98343,     0.98343,     0.98343,     0.98343,     0.97838,     0.97838,     0.97838,     0.97838,     0.97838,     0.97838,     0.97838,     0.97838,     0.97838,     0.97696,     0.97696,     0.97696,     0.97696,     0.97696,     0.97696,     0.97696,     0.97696,     0.97696,\n",
              "            0.97696,     0.97696,     0.97696,     0.97696,     0.97696,     0.97696,     0.97696,     0.97696,     0.97696,     0.97696,     0.97696,     0.97696,     0.97696,     0.97696,     0.97696,     0.97696,     0.97696,     0.97696,     0.97696,     0.97696,     0.97696,     0.97696,     0.97696,\n",
              "            0.97696,     0.97696,     0.97696,     0.97696,     0.97696,     0.97696,     0.97696,     0.97696,     0.97696,     0.97696,     0.97696,     0.97696,     0.97696,     0.97696,     0.97696,     0.97696,     0.97696,     0.97696,     0.97696,     0.97696,     0.97696,     0.97696,     0.97696,\n",
              "            0.97696,     0.97696,     0.97696,     0.97696,     0.97696,     0.97696,     0.97696,     0.97696,     0.97696,     0.97696,     0.97696,     0.97696,     0.97696,     0.97696,     0.97696,     0.97696,     0.97696,     0.97696,     0.97696,     0.97696,     0.97696,     0.97696,     0.97696,\n",
              "            0.97696,     0.97696,     0.97696,     0.97696,     0.97696,     0.97696,     0.97696,     0.97696,     0.97696,     0.97696,     0.97696,     0.97696,     0.97696,     0.97696,     0.97696,     0.97696,     0.97696,     0.97696,     0.97696,     0.97696,     0.97696,     0.97696,     0.97696,\n",
              "            0.97309,     0.97309,     0.97309,     0.97309,     0.97309,     0.97309,     0.97309,     0.97309,     0.97309,     0.97309,     0.97309,     0.97309,     0.97309,     0.97309,     0.97309,     0.97309,     0.97309,     0.96087,     0.96087,     0.96087,     0.96087,     0.96087,     0.96087,\n",
              "            0.96087,     0.96087,     0.96087,     0.96087,     0.96087,     0.96087,     0.96087,     0.95763,     0.95763,     0.95763,     0.95763,     0.95763,     0.95763,     0.95763,     0.95763,     0.95763,     0.95763,     0.95763,     0.95763,     0.95763,     0.95763,     0.95763,     0.95763,\n",
              "            0.95473,     0.95473,     0.95473,     0.95473,     0.95473,     0.95473,     0.95473,     0.95473,     0.95473,     0.95473,     0.95473,     0.95473,     0.95473,     0.95473,     0.95473,     0.95473,     0.95473,     0.95473,     0.95473,     0.94758,     0.94758,     0.94758,     0.94758,\n",
              "            0.94758,     0.94758,     0.94758,     0.94758,     0.94758,     0.94758,     0.94048,     0.94048,     0.94048,     0.94048,     0.94048,     0.94048,     0.94048,     0.93333,     0.93333,     0.93333,     0.93023,     0.93023,     0.93023,     0.93023,     0.93023,     0.93023,     0.92692,\n",
              "            0.92692,     0.92692,     0.92692,     0.92366,     0.92366,     0.92366,     0.91729,     0.91729,     0.91729,     0.91729,     0.91729,     0.91729,     0.90074,     0.90074,     0.90074,     0.90074,     0.89455,     0.89455,     0.89455,     0.88214,     0.88214,     0.88214,     0.87676,\n",
              "            0.87676,     0.87676,     0.87676,     0.87676,     0.87676,     0.87676,     0.85616,     0.85616,     0.85616,     0.85374,     0.85374,     0.85374,     0.83168,     0.83168,     0.83168,     0.83168,      0.8268,      0.8268,      0.8268,      0.8038,      0.8038,      0.8038,     0.79193,\n",
              "            0.79193,     0.79193,     0.76418,     0.76418,     0.76418,     0.76418,     0.74138,     0.74138,     0.74138,     0.74138,     0.74138,     0.74138,     0.68338,     0.68338,     0.68338,       0.625,       0.625,       0.625,       0.625,     0.60557,     0.60557,     0.60557,     0.46208,\n",
              "            0.46208,     0.46208,     0.45502,     0.45502,     0.45502,     0.42376,     0.42376,     0.42376,     0.42376,     0.36552,     0.36552,     0.36552,     0.29688,     0.29688,     0.29688,     0.25047,     0.25047,     0.25047,     0.22003,     0.22003,     0.22003,     0.22003,     0.19823,\n",
              "            0.19823,     0.19823,     0.19665,     0.19665,     0.19665,     0.16959,     0.16959,     0.16959,     0.16575,     0.16575,     0.16575,     0.16575,     0.12698,     0.12698,     0.12698,      0.1135,      0.1135,      0.1135,     0.10185,     0.10185,     0.10185,    0.097803,    0.097803,\n",
              "           0.097803,    0.097803,    0.067446,    0.067446,    0.067446,    0.056026,    0.056026,    0.056026,     0.05018,     0.05018,     0.05018,    0.047035,    0.047035,    0.047035,    0.047035,    0.041934,    0.041934,    0.041934,    0.038945,    0.038945,    0.038945,    0.038524,    0.038524,\n",
              "           0.038524,    0.038208,    0.038208,    0.038208,    0.038208,    0.037839,    0.037839,    0.037839,    0.035484,    0.035484,    0.035484,    0.029316,    0.028884,    0.028453,    0.028022,    0.027591,     0.02716,    0.026729,    0.026298,    0.025867,    0.025436,    0.025004,    0.024573,\n",
              "           0.024142,    0.023711,     0.02328,    0.022849,    0.022418,    0.021987,    0.021556,    0.021124,    0.020693,    0.020262,    0.019831,      0.0194,    0.018969,    0.018538,    0.018107,    0.017676,    0.017244,    0.016813,    0.016382,    0.015951,     0.01552,    0.015089,    0.014658,\n",
              "           0.014227,    0.013796,    0.013364,    0.012933,    0.012502,    0.012071,     0.01164,    0.011209,    0.010778,    0.010347,   0.0099156,   0.0094845,   0.0090533,   0.0086222,   0.0081911,     0.00776,   0.0073289,   0.0068978,   0.0064667,   0.0060356,   0.0056045,   0.0051733,   0.0047422,\n",
              "          0.0043111,     0.00388,   0.0034489,   0.0030178,   0.0025867,   0.0021556,   0.0017244,   0.0012933,  0.00086222,  0.00043111,           0]]), 'Recall', 'Precision'], [array([          0,    0.001001,    0.002002,    0.003003,    0.004004,    0.005005,    0.006006,    0.007007,    0.008008,    0.009009,     0.01001,    0.011011,    0.012012,    0.013013,    0.014014,    0.015015,    0.016016,    0.017017,    0.018018,    0.019019,     0.02002,    0.021021,    0.022022,    0.023023,\n",
              "          0.024024,    0.025025,    0.026026,    0.027027,    0.028028,    0.029029,     0.03003,    0.031031,    0.032032,    0.033033,    0.034034,    0.035035,    0.036036,    0.037037,    0.038038,    0.039039,     0.04004,    0.041041,    0.042042,    0.043043,    0.044044,    0.045045,    0.046046,    0.047047,\n",
              "          0.048048,    0.049049,     0.05005,    0.051051,    0.052052,    0.053053,    0.054054,    0.055055,    0.056056,    0.057057,    0.058058,    0.059059,     0.06006,    0.061061,    0.062062,    0.063063,    0.064064,    0.065065,    0.066066,    0.067067,    0.068068,    0.069069,     0.07007,    0.071071,\n",
              "          0.072072,    0.073073,    0.074074,    0.075075,    0.076076,    0.077077,    0.078078,    0.079079,     0.08008,    0.081081,    0.082082,    0.083083,    0.084084,    0.085085,    0.086086,    0.087087,    0.088088,    0.089089,     0.09009,    0.091091,    0.092092,    0.093093,    0.094094,    0.095095,\n",
              "          0.096096,    0.097097,    0.098098,    0.099099,      0.1001,      0.1011,      0.1021,      0.1031,      0.1041,     0.10511,     0.10611,     0.10711,     0.10811,     0.10911,     0.11011,     0.11111,     0.11211,     0.11311,     0.11411,     0.11512,     0.11612,     0.11712,     0.11812,     0.11912,\n",
              "           0.12012,     0.12112,     0.12212,     0.12312,     0.12412,     0.12513,     0.12613,     0.12713,     0.12813,     0.12913,     0.13013,     0.13113,     0.13213,     0.13313,     0.13413,     0.13514,     0.13614,     0.13714,     0.13814,     0.13914,     0.14014,     0.14114,     0.14214,     0.14314,\n",
              "           0.14414,     0.14515,     0.14615,     0.14715,     0.14815,     0.14915,     0.15015,     0.15115,     0.15215,     0.15315,     0.15415,     0.15516,     0.15616,     0.15716,     0.15816,     0.15916,     0.16016,     0.16116,     0.16216,     0.16316,     0.16416,     0.16517,     0.16617,     0.16717,\n",
              "           0.16817,     0.16917,     0.17017,     0.17117,     0.17217,     0.17317,     0.17417,     0.17518,     0.17618,     0.17718,     0.17818,     0.17918,     0.18018,     0.18118,     0.18218,     0.18318,     0.18418,     0.18519,     0.18619,     0.18719,     0.18819,     0.18919,     0.19019,     0.19119,\n",
              "           0.19219,     0.19319,     0.19419,      0.1952,      0.1962,      0.1972,      0.1982,      0.1992,      0.2002,      0.2012,      0.2022,      0.2032,      0.2042,     0.20521,     0.20621,     0.20721,     0.20821,     0.20921,     0.21021,     0.21121,     0.21221,     0.21321,     0.21421,     0.21522,\n",
              "           0.21622,     0.21722,     0.21822,     0.21922,     0.22022,     0.22122,     0.22222,     0.22322,     0.22422,     0.22523,     0.22623,     0.22723,     0.22823,     0.22923,     0.23023,     0.23123,     0.23223,     0.23323,     0.23423,     0.23524,     0.23624,     0.23724,     0.23824,     0.23924,\n",
              "           0.24024,     0.24124,     0.24224,     0.24324,     0.24424,     0.24525,     0.24625,     0.24725,     0.24825,     0.24925,     0.25025,     0.25125,     0.25225,     0.25325,     0.25425,     0.25526,     0.25626,     0.25726,     0.25826,     0.25926,     0.26026,     0.26126,     0.26226,     0.26326,\n",
              "           0.26426,     0.26527,     0.26627,     0.26727,     0.26827,     0.26927,     0.27027,     0.27127,     0.27227,     0.27327,     0.27427,     0.27528,     0.27628,     0.27728,     0.27828,     0.27928,     0.28028,     0.28128,     0.28228,     0.28328,     0.28428,     0.28529,     0.28629,     0.28729,\n",
              "           0.28829,     0.28929,     0.29029,     0.29129,     0.29229,     0.29329,     0.29429,      0.2953,      0.2963,      0.2973,      0.2983,      0.2993,      0.3003,      0.3013,      0.3023,      0.3033,      0.3043,     0.30531,     0.30631,     0.30731,     0.30831,     0.30931,     0.31031,     0.31131,\n",
              "           0.31231,     0.31331,     0.31431,     0.31532,     0.31632,     0.31732,     0.31832,     0.31932,     0.32032,     0.32132,     0.32232,     0.32332,     0.32432,     0.32533,     0.32633,     0.32733,     0.32833,     0.32933,     0.33033,     0.33133,     0.33233,     0.33333,     0.33433,     0.33534,\n",
              "           0.33634,     0.33734,     0.33834,     0.33934,     0.34034,     0.34134,     0.34234,     0.34334,     0.34434,     0.34535,     0.34635,     0.34735,     0.34835,     0.34935,     0.35035,     0.35135,     0.35235,     0.35335,     0.35435,     0.35536,     0.35636,     0.35736,     0.35836,     0.35936,\n",
              "           0.36036,     0.36136,     0.36236,     0.36336,     0.36436,     0.36537,     0.36637,     0.36737,     0.36837,     0.36937,     0.37037,     0.37137,     0.37237,     0.37337,     0.37437,     0.37538,     0.37638,     0.37738,     0.37838,     0.37938,     0.38038,     0.38138,     0.38238,     0.38338,\n",
              "           0.38438,     0.38539,     0.38639,     0.38739,     0.38839,     0.38939,     0.39039,     0.39139,     0.39239,     0.39339,     0.39439,      0.3954,      0.3964,      0.3974,      0.3984,      0.3994,      0.4004,      0.4014,      0.4024,      0.4034,      0.4044,     0.40541,     0.40641,     0.40741,\n",
              "           0.40841,     0.40941,     0.41041,     0.41141,     0.41241,     0.41341,     0.41441,     0.41542,     0.41642,     0.41742,     0.41842,     0.41942,     0.42042,     0.42142,     0.42242,     0.42342,     0.42442,     0.42543,     0.42643,     0.42743,     0.42843,     0.42943,     0.43043,     0.43143,\n",
              "           0.43243,     0.43343,     0.43443,     0.43544,     0.43644,     0.43744,     0.43844,     0.43944,     0.44044,     0.44144,     0.44244,     0.44344,     0.44444,     0.44545,     0.44645,     0.44745,     0.44845,     0.44945,     0.45045,     0.45145,     0.45245,     0.45345,     0.45445,     0.45546,\n",
              "           0.45646,     0.45746,     0.45846,     0.45946,     0.46046,     0.46146,     0.46246,     0.46346,     0.46446,     0.46547,     0.46647,     0.46747,     0.46847,     0.46947,     0.47047,     0.47147,     0.47247,     0.47347,     0.47447,     0.47548,     0.47648,     0.47748,     0.47848,     0.47948,\n",
              "           0.48048,     0.48148,     0.48248,     0.48348,     0.48448,     0.48549,     0.48649,     0.48749,     0.48849,     0.48949,     0.49049,     0.49149,     0.49249,     0.49349,     0.49449,      0.4955,      0.4965,      0.4975,      0.4985,      0.4995,      0.5005,      0.5015,      0.5025,      0.5035,\n",
              "            0.5045,     0.50551,     0.50651,     0.50751,     0.50851,     0.50951,     0.51051,     0.51151,     0.51251,     0.51351,     0.51451,     0.51552,     0.51652,     0.51752,     0.51852,     0.51952,     0.52052,     0.52152,     0.52252,     0.52352,     0.52452,     0.52553,     0.52653,     0.52753,\n",
              "           0.52853,     0.52953,     0.53053,     0.53153,     0.53253,     0.53353,     0.53453,     0.53554,     0.53654,     0.53754,     0.53854,     0.53954,     0.54054,     0.54154,     0.54254,     0.54354,     0.54454,     0.54555,     0.54655,     0.54755,     0.54855,     0.54955,     0.55055,     0.55155,\n",
              "           0.55255,     0.55355,     0.55455,     0.55556,     0.55656,     0.55756,     0.55856,     0.55956,     0.56056,     0.56156,     0.56256,     0.56356,     0.56456,     0.56557,     0.56657,     0.56757,     0.56857,     0.56957,     0.57057,     0.57157,     0.57257,     0.57357,     0.57457,     0.57558,\n",
              "           0.57658,     0.57758,     0.57858,     0.57958,     0.58058,     0.58158,     0.58258,     0.58358,     0.58458,     0.58559,     0.58659,     0.58759,     0.58859,     0.58959,     0.59059,     0.59159,     0.59259,     0.59359,     0.59459,      0.5956,      0.5966,      0.5976,      0.5986,      0.5996,\n",
              "            0.6006,      0.6016,      0.6026,      0.6036,      0.6046,     0.60561,     0.60661,     0.60761,     0.60861,     0.60961,     0.61061,     0.61161,     0.61261,     0.61361,     0.61461,     0.61562,     0.61662,     0.61762,     0.61862,     0.61962,     0.62062,     0.62162,     0.62262,     0.62362,\n",
              "           0.62462,     0.62563,     0.62663,     0.62763,     0.62863,     0.62963,     0.63063,     0.63163,     0.63263,     0.63363,     0.63463,     0.63564,     0.63664,     0.63764,     0.63864,     0.63964,     0.64064,     0.64164,     0.64264,     0.64364,     0.64464,     0.64565,     0.64665,     0.64765,\n",
              "           0.64865,     0.64965,     0.65065,     0.65165,     0.65265,     0.65365,     0.65465,     0.65566,     0.65666,     0.65766,     0.65866,     0.65966,     0.66066,     0.66166,     0.66266,     0.66366,     0.66466,     0.66567,     0.66667,     0.66767,     0.66867,     0.66967,     0.67067,     0.67167,\n",
              "           0.67267,     0.67367,     0.67467,     0.67568,     0.67668,     0.67768,     0.67868,     0.67968,     0.68068,     0.68168,     0.68268,     0.68368,     0.68468,     0.68569,     0.68669,     0.68769,     0.68869,     0.68969,     0.69069,     0.69169,     0.69269,     0.69369,     0.69469,      0.6957,\n",
              "            0.6967,      0.6977,      0.6987,      0.6997,      0.7007,      0.7017,      0.7027,      0.7037,      0.7047,     0.70571,     0.70671,     0.70771,     0.70871,     0.70971,     0.71071,     0.71171,     0.71271,     0.71371,     0.71471,     0.71572,     0.71672,     0.71772,     0.71872,     0.71972,\n",
              "           0.72072,     0.72172,     0.72272,     0.72372,     0.72472,     0.72573,     0.72673,     0.72773,     0.72873,     0.72973,     0.73073,     0.73173,     0.73273,     0.73373,     0.73473,     0.73574,     0.73674,     0.73774,     0.73874,     0.73974,     0.74074,     0.74174,     0.74274,     0.74374,\n",
              "           0.74474,     0.74575,     0.74675,     0.74775,     0.74875,     0.74975,     0.75075,     0.75175,     0.75275,     0.75375,     0.75475,     0.75576,     0.75676,     0.75776,     0.75876,     0.75976,     0.76076,     0.76176,     0.76276,     0.76376,     0.76476,     0.76577,     0.76677,     0.76777,\n",
              "           0.76877,     0.76977,     0.77077,     0.77177,     0.77277,     0.77377,     0.77477,     0.77578,     0.77678,     0.77778,     0.77878,     0.77978,     0.78078,     0.78178,     0.78278,     0.78378,     0.78478,     0.78579,     0.78679,     0.78779,     0.78879,     0.78979,     0.79079,     0.79179,\n",
              "           0.79279,     0.79379,     0.79479,      0.7958,      0.7968,      0.7978,      0.7988,      0.7998,      0.8008,      0.8018,      0.8028,      0.8038,      0.8048,     0.80581,     0.80681,     0.80781,     0.80881,     0.80981,     0.81081,     0.81181,     0.81281,     0.81381,     0.81481,     0.81582,\n",
              "           0.81682,     0.81782,     0.81882,     0.81982,     0.82082,     0.82182,     0.82282,     0.82382,     0.82482,     0.82583,     0.82683,     0.82783,     0.82883,     0.82983,     0.83083,     0.83183,     0.83283,     0.83383,     0.83483,     0.83584,     0.83684,     0.83784,     0.83884,     0.83984,\n",
              "           0.84084,     0.84184,     0.84284,     0.84384,     0.84484,     0.84585,     0.84685,     0.84785,     0.84885,     0.84985,     0.85085,     0.85185,     0.85285,     0.85385,     0.85485,     0.85586,     0.85686,     0.85786,     0.85886,     0.85986,     0.86086,     0.86186,     0.86286,     0.86386,\n",
              "           0.86486,     0.86587,     0.86687,     0.86787,     0.86887,     0.86987,     0.87087,     0.87187,     0.87287,     0.87387,     0.87487,     0.87588,     0.87688,     0.87788,     0.87888,     0.87988,     0.88088,     0.88188,     0.88288,     0.88388,     0.88488,     0.88589,     0.88689,     0.88789,\n",
              "           0.88889,     0.88989,     0.89089,     0.89189,     0.89289,     0.89389,     0.89489,      0.8959,      0.8969,      0.8979,      0.8989,      0.8999,      0.9009,      0.9019,      0.9029,      0.9039,      0.9049,     0.90591,     0.90691,     0.90791,     0.90891,     0.90991,     0.91091,     0.91191,\n",
              "           0.91291,     0.91391,     0.91491,     0.91592,     0.91692,     0.91792,     0.91892,     0.91992,     0.92092,     0.92192,     0.92292,     0.92392,     0.92492,     0.92593,     0.92693,     0.92793,     0.92893,     0.92993,     0.93093,     0.93193,     0.93293,     0.93393,     0.93493,     0.93594,\n",
              "           0.93694,     0.93794,     0.93894,     0.93994,     0.94094,     0.94194,     0.94294,     0.94394,     0.94494,     0.94595,     0.94695,     0.94795,     0.94895,     0.94995,     0.95095,     0.95195,     0.95295,     0.95395,     0.95495,     0.95596,     0.95696,     0.95796,     0.95896,     0.95996,\n",
              "           0.96096,     0.96196,     0.96296,     0.96396,     0.96496,     0.96597,     0.96697,     0.96797,     0.96897,     0.96997,     0.97097,     0.97197,     0.97297,     0.97397,     0.97497,     0.97598,     0.97698,     0.97798,     0.97898,     0.97998,     0.98098,     0.98198,     0.98298,     0.98398,\n",
              "           0.98498,     0.98599,     0.98699,     0.98799,     0.98899,     0.98999,     0.99099,     0.99199,     0.99299,     0.99399,     0.99499,       0.996,       0.997,       0.998,       0.999,           1]), array([[   0.057114,    0.057114,     0.07575,    0.098931,     0.12278,     0.14519,     0.16789,     0.18779,     0.20913,      0.2299,     0.25046,     0.27045,     0.28664,     0.30836,     0.32566,     0.34536,     0.36103,     0.37727,     0.38943,     0.40173,     0.41693,     0.43165,     0.44157,\n",
              "            0.45336,     0.46106,     0.47477,     0.48957,     0.50195,     0.51162,     0.51758,     0.53168,     0.54114,     0.54995,     0.56266,     0.56668,     0.57519,     0.58471,     0.59023,     0.59691,     0.59989,     0.60566,     0.61395,     0.62224,     0.63432,     0.63908,     0.64618,\n",
              "            0.65065,     0.65955,     0.66425,     0.66983,     0.67355,     0.67846,      0.6842,     0.68796,      0.6926,     0.69472,      0.6991,     0.70301,     0.70697,      0.7119,     0.71588,     0.71827,     0.71985,     0.72224,     0.72438,     0.72805,     0.73208,     0.73599,     0.74112,\n",
              "            0.74266,     0.74479,     0.74984,     0.75143,     0.75405,     0.75616,      0.7597,     0.76129,     0.76383,      0.7668,     0.77037,     0.77377,     0.77464,     0.77572,      0.7774,     0.78076,     0.78131,     0.78199,     0.78372,     0.78594,     0.78698,     0.78593,     0.78458,\n",
              "            0.78657,     0.79043,     0.79224,     0.79425,     0.79486,     0.79598,     0.79816,     0.79971,     0.80036,     0.80162,     0.80332,     0.80431,     0.80756,     0.80878,     0.81075,     0.81037,     0.80998,     0.80959,      0.8092,     0.80908,     0.80969,     0.81032,     0.81114,\n",
              "            0.81201,       0.813,     0.81424,     0.81503,     0.81355,     0.81397,     0.81439,     0.81481,     0.81518,     0.81554,     0.81591,     0.81643,     0.81721,     0.81775,     0.81818,     0.81861,     0.81906,     0.81951,     0.81997,      0.8204,     0.82082,     0.82124,      0.8215,\n",
              "            0.82165,     0.82179,     0.82193,     0.82207,     0.82221,     0.82235,     0.82249,     0.82263,     0.82284,     0.82537,     0.82379,     0.82368,     0.82387,     0.82405,     0.82424,     0.82442,      0.8246,     0.82479,     0.82494,     0.82506,     0.82519,     0.82531,     0.82543,\n",
              "            0.82556,     0.82568,      0.8258,     0.82593,     0.82605,     0.82617,     0.82599,     0.82555,     0.82511,     0.82468,     0.82442,     0.82522,     0.82577,     0.82601,     0.82625,     0.82649,     0.82674,     0.82698,     0.82726,     0.82756,     0.82785,     0.82815,      0.8284,\n",
              "            0.82849,     0.82857,     0.82866,     0.82875,     0.82884,     0.82892,     0.82901,      0.8291,     0.82918,     0.82927,     0.82936,     0.82945,     0.82953,     0.82962,     0.82971,     0.82986,     0.83008,      0.8303,     0.83052,     0.83074,     0.83096,     0.83116,     0.83132,\n",
              "            0.83148,     0.83164,     0.83179,     0.83195,     0.83211,     0.83226,     0.83242,     0.83273,      0.8332,     0.83367,     0.83433,     0.83514,     0.83467,     0.83395,     0.83335,      0.8335,     0.83364,     0.83378,     0.83392,     0.83406,      0.8342,     0.83434,     0.83448,\n",
              "            0.83462,     0.83462,     0.83422,     0.83382,     0.83342,     0.83302,     0.83285,     0.83305,     0.83325,     0.83345,     0.83364,     0.83384,     0.83404,     0.83433,      0.8348,     0.83528,     0.83582,     0.83646,     0.83702,     0.83726,     0.83751,     0.83775,     0.83799,\n",
              "            0.83823,     0.83906,     0.84069,     0.84139,     0.84165,     0.84192,     0.84218,     0.84245,     0.84244,     0.84171,     0.84098,        0.84,     0.83884,     0.83936,     0.84009,     0.84042,     0.84073,     0.84104,     0.84135,     0.84076,      0.8397,     0.83989,     0.84008,\n",
              "            0.84027,     0.84046,     0.84065,     0.84084,     0.84103,     0.84106,      0.8411,     0.84113,     0.84117,     0.84121,     0.84124,     0.84128,     0.84132,     0.84135,     0.84139,     0.84142,     0.84146,      0.8415,     0.84153,     0.84157,     0.84161,     0.84164,     0.84168,\n",
              "            0.84171,     0.84175,     0.84179,     0.84182,     0.84186,      0.8419,     0.84193,     0.84197,       0.842,     0.84204,     0.84208,     0.84211,     0.84215,     0.84219,     0.84222,     0.84226,     0.84229,     0.84233,     0.84237,      0.8424,     0.84244,     0.84268,     0.84353,\n",
              "            0.84414,     0.84457,     0.84499,     0.84535,     0.84525,     0.84515,     0.84505,     0.84495,     0.84485,     0.84475,     0.84465,     0.84455,     0.84445,     0.84435,     0.84426,     0.84416,     0.84406,     0.84396,     0.84386,     0.84376,     0.84366,     0.84356,     0.84346,\n",
              "             0.8434,     0.84356,     0.84373,     0.84389,     0.84406,     0.84422,     0.84439,     0.84455,     0.84472,      0.8449,     0.84511,     0.84531,     0.84552,     0.84573,     0.84593,     0.84614,     0.84572,     0.84446,       0.845,     0.84555,     0.84622,     0.84697,     0.84751,\n",
              "            0.84794,     0.84837,     0.84873,     0.84888,     0.84902,     0.84917,     0.84931,     0.84945,      0.8496,     0.84974,     0.84989,     0.85003,     0.85018,     0.85105,     0.85164,     0.85158,     0.85151,     0.85145,     0.85139,     0.85133,     0.85126,      0.8512,     0.85114,\n",
              "            0.85107,     0.85101,     0.85095,     0.85089,     0.85082,     0.85076,      0.8507,     0.85063,     0.85057,     0.85051,     0.85045,     0.85038,     0.85032,     0.85026,     0.85019,     0.85013,     0.85007,     0.85001,     0.84994,     0.84988,     0.84982,     0.84975,     0.84969,\n",
              "             0.8477,     0.84787,     0.84805,     0.84822,     0.84839,     0.84857,     0.84874,     0.84892,     0.84909,      0.8492,     0.84929,     0.84938,     0.84948,     0.84957,     0.84966,     0.84976,     0.84985,     0.84994,     0.85003,     0.85013,     0.85022,     0.85031,      0.8504,\n",
              "             0.8505,     0.85059,     0.85037,     0.85002,     0.84968,     0.84933,     0.84898,     0.84864,     0.84865,     0.84872,     0.84879,     0.84886,     0.84894,     0.84901,     0.84908,     0.84915,     0.84922,     0.84929,     0.84936,     0.84943,      0.8495,     0.84957,     0.84964,\n",
              "            0.84971,     0.84978,     0.84985,     0.84992,     0.84999,     0.85006,      0.8499,      0.8496,      0.8493,       0.849,     0.84871,     0.84841,     0.84811,     0.84913,     0.84861,     0.84809,     0.84756,     0.84745,     0.84737,     0.84729,     0.84721,     0.84714,     0.84706,\n",
              "            0.84698,      0.8469,     0.84683,     0.84675,     0.84667,     0.84659,     0.84651,     0.84644,     0.84636,     0.84628,      0.8462,     0.84613,     0.84605,     0.84597,     0.84589,     0.84582,     0.84574,     0.84566,     0.84558,      0.8455,     0.84636,     0.84692,     0.84682,\n",
              "            0.84673,     0.84663,     0.84654,     0.84644,     0.84634,     0.84625,     0.84615,     0.84606,     0.84596,     0.84587,     0.84577,     0.84567,     0.84558,     0.84548,     0.84539,     0.84529,     0.84519,      0.8451,       0.845,     0.84513,     0.84647,     0.84673,     0.84699,\n",
              "            0.84725,     0.84751,     0.84776,      0.8479,     0.84777,     0.84764,     0.84751,     0.84737,     0.84724,     0.84711,     0.84698,     0.84685,     0.84671,     0.84658,     0.84645,     0.84632,     0.84618,     0.84605,     0.84592,     0.84575,     0.84557,     0.84538,      0.8452,\n",
              "            0.84501,     0.84483,     0.84464,     0.84446,     0.84427,     0.84409,      0.8439,     0.84405,     0.84457,     0.84509,     0.84554,     0.84593,     0.84632,     0.84671,     0.84676,     0.84663,     0.84649,     0.84636,     0.84623,     0.84609,     0.84596,     0.84583,     0.84569,\n",
              "            0.84556,     0.84543,     0.84529,     0.84516,     0.84503,     0.84489,     0.84251,     0.84066,      0.8408,     0.84094,     0.84109,     0.84123,     0.84137,     0.84151,     0.84165,      0.8418,     0.84194,     0.84208,     0.84253,     0.84306,     0.84358,     0.84345,     0.84325,\n",
              "            0.84304,     0.84284,     0.84263,     0.84243,     0.84222,     0.84201,     0.84181,      0.8416,     0.84097,      0.8401,     0.83937,     0.83914,     0.83891,     0.83868,     0.83845,     0.83822,       0.838,     0.83777,     0.83754,     0.83731,       0.837,     0.83669,     0.83638,\n",
              "            0.83607,     0.83575,     0.83544,     0.83514,     0.83496,     0.83478,      0.8346,     0.83441,     0.83423,     0.83405,     0.83387,     0.83368,      0.8335,     0.83332,     0.83314,     0.83114,     0.83177,     0.83239,     0.83223,     0.83205,     0.83187,     0.83168,      0.8315,\n",
              "            0.83132,     0.83113,     0.83095,     0.83076,     0.83058,     0.83039,     0.82968,     0.82778,     0.82667,     0.82582,      0.8255,     0.82518,     0.82486,     0.82454,     0.82423,     0.82391,     0.82262,     0.82239,     0.82088,     0.82068,     0.82047,     0.82027,     0.82006,\n",
              "            0.81986,     0.81965,     0.81945,     0.81924,     0.81903,     0.81883,     0.81618,     0.81527,     0.81436,     0.81437,     0.81449,     0.81461,     0.81473,     0.81485,     0.81497,     0.81509,     0.81521,     0.81533,     0.81545,     0.81557,     0.81569,     0.81581,     0.81591,\n",
              "            0.81601,     0.81611,      0.8162,      0.8163,      0.8164,      0.8165,      0.8166,      0.8167,      0.8168,     0.81689,     0.81699,     0.81709,     0.81719,     0.81729,     0.81744,     0.81762,     0.81781,       0.818,     0.81818,     0.81837,     0.81855,     0.81874,      0.8188,\n",
              "            0.81858,     0.81837,     0.81815,     0.81793,     0.81771,     0.81749,     0.81728,     0.81706,     0.81684,     0.81409,     0.81188,     0.81141,     0.81095,     0.81049,     0.81002,     0.80924,     0.80831,     0.80766,     0.80781,     0.80796,     0.80811,     0.80826,     0.80841,\n",
              "            0.80856,     0.80871,     0.80886,     0.80901,     0.80915,     0.80869,     0.80822,     0.80775,     0.80729,     0.80672,     0.80555,     0.80452,     0.80409,     0.80366,     0.80324,     0.80281,     0.80238,     0.80192,     0.80144,     0.80097,      0.8005,     0.80003,     0.79851,\n",
              "            0.79692,     0.79536,     0.79488,      0.7944,     0.79393,     0.79345,     0.79292,     0.79213,     0.79133,     0.79059,     0.79011,     0.78963,     0.78915,     0.78867,     0.78824,     0.78792,      0.7876,     0.78728,     0.78695,     0.78663,     0.78631,     0.78361,     0.78263,\n",
              "            0.78166,     0.77983,     0.77588,     0.77489,      0.7739,     0.77291,     0.77192,     0.76985,     0.76424,     0.76378,     0.76332,     0.76287,     0.76241,     0.76195,       0.761,     0.75999,     0.75906,     0.75821,     0.75737,      0.7563,     0.75503,     0.75195,     0.75138,\n",
              "            0.75081,     0.75024,     0.74967,     0.74769,     0.74605,     0.74476,     0.74156,     0.74026,     0.73763,     0.73595,      0.7349,     0.73554,     0.73015,     0.72909,     0.72802,     0.72818,     0.72553,     0.72163,     0.71467,     0.71167,     0.71029,       0.708,     0.70377,\n",
              "            0.70284,     0.70191,     0.70028,     0.69862,      0.6975,     0.69637,     0.69242,     0.68848,     0.67993,     0.67156,      0.6696,     0.66282,     0.65501,     0.65434,     0.65367,       0.653,     0.65233,     0.64785,     0.64266,       0.639,     0.63281,     0.62756,     0.62547,\n",
              "            0.62255,     0.62023,     0.61812,       0.616,     0.61294,     0.61135,     0.60788,     0.60464,     0.59337,     0.58837,     0.58019,     0.57415,     0.56855,     0.56627,     0.55852,     0.55736,      0.5562,     0.55379,     0.54332,     0.54023,     0.53845,     0.52997,     0.52697,\n",
              "            0.52515,     0.52122,      0.5154,     0.50809,     0.49898,     0.48146,     0.47823,     0.47505,      0.4606,     0.44481,     0.43717,      0.4325,     0.42428,     0.42221,     0.41047,     0.40624,     0.40199,     0.39437,      0.3892,     0.36768,     0.36158,     0.35859,     0.33674,\n",
              "             0.3339,     0.33158,     0.32394,     0.30833,     0.29341,     0.29146,     0.28876,     0.27952,     0.27385,     0.26006,     0.25668,     0.25329,     0.24447,     0.23977,     0.23632,     0.22634,     0.22253,     0.21965,     0.21788,     0.21611,     0.21046,     0.20652,     0.19678,\n",
              "            0.18873,     0.18599,     0.17765,     0.17209,     0.16032,     0.15472,     0.15244,     0.15005,     0.14719,     0.14223,     0.13154,     0.12862,     0.12334,     0.11989,     0.11693,     0.10027,    0.090657,     0.08589,    0.082827,    0.075253,    0.067592,     0.06447,    0.059581,\n",
              "           0.049573,    0.042642,    0.039439,    0.036648,    0.034071,    0.031816,    0.030738,    0.029658,    0.028577,    0.027495,    0.026412,    0.024536,    0.021273,    0.016643,     0.01212,    0.010233,   0.0083429,           0,           0,           0,           0,           0,           0,\n",
              "                  0,           0,           0,           0,           0,           0,           0,           0,           0,           0,           0,           0,           0,           0,           0,           0,           0,           0,           0,           0,           0,           0,           0,\n",
              "                  0,           0,           0,           0,           0,           0,           0,           0,           0,           0,           0]]), 'Confidence', 'F1'], [array([          0,    0.001001,    0.002002,    0.003003,    0.004004,    0.005005,    0.006006,    0.007007,    0.008008,    0.009009,     0.01001,    0.011011,    0.012012,    0.013013,    0.014014,    0.015015,    0.016016,    0.017017,    0.018018,    0.019019,     0.02002,    0.021021,    0.022022,    0.023023,\n",
              "          0.024024,    0.025025,    0.026026,    0.027027,    0.028028,    0.029029,     0.03003,    0.031031,    0.032032,    0.033033,    0.034034,    0.035035,    0.036036,    0.037037,    0.038038,    0.039039,     0.04004,    0.041041,    0.042042,    0.043043,    0.044044,    0.045045,    0.046046,    0.047047,\n",
              "          0.048048,    0.049049,     0.05005,    0.051051,    0.052052,    0.053053,    0.054054,    0.055055,    0.056056,    0.057057,    0.058058,    0.059059,     0.06006,    0.061061,    0.062062,    0.063063,    0.064064,    0.065065,    0.066066,    0.067067,    0.068068,    0.069069,     0.07007,    0.071071,\n",
              "          0.072072,    0.073073,    0.074074,    0.075075,    0.076076,    0.077077,    0.078078,    0.079079,     0.08008,    0.081081,    0.082082,    0.083083,    0.084084,    0.085085,    0.086086,    0.087087,    0.088088,    0.089089,     0.09009,    0.091091,    0.092092,    0.093093,    0.094094,    0.095095,\n",
              "          0.096096,    0.097097,    0.098098,    0.099099,      0.1001,      0.1011,      0.1021,      0.1031,      0.1041,     0.10511,     0.10611,     0.10711,     0.10811,     0.10911,     0.11011,     0.11111,     0.11211,     0.11311,     0.11411,     0.11512,     0.11612,     0.11712,     0.11812,     0.11912,\n",
              "           0.12012,     0.12112,     0.12212,     0.12312,     0.12412,     0.12513,     0.12613,     0.12713,     0.12813,     0.12913,     0.13013,     0.13113,     0.13213,     0.13313,     0.13413,     0.13514,     0.13614,     0.13714,     0.13814,     0.13914,     0.14014,     0.14114,     0.14214,     0.14314,\n",
              "           0.14414,     0.14515,     0.14615,     0.14715,     0.14815,     0.14915,     0.15015,     0.15115,     0.15215,     0.15315,     0.15415,     0.15516,     0.15616,     0.15716,     0.15816,     0.15916,     0.16016,     0.16116,     0.16216,     0.16316,     0.16416,     0.16517,     0.16617,     0.16717,\n",
              "           0.16817,     0.16917,     0.17017,     0.17117,     0.17217,     0.17317,     0.17417,     0.17518,     0.17618,     0.17718,     0.17818,     0.17918,     0.18018,     0.18118,     0.18218,     0.18318,     0.18418,     0.18519,     0.18619,     0.18719,     0.18819,     0.18919,     0.19019,     0.19119,\n",
              "           0.19219,     0.19319,     0.19419,      0.1952,      0.1962,      0.1972,      0.1982,      0.1992,      0.2002,      0.2012,      0.2022,      0.2032,      0.2042,     0.20521,     0.20621,     0.20721,     0.20821,     0.20921,     0.21021,     0.21121,     0.21221,     0.21321,     0.21421,     0.21522,\n",
              "           0.21622,     0.21722,     0.21822,     0.21922,     0.22022,     0.22122,     0.22222,     0.22322,     0.22422,     0.22523,     0.22623,     0.22723,     0.22823,     0.22923,     0.23023,     0.23123,     0.23223,     0.23323,     0.23423,     0.23524,     0.23624,     0.23724,     0.23824,     0.23924,\n",
              "           0.24024,     0.24124,     0.24224,     0.24324,     0.24424,     0.24525,     0.24625,     0.24725,     0.24825,     0.24925,     0.25025,     0.25125,     0.25225,     0.25325,     0.25425,     0.25526,     0.25626,     0.25726,     0.25826,     0.25926,     0.26026,     0.26126,     0.26226,     0.26326,\n",
              "           0.26426,     0.26527,     0.26627,     0.26727,     0.26827,     0.26927,     0.27027,     0.27127,     0.27227,     0.27327,     0.27427,     0.27528,     0.27628,     0.27728,     0.27828,     0.27928,     0.28028,     0.28128,     0.28228,     0.28328,     0.28428,     0.28529,     0.28629,     0.28729,\n",
              "           0.28829,     0.28929,     0.29029,     0.29129,     0.29229,     0.29329,     0.29429,      0.2953,      0.2963,      0.2973,      0.2983,      0.2993,      0.3003,      0.3013,      0.3023,      0.3033,      0.3043,     0.30531,     0.30631,     0.30731,     0.30831,     0.30931,     0.31031,     0.31131,\n",
              "           0.31231,     0.31331,     0.31431,     0.31532,     0.31632,     0.31732,     0.31832,     0.31932,     0.32032,     0.32132,     0.32232,     0.32332,     0.32432,     0.32533,     0.32633,     0.32733,     0.32833,     0.32933,     0.33033,     0.33133,     0.33233,     0.33333,     0.33433,     0.33534,\n",
              "           0.33634,     0.33734,     0.33834,     0.33934,     0.34034,     0.34134,     0.34234,     0.34334,     0.34434,     0.34535,     0.34635,     0.34735,     0.34835,     0.34935,     0.35035,     0.35135,     0.35235,     0.35335,     0.35435,     0.35536,     0.35636,     0.35736,     0.35836,     0.35936,\n",
              "           0.36036,     0.36136,     0.36236,     0.36336,     0.36436,     0.36537,     0.36637,     0.36737,     0.36837,     0.36937,     0.37037,     0.37137,     0.37237,     0.37337,     0.37437,     0.37538,     0.37638,     0.37738,     0.37838,     0.37938,     0.38038,     0.38138,     0.38238,     0.38338,\n",
              "           0.38438,     0.38539,     0.38639,     0.38739,     0.38839,     0.38939,     0.39039,     0.39139,     0.39239,     0.39339,     0.39439,      0.3954,      0.3964,      0.3974,      0.3984,      0.3994,      0.4004,      0.4014,      0.4024,      0.4034,      0.4044,     0.40541,     0.40641,     0.40741,\n",
              "           0.40841,     0.40941,     0.41041,     0.41141,     0.41241,     0.41341,     0.41441,     0.41542,     0.41642,     0.41742,     0.41842,     0.41942,     0.42042,     0.42142,     0.42242,     0.42342,     0.42442,     0.42543,     0.42643,     0.42743,     0.42843,     0.42943,     0.43043,     0.43143,\n",
              "           0.43243,     0.43343,     0.43443,     0.43544,     0.43644,     0.43744,     0.43844,     0.43944,     0.44044,     0.44144,     0.44244,     0.44344,     0.44444,     0.44545,     0.44645,     0.44745,     0.44845,     0.44945,     0.45045,     0.45145,     0.45245,     0.45345,     0.45445,     0.45546,\n",
              "           0.45646,     0.45746,     0.45846,     0.45946,     0.46046,     0.46146,     0.46246,     0.46346,     0.46446,     0.46547,     0.46647,     0.46747,     0.46847,     0.46947,     0.47047,     0.47147,     0.47247,     0.47347,     0.47447,     0.47548,     0.47648,     0.47748,     0.47848,     0.47948,\n",
              "           0.48048,     0.48148,     0.48248,     0.48348,     0.48448,     0.48549,     0.48649,     0.48749,     0.48849,     0.48949,     0.49049,     0.49149,     0.49249,     0.49349,     0.49449,      0.4955,      0.4965,      0.4975,      0.4985,      0.4995,      0.5005,      0.5015,      0.5025,      0.5035,\n",
              "            0.5045,     0.50551,     0.50651,     0.50751,     0.50851,     0.50951,     0.51051,     0.51151,     0.51251,     0.51351,     0.51451,     0.51552,     0.51652,     0.51752,     0.51852,     0.51952,     0.52052,     0.52152,     0.52252,     0.52352,     0.52452,     0.52553,     0.52653,     0.52753,\n",
              "           0.52853,     0.52953,     0.53053,     0.53153,     0.53253,     0.53353,     0.53453,     0.53554,     0.53654,     0.53754,     0.53854,     0.53954,     0.54054,     0.54154,     0.54254,     0.54354,     0.54454,     0.54555,     0.54655,     0.54755,     0.54855,     0.54955,     0.55055,     0.55155,\n",
              "           0.55255,     0.55355,     0.55455,     0.55556,     0.55656,     0.55756,     0.55856,     0.55956,     0.56056,     0.56156,     0.56256,     0.56356,     0.56456,     0.56557,     0.56657,     0.56757,     0.56857,     0.56957,     0.57057,     0.57157,     0.57257,     0.57357,     0.57457,     0.57558,\n",
              "           0.57658,     0.57758,     0.57858,     0.57958,     0.58058,     0.58158,     0.58258,     0.58358,     0.58458,     0.58559,     0.58659,     0.58759,     0.58859,     0.58959,     0.59059,     0.59159,     0.59259,     0.59359,     0.59459,      0.5956,      0.5966,      0.5976,      0.5986,      0.5996,\n",
              "            0.6006,      0.6016,      0.6026,      0.6036,      0.6046,     0.60561,     0.60661,     0.60761,     0.60861,     0.60961,     0.61061,     0.61161,     0.61261,     0.61361,     0.61461,     0.61562,     0.61662,     0.61762,     0.61862,     0.61962,     0.62062,     0.62162,     0.62262,     0.62362,\n",
              "           0.62462,     0.62563,     0.62663,     0.62763,     0.62863,     0.62963,     0.63063,     0.63163,     0.63263,     0.63363,     0.63463,     0.63564,     0.63664,     0.63764,     0.63864,     0.63964,     0.64064,     0.64164,     0.64264,     0.64364,     0.64464,     0.64565,     0.64665,     0.64765,\n",
              "           0.64865,     0.64965,     0.65065,     0.65165,     0.65265,     0.65365,     0.65465,     0.65566,     0.65666,     0.65766,     0.65866,     0.65966,     0.66066,     0.66166,     0.66266,     0.66366,     0.66466,     0.66567,     0.66667,     0.66767,     0.66867,     0.66967,     0.67067,     0.67167,\n",
              "           0.67267,     0.67367,     0.67467,     0.67568,     0.67668,     0.67768,     0.67868,     0.67968,     0.68068,     0.68168,     0.68268,     0.68368,     0.68468,     0.68569,     0.68669,     0.68769,     0.68869,     0.68969,     0.69069,     0.69169,     0.69269,     0.69369,     0.69469,      0.6957,\n",
              "            0.6967,      0.6977,      0.6987,      0.6997,      0.7007,      0.7017,      0.7027,      0.7037,      0.7047,     0.70571,     0.70671,     0.70771,     0.70871,     0.70971,     0.71071,     0.71171,     0.71271,     0.71371,     0.71471,     0.71572,     0.71672,     0.71772,     0.71872,     0.71972,\n",
              "           0.72072,     0.72172,     0.72272,     0.72372,     0.72472,     0.72573,     0.72673,     0.72773,     0.72873,     0.72973,     0.73073,     0.73173,     0.73273,     0.73373,     0.73473,     0.73574,     0.73674,     0.73774,     0.73874,     0.73974,     0.74074,     0.74174,     0.74274,     0.74374,\n",
              "           0.74474,     0.74575,     0.74675,     0.74775,     0.74875,     0.74975,     0.75075,     0.75175,     0.75275,     0.75375,     0.75475,     0.75576,     0.75676,     0.75776,     0.75876,     0.75976,     0.76076,     0.76176,     0.76276,     0.76376,     0.76476,     0.76577,     0.76677,     0.76777,\n",
              "           0.76877,     0.76977,     0.77077,     0.77177,     0.77277,     0.77377,     0.77477,     0.77578,     0.77678,     0.77778,     0.77878,     0.77978,     0.78078,     0.78178,     0.78278,     0.78378,     0.78478,     0.78579,     0.78679,     0.78779,     0.78879,     0.78979,     0.79079,     0.79179,\n",
              "           0.79279,     0.79379,     0.79479,      0.7958,      0.7968,      0.7978,      0.7988,      0.7998,      0.8008,      0.8018,      0.8028,      0.8038,      0.8048,     0.80581,     0.80681,     0.80781,     0.80881,     0.80981,     0.81081,     0.81181,     0.81281,     0.81381,     0.81481,     0.81582,\n",
              "           0.81682,     0.81782,     0.81882,     0.81982,     0.82082,     0.82182,     0.82282,     0.82382,     0.82482,     0.82583,     0.82683,     0.82783,     0.82883,     0.82983,     0.83083,     0.83183,     0.83283,     0.83383,     0.83483,     0.83584,     0.83684,     0.83784,     0.83884,     0.83984,\n",
              "           0.84084,     0.84184,     0.84284,     0.84384,     0.84484,     0.84585,     0.84685,     0.84785,     0.84885,     0.84985,     0.85085,     0.85185,     0.85285,     0.85385,     0.85485,     0.85586,     0.85686,     0.85786,     0.85886,     0.85986,     0.86086,     0.86186,     0.86286,     0.86386,\n",
              "           0.86486,     0.86587,     0.86687,     0.86787,     0.86887,     0.86987,     0.87087,     0.87187,     0.87287,     0.87387,     0.87487,     0.87588,     0.87688,     0.87788,     0.87888,     0.87988,     0.88088,     0.88188,     0.88288,     0.88388,     0.88488,     0.88589,     0.88689,     0.88789,\n",
              "           0.88889,     0.88989,     0.89089,     0.89189,     0.89289,     0.89389,     0.89489,      0.8959,      0.8969,      0.8979,      0.8989,      0.8999,      0.9009,      0.9019,      0.9029,      0.9039,      0.9049,     0.90591,     0.90691,     0.90791,     0.90891,     0.90991,     0.91091,     0.91191,\n",
              "           0.91291,     0.91391,     0.91491,     0.91592,     0.91692,     0.91792,     0.91892,     0.91992,     0.92092,     0.92192,     0.92292,     0.92392,     0.92492,     0.92593,     0.92693,     0.92793,     0.92893,     0.92993,     0.93093,     0.93193,     0.93293,     0.93393,     0.93493,     0.93594,\n",
              "           0.93694,     0.93794,     0.93894,     0.93994,     0.94094,     0.94194,     0.94294,     0.94394,     0.94494,     0.94595,     0.94695,     0.94795,     0.94895,     0.94995,     0.95095,     0.95195,     0.95295,     0.95395,     0.95495,     0.95596,     0.95696,     0.95796,     0.95896,     0.95996,\n",
              "           0.96096,     0.96196,     0.96296,     0.96396,     0.96496,     0.96597,     0.96697,     0.96797,     0.96897,     0.96997,     0.97097,     0.97197,     0.97297,     0.97397,     0.97497,     0.97598,     0.97698,     0.97798,     0.97898,     0.97998,     0.98098,     0.98198,     0.98298,     0.98398,\n",
              "           0.98498,     0.98599,     0.98699,     0.98799,     0.98899,     0.98999,     0.99099,     0.99199,     0.99299,     0.99399,     0.99499,       0.996,       0.997,       0.998,       0.999,           1]), array([[    0.02946,     0.02946,     0.03951,    0.052324,    0.065872,    0.078975,    0.092589,     0.10493,      0.1185,     0.13208,     0.14584,     0.15958,     0.17122,     0.18696,     0.20017,     0.21526,      0.2278,     0.24088,     0.25116,     0.26149,     0.27451,     0.28742,     0.29667,\n",
              "            0.30741,     0.31453,     0.32744,     0.34168,     0.35386,     0.36355,     0.37019,     0.38479,     0.39479,     0.40423,     0.41812,     0.42336,     0.43293,     0.44381,      0.4502,     0.45896,     0.46346,     0.47038,     0.48046,     0.49069,     0.50589,     0.51197,     0.52114,\n",
              "            0.52699,     0.53875,     0.54505,     0.55261,      0.5577,     0.56446,     0.57245,     0.57773,     0.58431,     0.58733,     0.59362,     0.59928,     0.60506,     0.61402,     0.61997,     0.62451,     0.62773,     0.63138,     0.63466,     0.64032,     0.64658,     0.65269,     0.66081,\n",
              "            0.66326,     0.66667,     0.67481,     0.67739,     0.68289,     0.68728,     0.69314,      0.6958,     0.70006,     0.70507,     0.71111,     0.71694,     0.71843,      0.7203,     0.72319,     0.72903,        0.73,     0.73118,     0.73421,     0.73811,     0.73996,     0.74063,     0.74078,\n",
              "            0.74435,     0.75128,     0.75456,     0.75822,     0.75933,     0.76411,     0.76814,     0.77102,     0.77222,     0.77458,     0.77776,     0.77962,     0.78575,     0.78806,     0.79191,     0.79177,     0.79164,     0.79151,     0.79137,     0.79159,     0.79275,     0.79396,     0.79553,\n",
              "            0.79722,     0.79913,     0.80153,     0.80307,     0.80326,     0.80408,      0.8049,     0.80572,     0.80644,     0.80716,     0.80787,      0.8089,     0.81042,     0.81148,     0.81234,     0.81319,     0.81408,     0.81497,     0.81587,     0.81672,     0.81755,     0.81839,     0.81892,\n",
              "             0.8192,     0.81948,     0.81976,     0.82004,     0.82032,      0.8206,     0.82088,     0.82116,     0.82158,     0.82677,     0.82631,     0.82654,     0.82691,     0.82728,     0.82765,     0.82802,      0.8284,     0.82877,     0.82908,     0.82933,     0.82957,     0.82982,     0.83007,\n",
              "            0.83032,     0.83057,     0.83082,     0.83107,     0.83132,     0.83157,     0.83161,     0.83149,     0.83136,     0.83123,     0.83137,     0.83299,     0.83411,      0.8346,      0.8351,     0.83559,     0.83609,     0.83658,     0.83717,     0.83777,     0.83838,     0.83898,      0.8395,\n",
              "            0.83968,     0.83986,     0.84004,     0.84022,      0.8404,     0.84058,     0.84075,     0.84093,     0.84111,     0.84129,     0.84147,     0.84165,     0.84183,     0.84201,     0.84219,      0.8425,     0.84295,     0.84341,     0.84386,     0.84432,     0.84478,      0.8452,     0.84552,\n",
              "            0.84585,     0.84617,      0.8465,     0.84682,     0.84715,     0.84748,      0.8478,     0.84843,     0.84942,      0.8504,     0.85177,     0.85346,     0.85359,      0.8534,     0.85329,     0.85358,     0.85388,     0.85417,     0.85447,     0.85477,     0.85506,     0.85536,     0.85565,\n",
              "            0.85595,     0.85614,     0.85604,     0.85593,     0.85583,     0.85573,     0.85584,     0.85625,     0.85667,     0.85709,      0.8575,     0.85792,     0.85834,     0.85895,     0.85996,     0.86098,     0.86213,     0.86349,     0.86469,      0.8652,     0.86572,     0.86623,     0.86675,\n",
              "            0.86726,     0.86904,     0.87256,     0.87405,     0.87462,      0.8752,     0.87577,     0.87634,     0.87672,     0.87655,     0.87639,     0.87617,     0.87592,      0.8773,      0.8789,     0.87964,     0.88031,     0.88099,     0.88167,     0.88197,     0.88196,     0.88238,      0.8828,\n",
              "            0.88322,     0.88364,     0.88406,     0.88448,     0.88489,     0.88497,     0.88505,     0.88513,     0.88521,     0.88529,     0.88537,     0.88546,     0.88554,     0.88562,      0.8857,     0.88578,     0.88586,     0.88594,     0.88602,      0.8861,     0.88618,     0.88626,     0.88634,\n",
              "            0.88642,      0.8865,     0.88658,     0.88666,     0.88674,     0.88682,      0.8869,     0.88698,     0.88706,     0.88714,     0.88722,      0.8873,     0.88738,     0.88746,     0.88754,     0.88762,     0.88771,     0.88779,     0.88787,     0.88795,     0.88803,     0.88856,     0.89045,\n",
              "            0.89182,     0.89277,     0.89372,     0.89454,     0.89452,      0.8945,     0.89449,     0.89447,     0.89445,     0.89443,     0.89441,     0.89439,     0.89437,     0.89435,     0.89433,     0.89431,     0.89429,     0.89427,     0.89425,     0.89424,     0.89422,      0.8942,     0.89418,\n",
              "            0.89421,     0.89458,     0.89496,     0.89533,      0.8957,     0.89607,     0.89645,     0.89682,     0.89719,      0.8976,     0.89807,     0.89853,       0.899,     0.89947,     0.89993,      0.9004,     0.90063,     0.90074,     0.90199,     0.90323,     0.90477,     0.90649,     0.90772,\n",
              "            0.90872,     0.90971,     0.91053,     0.91086,      0.9112,     0.91153,     0.91186,      0.9122,     0.91253,     0.91286,      0.9132,     0.91353,     0.91388,     0.91589,     0.91729,     0.91728,     0.91727,     0.91726,     0.91725,     0.91724,     0.91723,     0.91722,     0.91721,\n",
              "             0.9172,     0.91719,     0.91718,     0.91717,     0.91716,     0.91715,     0.91714,     0.91713,     0.91712,     0.91711,      0.9171,     0.91709,     0.91709,     0.91708,     0.91707,     0.91706,     0.91705,     0.91704,     0.91703,     0.91702,     0.91701,       0.917,     0.91699,\n",
              "            0.91681,     0.91722,     0.91763,     0.91804,     0.91844,     0.91885,     0.91926,     0.91967,     0.92008,     0.92033,     0.92055,     0.92077,     0.92098,      0.9212,     0.92142,     0.92164,     0.92186,     0.92208,     0.92229,     0.92251,     0.92273,     0.92295,     0.92317,\n",
              "            0.92338,      0.9236,     0.92363,     0.92358,     0.92353,     0.92348,     0.92343,     0.92338,     0.92352,     0.92368,     0.92385,     0.92402,     0.92419,     0.92435,     0.92452,     0.92469,     0.92486,     0.92502,     0.92519,     0.92536,     0.92552,     0.92569,     0.92586,\n",
              "            0.92603,     0.92619,     0.92636,     0.92653,      0.9267,     0.92686,      0.9269,     0.92686,     0.92681,     0.92677,     0.92673,     0.92669,     0.92665,     0.93018,     0.93011,     0.93004,     0.92997,     0.92995,     0.92994,     0.92993,     0.92992,     0.92991,      0.9299,\n",
              "            0.92989,     0.92988,     0.92987,     0.92986,     0.92985,     0.92984,     0.92983,     0.92982,     0.92981,      0.9298,     0.92979,     0.92978,     0.92976,     0.92975,     0.92974,     0.92973,     0.92972,     0.92971,      0.9297,     0.92969,     0.93183,     0.93333,     0.93331,\n",
              "             0.9333,     0.93329,     0.93328,     0.93326,     0.93325,     0.93324,     0.93323,     0.93322,      0.9332,     0.93319,     0.93318,     0.93317,     0.93315,     0.93314,     0.93313,     0.93312,     0.93311,     0.93309,     0.93308,     0.93358,     0.93686,      0.9375,     0.93813,\n",
              "            0.93877,      0.9394,     0.94004,     0.94047,     0.94046,     0.94044,     0.94043,     0.94041,      0.9404,     0.94038,     0.94037,     0.94035,     0.94033,     0.94032,      0.9403,     0.94029,     0.94027,     0.94026,     0.94024,     0.94022,      0.9402,     0.94018,     0.94016,\n",
              "            0.94014,     0.94012,      0.9401,     0.94008,     0.94005,     0.94003,     0.94001,     0.94062,     0.94191,      0.9432,     0.94431,     0.94529,     0.94626,     0.94724,     0.94757,     0.94756,     0.94754,     0.94753,     0.94752,      0.9475,     0.94749,     0.94748,     0.94746,\n",
              "            0.94745,     0.94744,     0.94742,     0.94741,      0.9474,     0.94738,     0.94714,     0.94714,      0.9475,     0.94786,     0.94822,     0.94858,     0.94895,     0.94931,     0.94967,     0.95003,     0.95039,     0.95075,     0.95192,     0.95325,     0.95459,     0.95472,      0.9547,\n",
              "            0.95468,     0.95466,     0.95464,     0.95462,     0.95461,     0.95459,     0.95457,     0.95455,      0.9545,     0.95442,     0.95435,     0.95433,     0.95431,     0.95429,     0.95427,     0.95425,     0.95423,     0.95421,     0.95419,     0.95417,     0.95414,     0.95411,     0.95408,\n",
              "            0.95406,     0.95403,       0.954,     0.95397,     0.95396,     0.95394,     0.95392,     0.95391,     0.95389,     0.95387,     0.95386,     0.95384,     0.95382,     0.95381,     0.95379,     0.95426,     0.95592,     0.95757,     0.95761,      0.9576,     0.95758,     0.95757,     0.95755,\n",
              "            0.95754,     0.95752,      0.9575,     0.95749,     0.95747,     0.95746,      0.9574,     0.95724,     0.95714,     0.95707,     0.95705,     0.95702,     0.95699,     0.95696,     0.95694,     0.95691,      0.9568,     0.95896,      0.9607,     0.96068,     0.96067,     0.96065,     0.96063,\n",
              "            0.96062,      0.9606,     0.96059,     0.96057,     0.96055,     0.96054,     0.96033,     0.96026,     0.96018,     0.96048,     0.96081,     0.96115,     0.96149,     0.96182,     0.96216,      0.9625,     0.96283,     0.96317,     0.96351,     0.96384,     0.96418,      0.9645,     0.96478,\n",
              "            0.96505,     0.96533,     0.96561,     0.96588,     0.96616,     0.96643,     0.96671,     0.96699,     0.96726,     0.96754,     0.96781,     0.96809,     0.96836,     0.96864,     0.96907,     0.96959,     0.97011,     0.97064,     0.97116,     0.97168,     0.97221,     0.97273,     0.97309,\n",
              "            0.97308,     0.97307,     0.97306,     0.97304,     0.97303,     0.97302,     0.97301,       0.973,     0.97298,     0.97283,     0.97271,     0.97269,     0.97266,     0.97264,     0.97261,     0.97257,     0.97252,     0.97259,     0.97303,     0.97347,      0.9739,     0.97434,     0.97478,\n",
              "            0.97522,     0.97565,     0.97609,     0.97653,     0.97696,     0.97694,     0.97691,     0.97689,     0.97687,     0.97684,     0.97679,     0.97674,     0.97672,      0.9767,     0.97668,     0.97666,     0.97664,     0.97662,     0.97659,     0.97657,     0.97655,     0.97653,     0.97645,\n",
              "            0.97638,      0.9763,     0.97628,     0.97626,     0.97623,     0.97621,     0.97619,     0.97615,     0.97611,     0.97607,     0.97605,     0.97602,       0.976,     0.97598,     0.97596,     0.97594,     0.97592,     0.97591,     0.97589,     0.97588,     0.97586,     0.97573,     0.97568,\n",
              "            0.97563,     0.97554,     0.97534,     0.97529,     0.97524,     0.97519,     0.97514,     0.97503,     0.97474,     0.97472,     0.97469,     0.97467,     0.97465,     0.97462,     0.97457,     0.97452,     0.97447,     0.97442,     0.97438,     0.97432,     0.97426,     0.97409,     0.97406,\n",
              "            0.97403,       0.974,     0.97397,     0.97386,     0.97377,      0.9737,     0.97352,     0.97345,     0.97331,     0.97321,     0.97315,     0.97754,     0.97812,     0.97807,     0.97802,     0.98338,     0.98876,     0.98866,     0.98849,     0.98842,     0.98838,     0.98833,     0.98822,\n",
              "             0.9882,     0.98817,     0.98813,     0.98809,     0.98806,     0.98803,     0.98792,     0.98782,     0.98759,     0.99362,     0.99359,     0.99349,     0.99338,     0.99337,     0.99336,     0.99335,     0.99334,     0.99327,     0.99319,     0.99313,     0.99303,     0.99295,     0.99292,\n",
              "            0.99287,     0.99283,     0.99279,     0.99276,     0.99271,           1,           1,           1,           1,           1,           1,           1,           1,           1,           1,           1,           1,           1,           1,           1,           1,           1,           1,\n",
              "                  1,           1,           1,           1,           1,           1,           1,           1,           1,           1,           1,           1,           1,           1,           1,           1,           1,           1,           1,           1,           1,           1,           1,\n",
              "                  1,           1,           1,           1,           1,           1,           1,           1,           1,           1,           1,           1,           1,           1,           1,           1,           1,           1,           1,           1,           1,           1,           1,\n",
              "                  1,           1,           1,           1,           1,           1,           1,           1,           1,           1,           1,           1,           1,           1,           1,           1,           1,           1,           1,           1,           1,           1,           1,\n",
              "                  1,           1,           1,           1,           1,           1,           1,           1,           1,           1,           1,           1,           1,           1,           1,           1,           1,           1,           1,           1,           1,           1,           1,\n",
              "                  1,           1,           1,           1,           1,           1,           1,           1,           1,           1,           1,           1,           1,           1,           1,           1,           1,           1,           1,           1,           1,           1,           1,\n",
              "                  1,           1,           1,           1,           1,           1,           1,           1,           1,           1,           1]]), 'Confidence', 'Precision'], [array([          0,    0.001001,    0.002002,    0.003003,    0.004004,    0.005005,    0.006006,    0.007007,    0.008008,    0.009009,     0.01001,    0.011011,    0.012012,    0.013013,    0.014014,    0.015015,    0.016016,    0.017017,    0.018018,    0.019019,     0.02002,    0.021021,    0.022022,    0.023023,\n",
              "          0.024024,    0.025025,    0.026026,    0.027027,    0.028028,    0.029029,     0.03003,    0.031031,    0.032032,    0.033033,    0.034034,    0.035035,    0.036036,    0.037037,    0.038038,    0.039039,     0.04004,    0.041041,    0.042042,    0.043043,    0.044044,    0.045045,    0.046046,    0.047047,\n",
              "          0.048048,    0.049049,     0.05005,    0.051051,    0.052052,    0.053053,    0.054054,    0.055055,    0.056056,    0.057057,    0.058058,    0.059059,     0.06006,    0.061061,    0.062062,    0.063063,    0.064064,    0.065065,    0.066066,    0.067067,    0.068068,    0.069069,     0.07007,    0.071071,\n",
              "          0.072072,    0.073073,    0.074074,    0.075075,    0.076076,    0.077077,    0.078078,    0.079079,     0.08008,    0.081081,    0.082082,    0.083083,    0.084084,    0.085085,    0.086086,    0.087087,    0.088088,    0.089089,     0.09009,    0.091091,    0.092092,    0.093093,    0.094094,    0.095095,\n",
              "          0.096096,    0.097097,    0.098098,    0.099099,      0.1001,      0.1011,      0.1021,      0.1031,      0.1041,     0.10511,     0.10611,     0.10711,     0.10811,     0.10911,     0.11011,     0.11111,     0.11211,     0.11311,     0.11411,     0.11512,     0.11612,     0.11712,     0.11812,     0.11912,\n",
              "           0.12012,     0.12112,     0.12212,     0.12312,     0.12412,     0.12513,     0.12613,     0.12713,     0.12813,     0.12913,     0.13013,     0.13113,     0.13213,     0.13313,     0.13413,     0.13514,     0.13614,     0.13714,     0.13814,     0.13914,     0.14014,     0.14114,     0.14214,     0.14314,\n",
              "           0.14414,     0.14515,     0.14615,     0.14715,     0.14815,     0.14915,     0.15015,     0.15115,     0.15215,     0.15315,     0.15415,     0.15516,     0.15616,     0.15716,     0.15816,     0.15916,     0.16016,     0.16116,     0.16216,     0.16316,     0.16416,     0.16517,     0.16617,     0.16717,\n",
              "           0.16817,     0.16917,     0.17017,     0.17117,     0.17217,     0.17317,     0.17417,     0.17518,     0.17618,     0.17718,     0.17818,     0.17918,     0.18018,     0.18118,     0.18218,     0.18318,     0.18418,     0.18519,     0.18619,     0.18719,     0.18819,     0.18919,     0.19019,     0.19119,\n",
              "           0.19219,     0.19319,     0.19419,      0.1952,      0.1962,      0.1972,      0.1982,      0.1992,      0.2002,      0.2012,      0.2022,      0.2032,      0.2042,     0.20521,     0.20621,     0.20721,     0.20821,     0.20921,     0.21021,     0.21121,     0.21221,     0.21321,     0.21421,     0.21522,\n",
              "           0.21622,     0.21722,     0.21822,     0.21922,     0.22022,     0.22122,     0.22222,     0.22322,     0.22422,     0.22523,     0.22623,     0.22723,     0.22823,     0.22923,     0.23023,     0.23123,     0.23223,     0.23323,     0.23423,     0.23524,     0.23624,     0.23724,     0.23824,     0.23924,\n",
              "           0.24024,     0.24124,     0.24224,     0.24324,     0.24424,     0.24525,     0.24625,     0.24725,     0.24825,     0.24925,     0.25025,     0.25125,     0.25225,     0.25325,     0.25425,     0.25526,     0.25626,     0.25726,     0.25826,     0.25926,     0.26026,     0.26126,     0.26226,     0.26326,\n",
              "           0.26426,     0.26527,     0.26627,     0.26727,     0.26827,     0.26927,     0.27027,     0.27127,     0.27227,     0.27327,     0.27427,     0.27528,     0.27628,     0.27728,     0.27828,     0.27928,     0.28028,     0.28128,     0.28228,     0.28328,     0.28428,     0.28529,     0.28629,     0.28729,\n",
              "           0.28829,     0.28929,     0.29029,     0.29129,     0.29229,     0.29329,     0.29429,      0.2953,      0.2963,      0.2973,      0.2983,      0.2993,      0.3003,      0.3013,      0.3023,      0.3033,      0.3043,     0.30531,     0.30631,     0.30731,     0.30831,     0.30931,     0.31031,     0.31131,\n",
              "           0.31231,     0.31331,     0.31431,     0.31532,     0.31632,     0.31732,     0.31832,     0.31932,     0.32032,     0.32132,     0.32232,     0.32332,     0.32432,     0.32533,     0.32633,     0.32733,     0.32833,     0.32933,     0.33033,     0.33133,     0.33233,     0.33333,     0.33433,     0.33534,\n",
              "           0.33634,     0.33734,     0.33834,     0.33934,     0.34034,     0.34134,     0.34234,     0.34334,     0.34434,     0.34535,     0.34635,     0.34735,     0.34835,     0.34935,     0.35035,     0.35135,     0.35235,     0.35335,     0.35435,     0.35536,     0.35636,     0.35736,     0.35836,     0.35936,\n",
              "           0.36036,     0.36136,     0.36236,     0.36336,     0.36436,     0.36537,     0.36637,     0.36737,     0.36837,     0.36937,     0.37037,     0.37137,     0.37237,     0.37337,     0.37437,     0.37538,     0.37638,     0.37738,     0.37838,     0.37938,     0.38038,     0.38138,     0.38238,     0.38338,\n",
              "           0.38438,     0.38539,     0.38639,     0.38739,     0.38839,     0.38939,     0.39039,     0.39139,     0.39239,     0.39339,     0.39439,      0.3954,      0.3964,      0.3974,      0.3984,      0.3994,      0.4004,      0.4014,      0.4024,      0.4034,      0.4044,     0.40541,     0.40641,     0.40741,\n",
              "           0.40841,     0.40941,     0.41041,     0.41141,     0.41241,     0.41341,     0.41441,     0.41542,     0.41642,     0.41742,     0.41842,     0.41942,     0.42042,     0.42142,     0.42242,     0.42342,     0.42442,     0.42543,     0.42643,     0.42743,     0.42843,     0.42943,     0.43043,     0.43143,\n",
              "           0.43243,     0.43343,     0.43443,     0.43544,     0.43644,     0.43744,     0.43844,     0.43944,     0.44044,     0.44144,     0.44244,     0.44344,     0.44444,     0.44545,     0.44645,     0.44745,     0.44845,     0.44945,     0.45045,     0.45145,     0.45245,     0.45345,     0.45445,     0.45546,\n",
              "           0.45646,     0.45746,     0.45846,     0.45946,     0.46046,     0.46146,     0.46246,     0.46346,     0.46446,     0.46547,     0.46647,     0.46747,     0.46847,     0.46947,     0.47047,     0.47147,     0.47247,     0.47347,     0.47447,     0.47548,     0.47648,     0.47748,     0.47848,     0.47948,\n",
              "           0.48048,     0.48148,     0.48248,     0.48348,     0.48448,     0.48549,     0.48649,     0.48749,     0.48849,     0.48949,     0.49049,     0.49149,     0.49249,     0.49349,     0.49449,      0.4955,      0.4965,      0.4975,      0.4985,      0.4995,      0.5005,      0.5015,      0.5025,      0.5035,\n",
              "            0.5045,     0.50551,     0.50651,     0.50751,     0.50851,     0.50951,     0.51051,     0.51151,     0.51251,     0.51351,     0.51451,     0.51552,     0.51652,     0.51752,     0.51852,     0.51952,     0.52052,     0.52152,     0.52252,     0.52352,     0.52452,     0.52553,     0.52653,     0.52753,\n",
              "           0.52853,     0.52953,     0.53053,     0.53153,     0.53253,     0.53353,     0.53453,     0.53554,     0.53654,     0.53754,     0.53854,     0.53954,     0.54054,     0.54154,     0.54254,     0.54354,     0.54454,     0.54555,     0.54655,     0.54755,     0.54855,     0.54955,     0.55055,     0.55155,\n",
              "           0.55255,     0.55355,     0.55455,     0.55556,     0.55656,     0.55756,     0.55856,     0.55956,     0.56056,     0.56156,     0.56256,     0.56356,     0.56456,     0.56557,     0.56657,     0.56757,     0.56857,     0.56957,     0.57057,     0.57157,     0.57257,     0.57357,     0.57457,     0.57558,\n",
              "           0.57658,     0.57758,     0.57858,     0.57958,     0.58058,     0.58158,     0.58258,     0.58358,     0.58458,     0.58559,     0.58659,     0.58759,     0.58859,     0.58959,     0.59059,     0.59159,     0.59259,     0.59359,     0.59459,      0.5956,      0.5966,      0.5976,      0.5986,      0.5996,\n",
              "            0.6006,      0.6016,      0.6026,      0.6036,      0.6046,     0.60561,     0.60661,     0.60761,     0.60861,     0.60961,     0.61061,     0.61161,     0.61261,     0.61361,     0.61461,     0.61562,     0.61662,     0.61762,     0.61862,     0.61962,     0.62062,     0.62162,     0.62262,     0.62362,\n",
              "           0.62462,     0.62563,     0.62663,     0.62763,     0.62863,     0.62963,     0.63063,     0.63163,     0.63263,     0.63363,     0.63463,     0.63564,     0.63664,     0.63764,     0.63864,     0.63964,     0.64064,     0.64164,     0.64264,     0.64364,     0.64464,     0.64565,     0.64665,     0.64765,\n",
              "           0.64865,     0.64965,     0.65065,     0.65165,     0.65265,     0.65365,     0.65465,     0.65566,     0.65666,     0.65766,     0.65866,     0.65966,     0.66066,     0.66166,     0.66266,     0.66366,     0.66466,     0.66567,     0.66667,     0.66767,     0.66867,     0.66967,     0.67067,     0.67167,\n",
              "           0.67267,     0.67367,     0.67467,     0.67568,     0.67668,     0.67768,     0.67868,     0.67968,     0.68068,     0.68168,     0.68268,     0.68368,     0.68468,     0.68569,     0.68669,     0.68769,     0.68869,     0.68969,     0.69069,     0.69169,     0.69269,     0.69369,     0.69469,      0.6957,\n",
              "            0.6967,      0.6977,      0.6987,      0.6997,      0.7007,      0.7017,      0.7027,      0.7037,      0.7047,     0.70571,     0.70671,     0.70771,     0.70871,     0.70971,     0.71071,     0.71171,     0.71271,     0.71371,     0.71471,     0.71572,     0.71672,     0.71772,     0.71872,     0.71972,\n",
              "           0.72072,     0.72172,     0.72272,     0.72372,     0.72472,     0.72573,     0.72673,     0.72773,     0.72873,     0.72973,     0.73073,     0.73173,     0.73273,     0.73373,     0.73473,     0.73574,     0.73674,     0.73774,     0.73874,     0.73974,     0.74074,     0.74174,     0.74274,     0.74374,\n",
              "           0.74474,     0.74575,     0.74675,     0.74775,     0.74875,     0.74975,     0.75075,     0.75175,     0.75275,     0.75375,     0.75475,     0.75576,     0.75676,     0.75776,     0.75876,     0.75976,     0.76076,     0.76176,     0.76276,     0.76376,     0.76476,     0.76577,     0.76677,     0.76777,\n",
              "           0.76877,     0.76977,     0.77077,     0.77177,     0.77277,     0.77377,     0.77477,     0.77578,     0.77678,     0.77778,     0.77878,     0.77978,     0.78078,     0.78178,     0.78278,     0.78378,     0.78478,     0.78579,     0.78679,     0.78779,     0.78879,     0.78979,     0.79079,     0.79179,\n",
              "           0.79279,     0.79379,     0.79479,      0.7958,      0.7968,      0.7978,      0.7988,      0.7998,      0.8008,      0.8018,      0.8028,      0.8038,      0.8048,     0.80581,     0.80681,     0.80781,     0.80881,     0.80981,     0.81081,     0.81181,     0.81281,     0.81381,     0.81481,     0.81582,\n",
              "           0.81682,     0.81782,     0.81882,     0.81982,     0.82082,     0.82182,     0.82282,     0.82382,     0.82482,     0.82583,     0.82683,     0.82783,     0.82883,     0.82983,     0.83083,     0.83183,     0.83283,     0.83383,     0.83483,     0.83584,     0.83684,     0.83784,     0.83884,     0.83984,\n",
              "           0.84084,     0.84184,     0.84284,     0.84384,     0.84484,     0.84585,     0.84685,     0.84785,     0.84885,     0.84985,     0.85085,     0.85185,     0.85285,     0.85385,     0.85485,     0.85586,     0.85686,     0.85786,     0.85886,     0.85986,     0.86086,     0.86186,     0.86286,     0.86386,\n",
              "           0.86486,     0.86587,     0.86687,     0.86787,     0.86887,     0.86987,     0.87087,     0.87187,     0.87287,     0.87387,     0.87487,     0.87588,     0.87688,     0.87788,     0.87888,     0.87988,     0.88088,     0.88188,     0.88288,     0.88388,     0.88488,     0.88589,     0.88689,     0.88789,\n",
              "           0.88889,     0.88989,     0.89089,     0.89189,     0.89289,     0.89389,     0.89489,      0.8959,      0.8969,      0.8979,      0.8989,      0.8999,      0.9009,      0.9019,      0.9029,      0.9039,      0.9049,     0.90591,     0.90691,     0.90791,     0.90891,     0.90991,     0.91091,     0.91191,\n",
              "           0.91291,     0.91391,     0.91491,     0.91592,     0.91692,     0.91792,     0.91892,     0.91992,     0.92092,     0.92192,     0.92292,     0.92392,     0.92492,     0.92593,     0.92693,     0.92793,     0.92893,     0.92993,     0.93093,     0.93193,     0.93293,     0.93393,     0.93493,     0.93594,\n",
              "           0.93694,     0.93794,     0.93894,     0.93994,     0.94094,     0.94194,     0.94294,     0.94394,     0.94494,     0.94595,     0.94695,     0.94795,     0.94895,     0.94995,     0.95095,     0.95195,     0.95295,     0.95395,     0.95495,     0.95596,     0.95696,     0.95796,     0.95896,     0.95996,\n",
              "           0.96096,     0.96196,     0.96296,     0.96396,     0.96496,     0.96597,     0.96697,     0.96797,     0.96897,     0.96997,     0.97097,     0.97197,     0.97297,     0.97397,     0.97497,     0.97598,     0.97698,     0.97798,     0.97898,     0.97998,     0.98098,     0.98198,     0.98298,     0.98398,\n",
              "           0.98498,     0.98599,     0.98699,     0.98799,     0.98899,     0.98999,     0.99099,     0.99199,     0.99299,     0.99399,     0.99499,       0.996,       0.997,       0.998,       0.999,           1]), array([[     0.9316,      0.9316,     0.91531,     0.90554,     0.90228,     0.89902,     0.89902,     0.89251,     0.88925,     0.88599,     0.88599,     0.88599,     0.87948,     0.87948,     0.87296,     0.87296,     0.86971,     0.86971,     0.86645,     0.86645,     0.86645,     0.86645,     0.86319,\n",
              "            0.86319,     0.86319,     0.86319,     0.86319,     0.86319,     0.86319,     0.85993,     0.85993,     0.85993,     0.85993,     0.85993,     0.85668,     0.85668,     0.85668,     0.85668,     0.85342,     0.85016,     0.85016,     0.85016,     0.85016,     0.85016,     0.85016,     0.85016,\n",
              "            0.85016,     0.85016,     0.85016,     0.85016,     0.85016,     0.85016,     0.85016,     0.85016,     0.85016,     0.85016,     0.85016,     0.85016,     0.85016,     0.84691,     0.84691,     0.84514,     0.84365,     0.84365,     0.84365,     0.84365,     0.84365,     0.84365,     0.84365,\n",
              "            0.84365,     0.84365,     0.84365,     0.84365,     0.84176,     0.84039,     0.84039,     0.84039,     0.84039,     0.84039,     0.84039,     0.84039,     0.84039,     0.84039,     0.84039,     0.84039,     0.84039,     0.84039,     0.84039,     0.84039,     0.84039,     0.83712,     0.83388,\n",
              "            0.83388,     0.83388,     0.83388,     0.83388,     0.83388,     0.83062,     0.83062,     0.83062,     0.83062,     0.83062,     0.83062,     0.83062,     0.83062,     0.83062,     0.83052,     0.82985,     0.82918,     0.82852,     0.82785,     0.82736,     0.82736,     0.82736,     0.82736,\n",
              "            0.82736,     0.82736,     0.82736,     0.82736,      0.8241,      0.8241,      0.8241,      0.8241,      0.8241,      0.8241,      0.8241,      0.8241,      0.8241,      0.8241,      0.8241,      0.8241,      0.8241,      0.8241,      0.8241,      0.8241,      0.8241,      0.8241,      0.8241,\n",
              "             0.8241,      0.8241,      0.8241,      0.8241,      0.8241,      0.8241,      0.8241,      0.8241,      0.8241,     0.82396,     0.82129,     0.82085,     0.82085,     0.82085,     0.82085,     0.82085,     0.82085,     0.82085,     0.82085,     0.82085,     0.82085,     0.82085,     0.82085,\n",
              "            0.82085,     0.82085,     0.82085,     0.82085,     0.82085,     0.82085,     0.82045,      0.8197,     0.81896,     0.81822,     0.81759,     0.81759,     0.81759,     0.81759,     0.81759,     0.81759,     0.81759,     0.81759,     0.81759,     0.81759,     0.81759,     0.81759,     0.81759,\n",
              "            0.81759,     0.81759,     0.81759,     0.81759,     0.81759,     0.81759,     0.81759,     0.81759,     0.81759,     0.81759,     0.81759,     0.81759,     0.81759,     0.81759,     0.81759,     0.81759,     0.81759,     0.81759,     0.81759,     0.81759,     0.81759,     0.81759,     0.81759,\n",
              "            0.81759,     0.81759,     0.81759,     0.81759,     0.81759,     0.81759,     0.81759,     0.81759,     0.81759,     0.81759,     0.81759,     0.81759,     0.81658,     0.81536,     0.81433,     0.81433,     0.81433,     0.81433,     0.81433,     0.81433,     0.81433,     0.81433,     0.81433,\n",
              "            0.81433,     0.81415,     0.81348,     0.81281,     0.81215,     0.81148,     0.81107,     0.81107,     0.81107,     0.81107,     0.81107,     0.81107,     0.81107,     0.81107,     0.81107,     0.81107,     0.81107,     0.81107,     0.81107,     0.81107,     0.81107,     0.81107,     0.81107,\n",
              "            0.81107,     0.81107,     0.81107,     0.81107,     0.81107,     0.81107,     0.81107,     0.81107,     0.81074,     0.80953,     0.80831,     0.80669,     0.80478,     0.80456,     0.80456,     0.80456,     0.80456,     0.80456,     0.80456,     0.80323,      0.8013,      0.8013,      0.8013,\n",
              "             0.8013,      0.8013,      0.8013,      0.8013,      0.8013,      0.8013,      0.8013,      0.8013,      0.8013,      0.8013,      0.8013,      0.8013,      0.8013,      0.8013,      0.8013,      0.8013,      0.8013,      0.8013,      0.8013,      0.8013,      0.8013,      0.8013,      0.8013,\n",
              "             0.8013,      0.8013,      0.8013,      0.8013,      0.8013,      0.8013,      0.8013,      0.8013,      0.8013,      0.8013,      0.8013,      0.8013,      0.8013,      0.8013,      0.8013,      0.8013,      0.8013,      0.8013,      0.8013,      0.8013,      0.8013,      0.8013,      0.8013,\n",
              "             0.8013,      0.8013,      0.8013,     0.80128,     0.80112,     0.80096,     0.80079,     0.80063,     0.80047,      0.8003,     0.80014,     0.79998,     0.79982,     0.79965,     0.79949,     0.79933,     0.79916,       0.799,     0.79884,     0.79868,     0.79851,     0.79835,     0.79819,\n",
              "            0.79805,     0.79805,     0.79805,     0.79805,     0.79805,     0.79805,     0.79805,     0.79805,     0.79805,     0.79805,     0.79805,     0.79805,     0.79805,     0.79805,     0.79805,     0.79805,     0.79712,     0.79479,     0.79479,     0.79479,     0.79479,     0.79479,     0.79479,\n",
              "            0.79479,     0.79479,     0.79479,     0.79479,     0.79479,     0.79479,     0.79479,     0.79479,     0.79479,     0.79479,     0.79479,     0.79479,     0.79479,     0.79479,     0.79476,     0.79466,     0.79455,     0.79445,     0.79435,     0.79425,     0.79415,     0.79404,     0.79394,\n",
              "            0.79384,     0.79374,     0.79364,     0.79353,     0.79343,     0.79333,     0.79323,     0.79313,     0.79302,     0.79292,     0.79282,     0.79272,     0.79262,     0.79251,     0.79241,     0.79231,     0.79221,     0.79211,       0.792,      0.7919,      0.7918,      0.7917,      0.7916,\n",
              "            0.78827,     0.78827,     0.78827,     0.78827,     0.78827,     0.78827,     0.78827,     0.78827,     0.78827,     0.78827,     0.78827,     0.78827,     0.78827,     0.78827,     0.78827,     0.78827,     0.78827,     0.78827,     0.78827,     0.78827,     0.78827,     0.78827,     0.78827,\n",
              "            0.78827,     0.78827,     0.78787,     0.78732,     0.78676,      0.7862,     0.78565,     0.78509,     0.78502,     0.78502,     0.78502,     0.78502,     0.78502,     0.78502,     0.78502,     0.78502,     0.78502,     0.78502,     0.78502,     0.78502,     0.78502,     0.78502,     0.78502,\n",
              "            0.78502,     0.78502,     0.78502,     0.78502,     0.78502,     0.78502,     0.78471,     0.78423,     0.78375,     0.78328,      0.7828,     0.78232,     0.78185,     0.78108,     0.78024,     0.77941,     0.77857,     0.77839,     0.77826,     0.77814,     0.77802,     0.77789,     0.77777,\n",
              "            0.77765,     0.77752,      0.7774,     0.77728,     0.77715,     0.77703,      0.7769,     0.77678,     0.77666,     0.77653,     0.77641,     0.77629,     0.77616,     0.77604,     0.77592,     0.77579,     0.77567,     0.77554,     0.77542,      0.7753,     0.77524,     0.77515,       0.775,\n",
              "            0.77485,      0.7747,     0.77455,     0.77439,     0.77424,     0.77409,     0.77394,     0.77379,     0.77364,     0.77348,     0.77333,     0.77318,     0.77303,     0.77288,     0.77273,     0.77257,     0.77242,     0.77227,     0.77212,     0.77199,     0.77199,     0.77199,     0.77199,\n",
              "            0.77199,     0.77199,     0.77199,     0.77192,     0.77171,     0.77151,      0.7713,     0.77109,     0.77088,     0.77067,     0.77046,     0.77025,     0.77005,     0.76984,     0.76963,     0.76942,     0.76921,       0.769,     0.76879,     0.76853,     0.76824,     0.76795,     0.76766,\n",
              "            0.76737,     0.76708,     0.76679,      0.7665,      0.7662,     0.76591,     0.76562,     0.76547,     0.76547,     0.76547,     0.76547,     0.76547,     0.76547,     0.76547,     0.76534,     0.76513,     0.76492,     0.76471,      0.7645,     0.76429,     0.76409,     0.76388,     0.76367,\n",
              "            0.76346,     0.76325,     0.76304,     0.76283,     0.76262,     0.76242,      0.7587,      0.7557,      0.7557,      0.7557,      0.7557,      0.7557,      0.7557,      0.7557,      0.7557,      0.7557,      0.7557,      0.7557,      0.7557,      0.7557,      0.7557,     0.75542,      0.7551,\n",
              "            0.75478,     0.75446,     0.75414,     0.75383,     0.75351,     0.75319,     0.75287,     0.75255,     0.75158,     0.75024,     0.74911,     0.74876,     0.74841,     0.74806,     0.74771,     0.74735,       0.747,     0.74665,      0.7463,     0.74595,     0.74548,       0.745,     0.74453,\n",
              "            0.74405,     0.74357,     0.74309,     0.74264,     0.74236,     0.74208,      0.7418,     0.74153,     0.74125,     0.74097,     0.74069,     0.74041,     0.74014,     0.73986,     0.73958,     0.73616,     0.73616,     0.73616,     0.73589,     0.73561,     0.73533,     0.73505,     0.73477,\n",
              "             0.7345,     0.73422,     0.73394,     0.73366,     0.73338,      0.7331,     0.73203,     0.72917,      0.7275,     0.72623,     0.72575,     0.72527,     0.72479,     0.72432,     0.72384,     0.72336,     0.72144,     0.71987,     0.71659,     0.71629,     0.71599,     0.71568,     0.71538,\n",
              "            0.71508,     0.71477,     0.71447,     0.71416,     0.71386,     0.71356,     0.70965,     0.70832,     0.70698,     0.70684,     0.70684,     0.70684,     0.70684,     0.70684,     0.70684,     0.70684,     0.70684,     0.70684,     0.70684,     0.70684,     0.70684,     0.70684,     0.70684,\n",
              "            0.70684,     0.70684,     0.70684,     0.70684,     0.70684,     0.70684,     0.70684,     0.70684,     0.70684,     0.70684,     0.70684,     0.70684,     0.70684,     0.70684,     0.70684,     0.70684,     0.70684,     0.70684,     0.70684,     0.70684,     0.70684,     0.70684,     0.70674,\n",
              "            0.70642,     0.70611,     0.70579,     0.70547,     0.70515,     0.70483,     0.70452,      0.7042,     0.70388,     0.69988,     0.69668,     0.69601,     0.69535,     0.69468,     0.69401,     0.69288,     0.69154,     0.69055,     0.69055,     0.69055,     0.69055,     0.69055,     0.69055,\n",
              "            0.69055,     0.69055,     0.69055,     0.69055,     0.69054,     0.68987,     0.68921,     0.68854,     0.68787,     0.68706,     0.68539,     0.68392,     0.68332,     0.68271,      0.6821,      0.6815,     0.68089,     0.68023,     0.67956,      0.6789,     0.67823,     0.67756,     0.67542,\n",
              "            0.67319,       0.671,     0.67033,     0.66966,     0.66899,     0.66833,      0.6676,     0.66648,     0.66537,     0.66435,     0.66368,     0.66302,     0.66235,     0.66168,     0.66109,     0.66064,      0.6602,     0.65975,     0.65931,     0.65886,     0.65842,      0.6547,     0.65336,\n",
              "            0.65203,     0.64953,     0.64414,     0.64281,     0.64147,     0.64014,      0.6388,     0.63601,      0.6285,      0.6279,     0.62729,     0.62668,     0.62608,     0.62547,     0.62421,     0.62287,     0.62164,     0.62053,     0.61941,       0.618,     0.61634,     0.61231,     0.61157,\n",
              "            0.61083,     0.61008,     0.60934,     0.60677,     0.60465,     0.60298,     0.59887,      0.5972,     0.59384,      0.5917,     0.59036,     0.58958,     0.58248,     0.58115,     0.57981,     0.57814,     0.57299,     0.56817,     0.55964,     0.55599,     0.55432,     0.55156,     0.54648,\n",
              "            0.54536,     0.54425,      0.5423,     0.54033,       0.539,     0.53766,     0.53299,     0.52837,     0.51843,     0.50717,     0.50495,     0.49729,     0.48858,     0.48784,      0.4871,     0.48636,     0.48562,     0.48068,     0.47501,     0.47103,     0.46436,     0.45875,     0.45652,\n",
              "            0.45343,     0.45099,     0.44876,     0.44653,     0.44333,     0.44025,     0.43666,     0.43332,     0.42184,      0.4168,     0.40864,     0.40267,     0.39718,     0.39496,     0.38746,     0.38635,     0.38524,     0.38292,     0.37299,     0.37008,     0.36841,     0.36052,     0.35774,\n",
              "            0.35607,     0.35246,     0.34716,     0.34056,     0.33243,     0.31705,     0.31426,     0.31152,      0.2992,     0.28601,     0.27973,     0.27591,     0.26926,     0.26759,     0.25823,     0.25489,     0.25156,     0.24562,     0.24162,     0.22525,     0.22069,     0.21846,     0.20246,\n",
              "            0.20041,     0.19874,     0.19327,     0.18226,     0.17193,     0.17059,     0.16875,     0.16247,     0.15865,     0.14946,     0.14724,     0.14501,     0.13926,     0.13622,     0.13399,     0.12761,     0.12519,     0.12337,     0.12226,     0.12115,      0.1176,     0.11515,     0.10913,\n",
              "             0.1042,     0.10253,    0.097482,    0.094143,    0.087146,    0.083846,    0.082511,     0.08111,    0.079441,    0.076559,    0.070402,    0.068732,    0.065722,    0.063765,    0.062095,    0.052779,    0.047481,    0.044872,    0.043203,    0.039098,    0.034978,    0.033309,    0.030705,\n",
              "           0.025416,    0.021786,    0.020116,    0.018666,    0.017331,    0.016165,    0.015609,    0.015052,    0.014496,    0.013939,    0.013383,     0.01242,    0.010751,   0.0083911,   0.0060968,   0.0051429,   0.0041889,           0,           0,           0,           0,           0,           0,\n",
              "                  0,           0,           0,           0,           0,           0,           0,           0,           0,           0,           0,           0,           0,           0,           0,           0,           0,           0,           0,           0,           0,           0,           0,\n",
              "                  0,           0,           0,           0,           0,           0,           0,           0,           0,           0,           0]]), 'Confidence', 'Recall']]\n",
              "fitness: 0.6510725989713821\n",
              "keys: ['metrics/precision(B)', 'metrics/recall(B)', 'metrics/mAP50(B)', 'metrics/mAP50-95(B)']\n",
              "maps: array([    0.62953])\n",
              "names: {0: 'LicensePlate'}\n",
              "plot: True\n",
              "results_dict: {'metrics/precision(B)': 0.9192600259140183, 'metrics/recall(B)': 0.7882736156351792, 'metrics/mAP50(B)': 0.8449755964881699, 'metrics/mAP50-95(B)': 0.6295278214695168, 'fitness': 0.6510725989713821}\n",
              "save_dir: PosixPath('runs/detect/train4')\n",
              "speed: {'preprocess': 0.4853571136374574, 'inference': 2.8310254636422045, 'loss': 0.0004276636363184397, 'postprocess': 4.2600737863639635}\n",
              "task: 'detect'"
            ]
          },
          "metadata": {},
          "execution_count": 9
        }
      ]
    },
    {
      "cell_type": "code",
      "source": [
        "import os\n",
        "\n",
        "# List files in the weights directory\n",
        "weights_path = \"runs/detect/train/weights/\"\n",
        "if os.path.exists(weights_path):\n",
        "    print(os.listdir(weights_path))\n",
        "else:\n",
        "    print(\"Weights folder not found!\")"
      ],
      "metadata": {
        "id": "g3MKtzWaE_f1",
        "colab": {
          "base_uri": "https://localhost:8080/"
        },
        "outputId": "694a75be-ac11-48de-9d98-b7a00c5387c8"
      },
      "execution_count": 13,
      "outputs": [
        {
          "output_type": "stream",
          "name": "stdout",
          "text": [
            "[]\n"
          ]
        }
      ]
    },
    {
      "cell_type": "code",
      "source": [
        "import os\n",
        "\n",
        "# Function to search for best.pt\n",
        "def find_best_pt():\n",
        "    for root, dirs, files in os.walk(\"/\"):\n",
        "        if \"best.pt\" in files:\n",
        "            print(\"✅ Found best.pt at:\", os.path.join(root, \"best.pt\"))\n",
        "            return os.path.join(root, \"best.pt\")\n",
        "    print(\"❌ best.pt not found!\")\n",
        "    return None\n",
        "\n",
        "best_model_path = find_best_pt()"
      ],
      "metadata": {
        "id": "STdzWcjQFCLx",
        "colab": {
          "base_uri": "https://localhost:8080/"
        },
        "outputId": "4ec38974-8a1e-43ad-ffd7-11993b1a7c75"
      },
      "execution_count": 16,
      "outputs": [
        {
          "output_type": "stream",
          "name": "stdout",
          "text": [
            "✅ Found best.pt at: /content/runs/detect/train4/weights/best.pt\n"
          ]
        }
      ]
    },
    {
      "cell_type": "code",
      "source": [
        "import shutil\n",
        "\n",
        "# Define source and destination paths\n",
        "source = \"/content/runs/detect/train4/weights/best.pt\"\n",
        "destination = \"/content/drive/MyDrive/best.pt\"\n",
        "\n",
        "# Copy the file\n",
        "shutil.copy(source, destination)\n",
        "\n",
        "print(\"✅ best.pt successfully copied to Google Drive!\")"
      ],
      "metadata": {
        "id": "7kv_ll9qFEfp",
        "colab": {
          "base_uri": "https://localhost:8080/"
        },
        "outputId": "f604bc5c-fc63-4d5d-e5fa-8d15dfd3fc64"
      },
      "execution_count": 19,
      "outputs": [
        {
          "output_type": "stream",
          "name": "stdout",
          "text": [
            "✅ best.pt successfully copied to Google Drive!\n"
          ]
        }
      ]
    },
    {
      "cell_type": "code",
      "source": [
        "from ultralytics import YOLO\n",
        "\n",
        "# Load the best trained YOLO model\n",
        "model = YOLO(\"/content/runs/detect/train4/weights/best.pt\")\n",
        "\n",
        "# Run inference on a sample image\n",
        "results = model(\"/example3.jpeg\")  # Replace with your image path\n",
        "results[0].show()"
      ],
      "metadata": {
        "id": "ckxL4TU7FHx0",
        "colab": {
          "base_uri": "https://localhost:8080/",
          "height": 219
        },
        "outputId": "05b2b1e1-4133-4047-c1fa-af38a6007403"
      },
      "execution_count": 21,
      "outputs": [
        {
          "output_type": "stream",
          "name": "stdout",
          "text": [
            "\n",
            "image 1/1 /example3.jpeg: 384x640 1 LicensePlate, 12.9ms\n",
            "Speed: 1.6ms preprocess, 12.9ms inference, 1.3ms postprocess per image at shape (1, 3, 384, 640)\n"
          ]
        },
        {
          "output_type": "display_data",
          "data": {
            "text/plain": [
              "<PIL.Image.Image image mode=RGB size=253x148>"
            ],
            "image/png": "[encoded data removed]",
            "image/jpeg": "[encoded data removed]"
          },
          "metadata": {}
        }
      ]
    },
    {
      "cell_type": "code",
      "source": [
        "metrics = model.val()\n",
        "print(metrics)"
      ],
      "metadata": {
        "id": "zWZQnPWZFItb",
        "colab": {
          "base_uri": "https://localhost:8080/"
        },
        "outputId": "94bd4c33-7bed-4a55-c45a-021a120db17b"
      },
      "execution_count": 22,
      "outputs": [
        {
          "output_type": "stream",
          "name": "stdout",
          "text": [
            "Ultralytics 8.3.82 🚀 Python-3.11.11 torch-2.5.1+cu124 CUDA:0 (Tesla T4, 15095MiB)\n"
          ]
        },
        {
          "output_type": "stream",
          "name": "stderr",
          "text": [
            "\u001b[34m\u001b[1mval: \u001b[0mScanning /content/license-plate-detection-1/valid/labels.cache... 220 images, 0 backgrounds, 0 corrupt: 100%|██████████| 220/220 [00:00<?, ?it/s]"
          ]
        },
        {
          "output_type": "stream",
          "name": "stdout",
          "text": [
            "WARNING ⚠️ Box and segment counts should be equal, but got len(segments) = 154, len(boxes) = 307. To resolve this only boxes will be used and all segments will be removed. To avoid this please supply either a detect or segment dataset, not a detect-segment mixed dataset.\n"
          ]
        },
        {
          "output_type": "stream",
          "name": "stderr",
          "text": [
            "\n",
            "                 Class     Images  Instances      Box(P          R      mAP50  mAP50-95): 100%|██████████| 14/14 [00:03<00:00,  3.74it/s]\n"
          ]
        },
        {
          "output_type": "stream",
          "name": "stdout",
          "text": [
            "                   all        220        307      0.924      0.791      0.845      0.629\n",
            "Speed: 0.3ms preprocess, 8.1ms inference, 0.0ms loss, 1.0ms postprocess per image\n",
            "Results saved to \u001b[1mruns/detect/val\u001b[0m\n",
            "ultralytics.utils.metrics.DetMetrics object with attributes:\n",
            "\n",
            "ap_class_index: array([0])\n",
            "box: ultralytics.utils.metrics.Metric object\n",
            "confusion_matrix: <ultralytics.utils.metrics.ConfusionMatrix object at 0x7beefb80b810>\n",
            "curves: ['Precision-Recall(B)', 'F1-Confidence(B)', 'Precision-Confidence(B)', 'Recall-Confidence(B)']\n",
            "curves_results: [[array([          0,    0.001001,    0.002002,    0.003003,    0.004004,    0.005005,    0.006006,    0.007007,    0.008008,    0.009009,     0.01001,    0.011011,    0.012012,    0.013013,    0.014014,    0.015015,    0.016016,    0.017017,    0.018018,    0.019019,     0.02002,    0.021021,    0.022022,    0.023023,\n",
            "          0.024024,    0.025025,    0.026026,    0.027027,    0.028028,    0.029029,     0.03003,    0.031031,    0.032032,    0.033033,    0.034034,    0.035035,    0.036036,    0.037037,    0.038038,    0.039039,     0.04004,    0.041041,    0.042042,    0.043043,    0.044044,    0.045045,    0.046046,    0.047047,\n",
            "          0.048048,    0.049049,     0.05005,    0.051051,    0.052052,    0.053053,    0.054054,    0.055055,    0.056056,    0.057057,    0.058058,    0.059059,     0.06006,    0.061061,    0.062062,    0.063063,    0.064064,    0.065065,    0.066066,    0.067067,    0.068068,    0.069069,     0.07007,    0.071071,\n",
            "          0.072072,    0.073073,    0.074074,    0.075075,    0.076076,    0.077077,    0.078078,    0.079079,     0.08008,    0.081081,    0.082082,    0.083083,    0.084084,    0.085085,    0.086086,    0.087087,    0.088088,    0.089089,     0.09009,    0.091091,    0.092092,    0.093093,    0.094094,    0.095095,\n",
            "          0.096096,    0.097097,    0.098098,    0.099099,      0.1001,      0.1011,      0.1021,      0.1031,      0.1041,     0.10511,     0.10611,     0.10711,     0.10811,     0.10911,     0.11011,     0.11111,     0.11211,     0.11311,     0.11411,     0.11512,     0.11612,     0.11712,     0.11812,     0.11912,\n",
            "           0.12012,     0.12112,     0.12212,     0.12312,     0.12412,     0.12513,     0.12613,     0.12713,     0.12813,     0.12913,     0.13013,     0.13113,     0.13213,     0.13313,     0.13413,     0.13514,     0.13614,     0.13714,     0.13814,     0.13914,     0.14014,     0.14114,     0.14214,     0.14314,\n",
            "           0.14414,     0.14515,     0.14615,     0.14715,     0.14815,     0.14915,     0.15015,     0.15115,     0.15215,     0.15315,     0.15415,     0.15516,     0.15616,     0.15716,     0.15816,     0.15916,     0.16016,     0.16116,     0.16216,     0.16316,     0.16416,     0.16517,     0.16617,     0.16717,\n",
            "           0.16817,     0.16917,     0.17017,     0.17117,     0.17217,     0.17317,     0.17417,     0.17518,     0.17618,     0.17718,     0.17818,     0.17918,     0.18018,     0.18118,     0.18218,     0.18318,     0.18418,     0.18519,     0.18619,     0.18719,     0.18819,     0.18919,     0.19019,     0.19119,\n",
            "           0.19219,     0.19319,     0.19419,      0.1952,      0.1962,      0.1972,      0.1982,      0.1992,      0.2002,      0.2012,      0.2022,      0.2032,      0.2042,     0.20521,     0.20621,     0.20721,     0.20821,     0.20921,     0.21021,     0.21121,     0.21221,     0.21321,     0.21421,     0.21522,\n",
            "           0.21622,     0.21722,     0.21822,     0.21922,     0.22022,     0.22122,     0.22222,     0.22322,     0.22422,     0.22523,     0.22623,     0.22723,     0.22823,     0.22923,     0.23023,     0.23123,     0.23223,     0.23323,     0.23423,     0.23524,     0.23624,     0.23724,     0.23824,     0.23924,\n",
            "           0.24024,     0.24124,     0.24224,     0.24324,     0.24424,     0.24525,     0.24625,     0.24725,     0.24825,     0.24925,     0.25025,     0.25125,     0.25225,     0.25325,     0.25425,     0.25526,     0.25626,     0.25726,     0.25826,     0.25926,     0.26026,     0.26126,     0.26226,     0.26326,\n",
            "           0.26426,     0.26527,     0.26627,     0.26727,     0.26827,     0.26927,     0.27027,     0.27127,     0.27227,     0.27327,     0.27427,     0.27528,     0.27628,     0.27728,     0.27828,     0.27928,     0.28028,     0.28128,     0.28228,     0.28328,     0.28428,     0.28529,     0.28629,     0.28729,\n",
            "           0.28829,     0.28929,     0.29029,     0.29129,     0.29229,     0.29329,     0.29429,      0.2953,      0.2963,      0.2973,      0.2983,      0.2993,      0.3003,      0.3013,      0.3023,      0.3033,      0.3043,     0.30531,     0.30631,     0.30731,     0.30831,     0.30931,     0.31031,     0.31131,\n",
            "           0.31231,     0.31331,     0.31431,     0.31532,     0.31632,     0.31732,     0.31832,     0.31932,     0.32032,     0.32132,     0.32232,     0.32332,     0.32432,     0.32533,     0.32633,     0.32733,     0.32833,     0.32933,     0.33033,     0.33133,     0.33233,     0.33333,     0.33433,     0.33534,\n",
            "           0.33634,     0.33734,     0.33834,     0.33934,     0.34034,     0.34134,     0.34234,     0.34334,     0.34434,     0.34535,     0.34635,     0.34735,     0.34835,     0.34935,     0.35035,     0.35135,     0.35235,     0.35335,     0.35435,     0.35536,     0.35636,     0.35736,     0.35836,     0.35936,\n",
            "           0.36036,     0.36136,     0.36236,     0.36336,     0.36436,     0.36537,     0.36637,     0.36737,     0.36837,     0.36937,     0.37037,     0.37137,     0.37237,     0.37337,     0.37437,     0.37538,     0.37638,     0.37738,     0.37838,     0.37938,     0.38038,     0.38138,     0.38238,     0.38338,\n",
            "           0.38438,     0.38539,     0.38639,     0.38739,     0.38839,     0.38939,     0.39039,     0.39139,     0.39239,     0.39339,     0.39439,      0.3954,      0.3964,      0.3974,      0.3984,      0.3994,      0.4004,      0.4014,      0.4024,      0.4034,      0.4044,     0.40541,     0.40641,     0.40741,\n",
            "           0.40841,     0.40941,     0.41041,     0.41141,     0.41241,     0.41341,     0.41441,     0.41542,     0.41642,     0.41742,     0.41842,     0.41942,     0.42042,     0.42142,     0.42242,     0.42342,     0.42442,     0.42543,     0.42643,     0.42743,     0.42843,     0.42943,     0.43043,     0.43143,\n",
            "           0.43243,     0.43343,     0.43443,     0.43544,     0.43644,     0.43744,     0.43844,     0.43944,     0.44044,     0.44144,     0.44244,     0.44344,     0.44444,     0.44545,     0.44645,     0.44745,     0.44845,     0.44945,     0.45045,     0.45145,     0.45245,     0.45345,     0.45445,     0.45546,\n",
            "           0.45646,     0.45746,     0.45846,     0.45946,     0.46046,     0.46146,     0.46246,     0.46346,     0.46446,     0.46547,     0.46647,     0.46747,     0.46847,     0.46947,     0.47047,     0.47147,     0.47247,     0.47347,     0.47447,     0.47548,     0.47648,     0.47748,     0.47848,     0.47948,\n",
            "           0.48048,     0.48148,     0.48248,     0.48348,     0.48448,     0.48549,     0.48649,     0.48749,     0.48849,     0.48949,     0.49049,     0.49149,     0.49249,     0.49349,     0.49449,      0.4955,      0.4965,      0.4975,      0.4985,      0.4995,      0.5005,      0.5015,      0.5025,      0.5035,\n",
            "            0.5045,     0.50551,     0.50651,     0.50751,     0.50851,     0.50951,     0.51051,     0.51151,     0.51251,     0.51351,     0.51451,     0.51552,     0.51652,     0.51752,     0.51852,     0.51952,     0.52052,     0.52152,     0.52252,     0.52352,     0.52452,     0.52553,     0.52653,     0.52753,\n",
            "           0.52853,     0.52953,     0.53053,     0.53153,     0.53253,     0.53353,     0.53453,     0.53554,     0.53654,     0.53754,     0.53854,     0.53954,     0.54054,     0.54154,     0.54254,     0.54354,     0.54454,     0.54555,     0.54655,     0.54755,     0.54855,     0.54955,     0.55055,     0.55155,\n",
            "           0.55255,     0.55355,     0.55455,     0.55556,     0.55656,     0.55756,     0.55856,     0.55956,     0.56056,     0.56156,     0.56256,     0.56356,     0.56456,     0.56557,     0.56657,     0.56757,     0.56857,     0.56957,     0.57057,     0.57157,     0.57257,     0.57357,     0.57457,     0.57558,\n",
            "           0.57658,     0.57758,     0.57858,     0.57958,     0.58058,     0.58158,     0.58258,     0.58358,     0.58458,     0.58559,     0.58659,     0.58759,     0.58859,     0.58959,     0.59059,     0.59159,     0.59259,     0.59359,     0.59459,      0.5956,      0.5966,      0.5976,      0.5986,      0.5996,\n",
            "            0.6006,      0.6016,      0.6026,      0.6036,      0.6046,     0.60561,     0.60661,     0.60761,     0.60861,     0.60961,     0.61061,     0.61161,     0.61261,     0.61361,     0.61461,     0.61562,     0.61662,     0.61762,     0.61862,     0.61962,     0.62062,     0.62162,     0.62262,     0.62362,\n",
            "           0.62462,     0.62563,     0.62663,     0.62763,     0.62863,     0.62963,     0.63063,     0.63163,     0.63263,     0.63363,     0.63463,     0.63564,     0.63664,     0.63764,     0.63864,     0.63964,     0.64064,     0.64164,     0.64264,     0.64364,     0.64464,     0.64565,     0.64665,     0.64765,\n",
            "           0.64865,     0.64965,     0.65065,     0.65165,     0.65265,     0.65365,     0.65465,     0.65566,     0.65666,     0.65766,     0.65866,     0.65966,     0.66066,     0.66166,     0.66266,     0.66366,     0.66466,     0.66567,     0.66667,     0.66767,     0.66867,     0.66967,     0.67067,     0.67167,\n",
            "           0.67267,     0.67367,     0.67467,     0.67568,     0.67668,     0.67768,     0.67868,     0.67968,     0.68068,     0.68168,     0.68268,     0.68368,     0.68468,     0.68569,     0.68669,     0.68769,     0.68869,     0.68969,     0.69069,     0.69169,     0.69269,     0.69369,     0.69469,      0.6957,\n",
            "            0.6967,      0.6977,      0.6987,      0.6997,      0.7007,      0.7017,      0.7027,      0.7037,      0.7047,     0.70571,     0.70671,     0.70771,     0.70871,     0.70971,     0.71071,     0.71171,     0.71271,     0.71371,     0.71471,     0.71572,     0.71672,     0.71772,     0.71872,     0.71972,\n",
            "           0.72072,     0.72172,     0.72272,     0.72372,     0.72472,     0.72573,     0.72673,     0.72773,     0.72873,     0.72973,     0.73073,     0.73173,     0.73273,     0.73373,     0.73473,     0.73574,     0.73674,     0.73774,     0.73874,     0.73974,     0.74074,     0.74174,     0.74274,     0.74374,\n",
            "           0.74474,     0.74575,     0.74675,     0.74775,     0.74875,     0.74975,     0.75075,     0.75175,     0.75275,     0.75375,     0.75475,     0.75576,     0.75676,     0.75776,     0.75876,     0.75976,     0.76076,     0.76176,     0.76276,     0.76376,     0.76476,     0.76577,     0.76677,     0.76777,\n",
            "           0.76877,     0.76977,     0.77077,     0.77177,     0.77277,     0.77377,     0.77477,     0.77578,     0.77678,     0.77778,     0.77878,     0.77978,     0.78078,     0.78178,     0.78278,     0.78378,     0.78478,     0.78579,     0.78679,     0.78779,     0.78879,     0.78979,     0.79079,     0.79179,\n",
            "           0.79279,     0.79379,     0.79479,      0.7958,      0.7968,      0.7978,      0.7988,      0.7998,      0.8008,      0.8018,      0.8028,      0.8038,      0.8048,     0.80581,     0.80681,     0.80781,     0.80881,     0.80981,     0.81081,     0.81181,     0.81281,     0.81381,     0.81481,     0.81582,\n",
            "           0.81682,     0.81782,     0.81882,     0.81982,     0.82082,     0.82182,     0.82282,     0.82382,     0.82482,     0.82583,     0.82683,     0.82783,     0.82883,     0.82983,     0.83083,     0.83183,     0.83283,     0.83383,     0.83483,     0.83584,     0.83684,     0.83784,     0.83884,     0.83984,\n",
            "           0.84084,     0.84184,     0.84284,     0.84384,     0.84484,     0.84585,     0.84685,     0.84785,     0.84885,     0.84985,     0.85085,     0.85185,     0.85285,     0.85385,     0.85485,     0.85586,     0.85686,     0.85786,     0.85886,     0.85986,     0.86086,     0.86186,     0.86286,     0.86386,\n",
            "           0.86486,     0.86587,     0.86687,     0.86787,     0.86887,     0.86987,     0.87087,     0.87187,     0.87287,     0.87387,     0.87487,     0.87588,     0.87688,     0.87788,     0.87888,     0.87988,     0.88088,     0.88188,     0.88288,     0.88388,     0.88488,     0.88589,     0.88689,     0.88789,\n",
            "           0.88889,     0.88989,     0.89089,     0.89189,     0.89289,     0.89389,     0.89489,      0.8959,      0.8969,      0.8979,      0.8989,      0.8999,      0.9009,      0.9019,      0.9029,      0.9039,      0.9049,     0.90591,     0.90691,     0.90791,     0.90891,     0.90991,     0.91091,     0.91191,\n",
            "           0.91291,     0.91391,     0.91491,     0.91592,     0.91692,     0.91792,     0.91892,     0.91992,     0.92092,     0.92192,     0.92292,     0.92392,     0.92492,     0.92593,     0.92693,     0.92793,     0.92893,     0.92993,     0.93093,     0.93193,     0.93293,     0.93393,     0.93493,     0.93594,\n",
            "           0.93694,     0.93794,     0.93894,     0.93994,     0.94094,     0.94194,     0.94294,     0.94394,     0.94494,     0.94595,     0.94695,     0.94795,     0.94895,     0.94995,     0.95095,     0.95195,     0.95295,     0.95395,     0.95495,     0.95596,     0.95696,     0.95796,     0.95896,     0.95996,\n",
            "           0.96096,     0.96196,     0.96296,     0.96396,     0.96496,     0.96597,     0.96697,     0.96797,     0.96897,     0.96997,     0.97097,     0.97197,     0.97297,     0.97397,     0.97497,     0.97598,     0.97698,     0.97798,     0.97898,     0.97998,     0.98098,     0.98198,     0.98298,     0.98398,\n",
            "           0.98498,     0.98599,     0.98699,     0.98799,     0.98899,     0.98999,     0.99099,     0.99199,     0.99299,     0.99399,     0.99499,       0.996,       0.997,       0.998,       0.999,           1]), array([[          1,           1,           1,           1,           1,           1,           1,           1,           1,           1,           1,           1,           1,           1,           1,           1,           1,           1,           1,           1,           1,           1,           1,\n",
            "                  1,           1,           1,           1,           1,           1,           1,           1,           1,           1,           1,           1,           1,           1,           1,           1,           1,           1,           1,           1,           1,           1,           1,\n",
            "                  1,           1,           1,           1,           1,           1,           1,           1,           1,           1,           1,           1,           1,           1,           1,           1,           1,           1,           1,           1,           1,           1,           1,\n",
            "                  1,           1,           1,           1,           1,           1,           1,           1,           1,           1,           1,           1,           1,           1,           1,           1,           1,           1,           1,           1,           1,           1,           1,\n",
            "                  1,           1,           1,           1,           1,           1,           1,           1,           1,           1,           1,           1,           1,           1,           1,           1,           1,           1,           1,           1,           1,           1,           1,\n",
            "                  1,           1,           1,           1,           1,           1,           1,           1,           1,           1,           1,           1,           1,           1,           1,           1,           1,           1,           1,           1,           1,           1,           1,\n",
            "                  1,           1,           1,           1,           1,           1,           1,           1,           1,           1,           1,           1,           1,           1,           1,           1,           1,           1,           1,           1,           1,           1,           1,\n",
            "                  1,           1,           1,           1,           1,           1,           1,           1,           1,           1,           1,           1,           1,           1,           1,           1,           1,           1,           1,           1,           1,           1,           1,\n",
            "                  1,           1,           1,           1,           1,           1,           1,           1,           1,           1,           1,           1,           1,           1,           1,           1,           1,           1,           1,           1,           1,           1,           1,\n",
            "                  1,           1,           1,           1,           1,           1,           1,           1,           1,           1,           1,           1,           1,           1,           1,           1,           1,           1,           1,           1,           1,           1,           1,\n",
            "                  1,           1,           1,           1,           1,           1,           1,           1,           1,           1,           1,           1,           1,           1,           1,           1,           1,           1,           1,           1,           1,           1,           1,\n",
            "                  1,           1,           1,           1,           1,           1,           1,           1,           1,           1,           1,           1,           1,           1,           1,           1,           1,           1,           1,           1,           1,           1,           1,\n",
            "                  1,           1,           1,           1,           1,           1,           1,           1,           1,           1,           1,           1,           1,           1,           1,           1,           1,           1,           1,           1,           1,           1,           1,\n",
            "                  1,           1,           1,           1,           1,           1,           1,           1,           1,           1,           1,           1,           1,           1,           1,           1,           1,           1,           1,           1,           1,           1,           1,\n",
            "                  1,           1,           1,           1,           1,           1,           1,           1,           1,           1,           1,           1,           1,           1,           1,           1,           1,           1,           1,           1,           1,           1,           1,\n",
            "                  1,           1,           1,           1,           1,           1,           1,           1,           1,           1,           1,           1,           1,           1,           1,           1,           1,           1,           1,           1,           1,           1,           1,\n",
            "                  1,           1,           1,           1,           1,           1,           1,           1,           1,           1,           1,           1,           1,           1,           1,           1,           1,           1,           1,           1,           1,           1,           1,\n",
            "                  1,           1,           1,           1,           1,           1,           1,           1,           1,           1,           1,           1,           1,           1,           1,           1,           1,           1,           1,           1,           1,           1,           1,\n",
            "                  1,           1,           1,           1,           1,           1,           1,           1,           1,           1,           1,           1,           1,           1,           1,           1,           1,           1,           1,           1,           1,           1,           1,\n",
            "                  1,           1,           1,           1,           1,           1,     0.99367,     0.99367,     0.99367,     0.99367,     0.99367,     0.99367,     0.99367,     0.99367,     0.99367,     0.99367,     0.99367,     0.99367,     0.99367,     0.99367,     0.99367,     0.99367,     0.99367,\n",
            "            0.99367,     0.99367,     0.99367,     0.99367,     0.99367,     0.99367,     0.99367,     0.99367,     0.99367,     0.99367,     0.99367,     0.99367,     0.99367,     0.99367,     0.99367,     0.99367,     0.99367,     0.99367,     0.99367,     0.99367,     0.99367,     0.99367,     0.99367,\n",
            "            0.99367,     0.99367,     0.99367,     0.99367,     0.99367,     0.99367,     0.99367,     0.99367,     0.99367,     0.99367,     0.99367,     0.99367,     0.99367,     0.99367,     0.99367,     0.99367,     0.99367,     0.99367,     0.99367,     0.99367,     0.99367,     0.99367,     0.99367,\n",
            "            0.99367,     0.99367,     0.99367,     0.99367,     0.99367,     0.98883,     0.98883,     0.98883,     0.98883,     0.98883,     0.98883,     0.98883,     0.98883,     0.98883,     0.98883,     0.98883,     0.98883,     0.98883,     0.98883,     0.98883,     0.98883,     0.98883,     0.98883,\n",
            "            0.98883,     0.98883,     0.98883,     0.98883,     0.98883,     0.98883,     0.98883,     0.98883,     0.98883,     0.98883,     0.98883,     0.98883,     0.98883,     0.98883,     0.98883,     0.98883,     0.98883,     0.98883,     0.98883,     0.98883,     0.98883,     0.98883,     0.98883,\n",
            "            0.98883,     0.98883,     0.98883,     0.98883,     0.98883,     0.98883,     0.98883,     0.98883,     0.98883,     0.98883,     0.98883,     0.98883,     0.98883,     0.98883,     0.98883,     0.98883,     0.98883,     0.98883,     0.98883,     0.98883,     0.98883,     0.98883,     0.98883,\n",
            "            0.98883,     0.98343,     0.98343,     0.98343,     0.98343,     0.97838,     0.97838,     0.97838,     0.97838,     0.97838,     0.97838,     0.97838,     0.97838,     0.97838,     0.97696,     0.97696,     0.97696,     0.97696,     0.97696,     0.97696,     0.97696,     0.97696,     0.97696,\n",
            "            0.97696,     0.97696,     0.97696,     0.97696,     0.97696,     0.97696,     0.97696,     0.97696,     0.97696,     0.97696,     0.97696,     0.97696,     0.97696,     0.97696,     0.97696,     0.97696,     0.97696,     0.97696,     0.97696,     0.97696,     0.97696,     0.97696,     0.97696,\n",
            "            0.97696,     0.97696,     0.97696,     0.97696,     0.97696,     0.97696,     0.97696,     0.97696,     0.97696,     0.97696,     0.97696,     0.97696,     0.97696,     0.97696,     0.97696,     0.97696,     0.97696,     0.97696,     0.97696,     0.97696,     0.97696,     0.97696,     0.97696,\n",
            "            0.97696,     0.97696,     0.97696,     0.97696,     0.97696,     0.97696,     0.97696,     0.97696,     0.97696,     0.97696,     0.97696,     0.97696,     0.97696,     0.97696,     0.97696,     0.97696,     0.97696,     0.97696,     0.97696,     0.97696,     0.97696,     0.97696,     0.97696,\n",
            "            0.97696,     0.97696,     0.97696,     0.97696,     0.97696,     0.97696,     0.97696,     0.97696,     0.97696,     0.97696,     0.97696,     0.97696,     0.97696,     0.97696,     0.97696,     0.97696,     0.97696,     0.97696,     0.97696,     0.97696,     0.97696,     0.97696,     0.97696,\n",
            "            0.97309,     0.97309,     0.97309,     0.97309,     0.97309,     0.97309,     0.97309,     0.97309,     0.97309,     0.97309,     0.97309,     0.97309,     0.97309,     0.97309,     0.97309,     0.97309,     0.97309,     0.96087,     0.96087,     0.96087,     0.96087,     0.96087,     0.96087,\n",
            "            0.96087,     0.96087,     0.96087,     0.96087,     0.96087,     0.96087,     0.96087,     0.95763,     0.95763,     0.95763,     0.95763,     0.95763,     0.95763,     0.95763,     0.95763,     0.95763,     0.95763,     0.95763,     0.95763,     0.95763,     0.95763,     0.95763,     0.95763,\n",
            "            0.95473,     0.95473,     0.95473,     0.95473,     0.95473,     0.95473,     0.95473,     0.95473,     0.95473,     0.95473,     0.95473,     0.95473,     0.95473,     0.95473,     0.95473,     0.95473,     0.95473,     0.95473,     0.95473,     0.95102,     0.95102,     0.95102,     0.95102,\n",
            "            0.94758,     0.94758,     0.94758,     0.94758,     0.94758,     0.94758,     0.94048,     0.94048,     0.94048,     0.94048,     0.94048,     0.94048,     0.94048,     0.93333,     0.93333,     0.93333,     0.92996,     0.92996,     0.92996,     0.92692,     0.92692,     0.92692,     0.92692,\n",
            "            0.92692,     0.92692,     0.92692,     0.92395,     0.92395,     0.92395,     0.92395,     0.92395,     0.92395,     0.92075,     0.92075,     0.92075,     0.90741,     0.90741,     0.90741,     0.90741,     0.89781,     0.89781,     0.89781,      0.8853,      0.8853,      0.8853,     0.87986,\n",
            "            0.87986,     0.87986,     0.87986,     0.87986,     0.87986,     0.87986,     0.85911,     0.85911,     0.85911,     0.85666,     0.85666,     0.85666,     0.83444,     0.83444,     0.83444,     0.83444,     0.82951,     0.82951,     0.82951,     0.80635,     0.80635,     0.80635,     0.79439,\n",
            "            0.79439,     0.79439,     0.76418,     0.76418,     0.76418,     0.76418,     0.74352,     0.74352,     0.74352,     0.74352,     0.74352,     0.74352,     0.68158,     0.68158,     0.68158,       0.625,       0.625,       0.625,       0.625,     0.60417,     0.60417,     0.60417,     0.46127,\n",
            "            0.46127,     0.46127,     0.45502,     0.45502,     0.45502,     0.42308,     0.42308,     0.42308,     0.42308,     0.36653,     0.36653,     0.36653,     0.29787,     0.29787,     0.29787,     0.25165,     0.25165,     0.25165,     0.22167,     0.22167,     0.22167,     0.22167,     0.19867,\n",
            "            0.19867,     0.19867,     0.19751,     0.19751,     0.19751,     0.17001,     0.17001,     0.17001,     0.16626,     0.16626,     0.16626,     0.16626,      0.1261,      0.1261,      0.1261,     0.11441,     0.11441,     0.11441,       0.102,       0.102,       0.102,    0.097665,    0.097665,\n",
            "           0.097665,    0.097665,    0.067528,    0.067528,    0.067528,    0.056241,    0.056241,    0.056241,    0.050171,    0.050171,    0.050171,    0.047538,    0.047538,    0.047538,    0.047538,    0.041965,    0.041965,    0.041965,    0.039243,    0.039243,    0.039243,    0.038425,    0.038425,\n",
            "           0.038425,    0.038363,    0.038363,    0.038363,    0.038363,    0.037808,    0.037808,    0.037808,      0.0353,      0.0353,      0.0353,    0.029291,    0.028861,     0.02843,    0.027999,    0.027568,    0.027138,    0.026707,    0.026276,    0.025845,    0.025415,    0.024984,    0.024553,\n",
            "           0.024122,    0.023692,    0.023261,     0.02283,    0.022399,    0.021969,    0.021538,    0.021107,    0.020676,    0.020246,    0.019815,    0.019384,    0.018953,    0.018523,    0.018092,    0.017661,     0.01723,      0.0168,    0.016369,    0.015938,    0.015507,    0.015076,    0.014646,\n",
            "           0.014215,    0.013784,    0.013353,    0.012923,    0.012492,    0.012061,     0.01163,      0.0112,    0.010769,    0.010338,   0.0099074,   0.0094766,   0.0090459,   0.0086151,   0.0081844,   0.0077536,   0.0073229,   0.0068921,   0.0064614,   0.0060306,   0.0055998,   0.0051691,   0.0047383,\n",
            "          0.0043076,   0.0038768,   0.0034461,   0.0030153,   0.0025845,   0.0021538,    0.001723,   0.0012923,  0.00086151,  0.00043076,           0]]), 'Recall', 'Precision'], [array([          0,    0.001001,    0.002002,    0.003003,    0.004004,    0.005005,    0.006006,    0.007007,    0.008008,    0.009009,     0.01001,    0.011011,    0.012012,    0.013013,    0.014014,    0.015015,    0.016016,    0.017017,    0.018018,    0.019019,     0.02002,    0.021021,    0.022022,    0.023023,\n",
            "          0.024024,    0.025025,    0.026026,    0.027027,    0.028028,    0.029029,     0.03003,    0.031031,    0.032032,    0.033033,    0.034034,    0.035035,    0.036036,    0.037037,    0.038038,    0.039039,     0.04004,    0.041041,    0.042042,    0.043043,    0.044044,    0.045045,    0.046046,    0.047047,\n",
            "          0.048048,    0.049049,     0.05005,    0.051051,    0.052052,    0.053053,    0.054054,    0.055055,    0.056056,    0.057057,    0.058058,    0.059059,     0.06006,    0.061061,    0.062062,    0.063063,    0.064064,    0.065065,    0.066066,    0.067067,    0.068068,    0.069069,     0.07007,    0.071071,\n",
            "          0.072072,    0.073073,    0.074074,    0.075075,    0.076076,    0.077077,    0.078078,    0.079079,     0.08008,    0.081081,    0.082082,    0.083083,    0.084084,    0.085085,    0.086086,    0.087087,    0.088088,    0.089089,     0.09009,    0.091091,    0.092092,    0.093093,    0.094094,    0.095095,\n",
            "          0.096096,    0.097097,    0.098098,    0.099099,      0.1001,      0.1011,      0.1021,      0.1031,      0.1041,     0.10511,     0.10611,     0.10711,     0.10811,     0.10911,     0.11011,     0.11111,     0.11211,     0.11311,     0.11411,     0.11512,     0.11612,     0.11712,     0.11812,     0.11912,\n",
            "           0.12012,     0.12112,     0.12212,     0.12312,     0.12412,     0.12513,     0.12613,     0.12713,     0.12813,     0.12913,     0.13013,     0.13113,     0.13213,     0.13313,     0.13413,     0.13514,     0.13614,     0.13714,     0.13814,     0.13914,     0.14014,     0.14114,     0.14214,     0.14314,\n",
            "           0.14414,     0.14515,     0.14615,     0.14715,     0.14815,     0.14915,     0.15015,     0.15115,     0.15215,     0.15315,     0.15415,     0.15516,     0.15616,     0.15716,     0.15816,     0.15916,     0.16016,     0.16116,     0.16216,     0.16316,     0.16416,     0.16517,     0.16617,     0.16717,\n",
            "           0.16817,     0.16917,     0.17017,     0.17117,     0.17217,     0.17317,     0.17417,     0.17518,     0.17618,     0.17718,     0.17818,     0.17918,     0.18018,     0.18118,     0.18218,     0.18318,     0.18418,     0.18519,     0.18619,     0.18719,     0.18819,     0.18919,     0.19019,     0.19119,\n",
            "           0.19219,     0.19319,     0.19419,      0.1952,      0.1962,      0.1972,      0.1982,      0.1992,      0.2002,      0.2012,      0.2022,      0.2032,      0.2042,     0.20521,     0.20621,     0.20721,     0.20821,     0.20921,     0.21021,     0.21121,     0.21221,     0.21321,     0.21421,     0.21522,\n",
            "           0.21622,     0.21722,     0.21822,     0.21922,     0.22022,     0.22122,     0.22222,     0.22322,     0.22422,     0.22523,     0.22623,     0.22723,     0.22823,     0.22923,     0.23023,     0.23123,     0.23223,     0.23323,     0.23423,     0.23524,     0.23624,     0.23724,     0.23824,     0.23924,\n",
            "           0.24024,     0.24124,     0.24224,     0.24324,     0.24424,     0.24525,     0.24625,     0.24725,     0.24825,     0.24925,     0.25025,     0.25125,     0.25225,     0.25325,     0.25425,     0.25526,     0.25626,     0.25726,     0.25826,     0.25926,     0.26026,     0.26126,     0.26226,     0.26326,\n",
            "           0.26426,     0.26527,     0.26627,     0.26727,     0.26827,     0.26927,     0.27027,     0.27127,     0.27227,     0.27327,     0.27427,     0.27528,     0.27628,     0.27728,     0.27828,     0.27928,     0.28028,     0.28128,     0.28228,     0.28328,     0.28428,     0.28529,     0.28629,     0.28729,\n",
            "           0.28829,     0.28929,     0.29029,     0.29129,     0.29229,     0.29329,     0.29429,      0.2953,      0.2963,      0.2973,      0.2983,      0.2993,      0.3003,      0.3013,      0.3023,      0.3033,      0.3043,     0.30531,     0.30631,     0.30731,     0.30831,     0.30931,     0.31031,     0.31131,\n",
            "           0.31231,     0.31331,     0.31431,     0.31532,     0.31632,     0.31732,     0.31832,     0.31932,     0.32032,     0.32132,     0.32232,     0.32332,     0.32432,     0.32533,     0.32633,     0.32733,     0.32833,     0.32933,     0.33033,     0.33133,     0.33233,     0.33333,     0.33433,     0.33534,\n",
            "           0.33634,     0.33734,     0.33834,     0.33934,     0.34034,     0.34134,     0.34234,     0.34334,     0.34434,     0.34535,     0.34635,     0.34735,     0.34835,     0.34935,     0.35035,     0.35135,     0.35235,     0.35335,     0.35435,     0.35536,     0.35636,     0.35736,     0.35836,     0.35936,\n",
            "           0.36036,     0.36136,     0.36236,     0.36336,     0.36436,     0.36537,     0.36637,     0.36737,     0.36837,     0.36937,     0.37037,     0.37137,     0.37237,     0.37337,     0.37437,     0.37538,     0.37638,     0.37738,     0.37838,     0.37938,     0.38038,     0.38138,     0.38238,     0.38338,\n",
            "           0.38438,     0.38539,     0.38639,     0.38739,     0.38839,     0.38939,     0.39039,     0.39139,     0.39239,     0.39339,     0.39439,      0.3954,      0.3964,      0.3974,      0.3984,      0.3994,      0.4004,      0.4014,      0.4024,      0.4034,      0.4044,     0.40541,     0.40641,     0.40741,\n",
            "           0.40841,     0.40941,     0.41041,     0.41141,     0.41241,     0.41341,     0.41441,     0.41542,     0.41642,     0.41742,     0.41842,     0.41942,     0.42042,     0.42142,     0.42242,     0.42342,     0.42442,     0.42543,     0.42643,     0.42743,     0.42843,     0.42943,     0.43043,     0.43143,\n",
            "           0.43243,     0.43343,     0.43443,     0.43544,     0.43644,     0.43744,     0.43844,     0.43944,     0.44044,     0.44144,     0.44244,     0.44344,     0.44444,     0.44545,     0.44645,     0.44745,     0.44845,     0.44945,     0.45045,     0.45145,     0.45245,     0.45345,     0.45445,     0.45546,\n",
            "           0.45646,     0.45746,     0.45846,     0.45946,     0.46046,     0.46146,     0.46246,     0.46346,     0.46446,     0.46547,     0.46647,     0.46747,     0.46847,     0.46947,     0.47047,     0.47147,     0.47247,     0.47347,     0.47447,     0.47548,     0.47648,     0.47748,     0.47848,     0.47948,\n",
            "           0.48048,     0.48148,     0.48248,     0.48348,     0.48448,     0.48549,     0.48649,     0.48749,     0.48849,     0.48949,     0.49049,     0.49149,     0.49249,     0.49349,     0.49449,      0.4955,      0.4965,      0.4975,      0.4985,      0.4995,      0.5005,      0.5015,      0.5025,      0.5035,\n",
            "            0.5045,     0.50551,     0.50651,     0.50751,     0.50851,     0.50951,     0.51051,     0.51151,     0.51251,     0.51351,     0.51451,     0.51552,     0.51652,     0.51752,     0.51852,     0.51952,     0.52052,     0.52152,     0.52252,     0.52352,     0.52452,     0.52553,     0.52653,     0.52753,\n",
            "           0.52853,     0.52953,     0.53053,     0.53153,     0.53253,     0.53353,     0.53453,     0.53554,     0.53654,     0.53754,     0.53854,     0.53954,     0.54054,     0.54154,     0.54254,     0.54354,     0.54454,     0.54555,     0.54655,     0.54755,     0.54855,     0.54955,     0.55055,     0.55155,\n",
            "           0.55255,     0.55355,     0.55455,     0.55556,     0.55656,     0.55756,     0.55856,     0.55956,     0.56056,     0.56156,     0.56256,     0.56356,     0.56456,     0.56557,     0.56657,     0.56757,     0.56857,     0.56957,     0.57057,     0.57157,     0.57257,     0.57357,     0.57457,     0.57558,\n",
            "           0.57658,     0.57758,     0.57858,     0.57958,     0.58058,     0.58158,     0.58258,     0.58358,     0.58458,     0.58559,     0.58659,     0.58759,     0.58859,     0.58959,     0.59059,     0.59159,     0.59259,     0.59359,     0.59459,      0.5956,      0.5966,      0.5976,      0.5986,      0.5996,\n",
            "            0.6006,      0.6016,      0.6026,      0.6036,      0.6046,     0.60561,     0.60661,     0.60761,     0.60861,     0.60961,     0.61061,     0.61161,     0.61261,     0.61361,     0.61461,     0.61562,     0.61662,     0.61762,     0.61862,     0.61962,     0.62062,     0.62162,     0.62262,     0.62362,\n",
            "           0.62462,     0.62563,     0.62663,     0.62763,     0.62863,     0.62963,     0.63063,     0.63163,     0.63263,     0.63363,     0.63463,     0.63564,     0.63664,     0.63764,     0.63864,     0.63964,     0.64064,     0.64164,     0.64264,     0.64364,     0.64464,     0.64565,     0.64665,     0.64765,\n",
            "           0.64865,     0.64965,     0.65065,     0.65165,     0.65265,     0.65365,     0.65465,     0.65566,     0.65666,     0.65766,     0.65866,     0.65966,     0.66066,     0.66166,     0.66266,     0.66366,     0.66466,     0.66567,     0.66667,     0.66767,     0.66867,     0.66967,     0.67067,     0.67167,\n",
            "           0.67267,     0.67367,     0.67467,     0.67568,     0.67668,     0.67768,     0.67868,     0.67968,     0.68068,     0.68168,     0.68268,     0.68368,     0.68468,     0.68569,     0.68669,     0.68769,     0.68869,     0.68969,     0.69069,     0.69169,     0.69269,     0.69369,     0.69469,      0.6957,\n",
            "            0.6967,      0.6977,      0.6987,      0.6997,      0.7007,      0.7017,      0.7027,      0.7037,      0.7047,     0.70571,     0.70671,     0.70771,     0.70871,     0.70971,     0.71071,     0.71171,     0.71271,     0.71371,     0.71471,     0.71572,     0.71672,     0.71772,     0.71872,     0.71972,\n",
            "           0.72072,     0.72172,     0.72272,     0.72372,     0.72472,     0.72573,     0.72673,     0.72773,     0.72873,     0.72973,     0.73073,     0.73173,     0.73273,     0.73373,     0.73473,     0.73574,     0.73674,     0.73774,     0.73874,     0.73974,     0.74074,     0.74174,     0.74274,     0.74374,\n",
            "           0.74474,     0.74575,     0.74675,     0.74775,     0.74875,     0.74975,     0.75075,     0.75175,     0.75275,     0.75375,     0.75475,     0.75576,     0.75676,     0.75776,     0.75876,     0.75976,     0.76076,     0.76176,     0.76276,     0.76376,     0.76476,     0.76577,     0.76677,     0.76777,\n",
            "           0.76877,     0.76977,     0.77077,     0.77177,     0.77277,     0.77377,     0.77477,     0.77578,     0.77678,     0.77778,     0.77878,     0.77978,     0.78078,     0.78178,     0.78278,     0.78378,     0.78478,     0.78579,     0.78679,     0.78779,     0.78879,     0.78979,     0.79079,     0.79179,\n",
            "           0.79279,     0.79379,     0.79479,      0.7958,      0.7968,      0.7978,      0.7988,      0.7998,      0.8008,      0.8018,      0.8028,      0.8038,      0.8048,     0.80581,     0.80681,     0.80781,     0.80881,     0.80981,     0.81081,     0.81181,     0.81281,     0.81381,     0.81481,     0.81582,\n",
            "           0.81682,     0.81782,     0.81882,     0.81982,     0.82082,     0.82182,     0.82282,     0.82382,     0.82482,     0.82583,     0.82683,     0.82783,     0.82883,     0.82983,     0.83083,     0.83183,     0.83283,     0.83383,     0.83483,     0.83584,     0.83684,     0.83784,     0.83884,     0.83984,\n",
            "           0.84084,     0.84184,     0.84284,     0.84384,     0.84484,     0.84585,     0.84685,     0.84785,     0.84885,     0.84985,     0.85085,     0.85185,     0.85285,     0.85385,     0.85485,     0.85586,     0.85686,     0.85786,     0.85886,     0.85986,     0.86086,     0.86186,     0.86286,     0.86386,\n",
            "           0.86486,     0.86587,     0.86687,     0.86787,     0.86887,     0.86987,     0.87087,     0.87187,     0.87287,     0.87387,     0.87487,     0.87588,     0.87688,     0.87788,     0.87888,     0.87988,     0.88088,     0.88188,     0.88288,     0.88388,     0.88488,     0.88589,     0.88689,     0.88789,\n",
            "           0.88889,     0.88989,     0.89089,     0.89189,     0.89289,     0.89389,     0.89489,      0.8959,      0.8969,      0.8979,      0.8989,      0.8999,      0.9009,      0.9019,      0.9029,      0.9039,      0.9049,     0.90591,     0.90691,     0.90791,     0.90891,     0.90991,     0.91091,     0.91191,\n",
            "           0.91291,     0.91391,     0.91491,     0.91592,     0.91692,     0.91792,     0.91892,     0.91992,     0.92092,     0.92192,     0.92292,     0.92392,     0.92492,     0.92593,     0.92693,     0.92793,     0.92893,     0.92993,     0.93093,     0.93193,     0.93293,     0.93393,     0.93493,     0.93594,\n",
            "           0.93694,     0.93794,     0.93894,     0.93994,     0.94094,     0.94194,     0.94294,     0.94394,     0.94494,     0.94595,     0.94695,     0.94795,     0.94895,     0.94995,     0.95095,     0.95195,     0.95295,     0.95395,     0.95495,     0.95596,     0.95696,     0.95796,     0.95896,     0.95996,\n",
            "           0.96096,     0.96196,     0.96296,     0.96396,     0.96496,     0.96597,     0.96697,     0.96797,     0.96897,     0.96997,     0.97097,     0.97197,     0.97297,     0.97397,     0.97497,     0.97598,     0.97698,     0.97798,     0.97898,     0.97998,     0.98098,     0.98198,     0.98298,     0.98398,\n",
            "           0.98498,     0.98599,     0.98699,     0.98799,     0.98899,     0.98999,     0.99099,     0.99199,     0.99299,     0.99399,     0.99499,       0.996,       0.997,       0.998,       0.999,           1]), array([[   0.057069,    0.057109,    0.075896,    0.099092,     0.12277,     0.14527,     0.16755,     0.18801,     0.20825,     0.23016,     0.25063,     0.27056,     0.28673,     0.30894,     0.32622,     0.34525,     0.36138,     0.37728,     0.39098,     0.40224,     0.41715,     0.43251,     0.44241,\n",
            "            0.45392,     0.46157,     0.47397,     0.48893,     0.50103,     0.51159,     0.51812,      0.5314,     0.54062,     0.55019,      0.5629,      0.5667,     0.57467,     0.58403,     0.58994,     0.59631,     0.60072,     0.60591,     0.61324,     0.62094,     0.63185,      0.6388,     0.64542,\n",
            "            0.65043,     0.65862,     0.66333,     0.66852,     0.67066,     0.67707,     0.68202,       0.687,      0.6897,     0.69414,     0.69841,     0.70136,     0.70602,     0.70992,     0.71488,     0.71855,     0.71972,     0.72199,     0.72446,     0.72745,     0.73171,     0.73541,     0.73951,\n",
            "            0.74278,     0.74459,     0.74949,     0.75158,     0.75263,     0.75599,     0.76011,     0.76213,      0.7661,     0.76877,     0.77149,     0.77496,     0.77581,     0.77716,     0.77861,     0.78169,     0.78241,     0.78422,      0.7856,      0.7871,     0.78798,      0.7879,     0.78573,\n",
            "            0.78781,     0.79161,     0.79341,     0.79556,      0.7962,     0.79815,     0.79999,     0.80089,     0.80165,     0.80298,     0.80454,     0.80566,     0.80957,     0.81025,     0.81136,     0.81178,     0.81135,     0.81093,     0.81051,     0.81038,     0.81098,     0.81158,      0.8123,\n",
            "            0.81315,     0.81426,     0.81524,     0.81629,      0.8149,     0.81523,     0.81566,     0.81608,     0.81649,     0.81688,     0.81728,     0.81786,     0.81858,     0.81909,     0.81952,     0.81995,     0.82038,     0.82083,     0.82127,     0.82174,     0.82222,     0.82271,     0.82288,\n",
            "            0.82302,     0.82315,     0.82329,     0.82343,     0.82356,      0.8237,     0.82383,     0.82397,      0.8241,     0.82669,     0.82511,     0.82502,     0.82519,     0.82537,     0.82554,     0.82571,     0.82588,     0.82605,     0.82622,     0.82635,     0.82648,      0.8266,     0.82673,\n",
            "            0.82686,     0.82699,     0.82711,     0.82724,     0.82737,     0.82749,     0.82746,     0.82697,     0.82649,     0.82601,     0.82587,     0.82665,     0.82714,     0.82738,     0.82762,     0.82785,     0.82809,     0.82832,     0.82861,     0.82892,     0.82923,     0.82953,     0.82978,\n",
            "            0.82987,     0.82995,     0.83004,     0.83013,     0.83022,     0.83031,      0.8304,     0.83048,     0.83057,     0.83066,     0.83075,     0.83084,     0.83093,     0.83102,      0.8311,     0.83128,      0.8315,     0.83171,     0.83192,     0.83213,     0.83234,     0.83254,      0.8327,\n",
            "            0.83286,     0.83302,     0.83319,     0.83335,     0.83351,     0.83367,     0.83383,     0.83417,     0.83461,     0.83505,      0.8357,     0.83655,     0.83575,     0.83473,     0.83486,     0.83498,     0.83511,     0.83523,     0.83536,     0.83549,     0.83561,     0.83574,     0.83587,\n",
            "            0.83599,     0.83612,     0.83567,     0.83521,     0.83475,     0.83429,     0.83431,      0.8345,     0.83469,     0.83488,     0.83507,     0.83526,     0.83545,     0.83571,     0.83605,      0.8364,     0.83675,     0.83757,      0.8385,     0.83873,     0.83896,     0.83919,     0.83941,\n",
            "            0.83964,     0.84045,     0.84274,     0.84298,     0.84322,     0.84345,     0.84369,     0.84393,     0.84344,     0.84201,     0.84131,     0.84061,     0.84031,     0.84085,     0.84138,      0.8418,     0.84216,     0.84253,     0.84289,     0.84186,     0.84121,     0.84158,     0.84195,\n",
            "            0.84232,     0.84249,     0.84252,     0.84255,     0.84259,     0.84262,     0.84265,     0.84269,     0.84272,     0.84275,     0.84279,     0.84282,     0.84286,     0.84289,     0.84292,     0.84296,     0.84299,     0.84302,     0.84306,     0.84309,     0.84312,     0.84316,     0.84319,\n",
            "            0.84322,     0.84326,     0.84329,     0.84332,     0.84336,     0.84339,     0.84342,     0.84346,     0.84349,     0.84352,     0.84356,     0.84359,     0.84362,     0.84366,     0.84369,     0.84373,     0.84376,     0.84379,     0.84383,     0.84386,     0.84389,     0.84452,     0.84547,\n",
            "            0.84576,     0.84604,     0.84633,     0.84661,     0.84679,     0.84669,     0.84659,     0.84649,     0.84639,     0.84629,     0.84619,     0.84609,     0.84599,     0.84589,     0.84579,     0.84569,     0.84559,     0.84549,     0.84539,     0.84529,     0.84519,     0.84509,     0.84499,\n",
            "            0.84489,     0.84489,     0.84506,     0.84523,      0.8454,     0.84556,     0.84573,      0.8459,     0.84606,     0.84623,     0.84643,     0.84666,     0.84688,     0.84711,     0.84733,     0.84755,     0.84789,     0.84918,      0.8484,     0.84756,     0.84759,     0.84819,     0.84877,\n",
            "            0.84921,     0.84965,      0.8501,     0.85029,     0.85044,     0.85058,     0.85072,     0.85087,     0.85101,     0.85115,      0.8513,     0.85144,     0.85158,     0.85203,     0.85282,     0.85311,     0.85304,     0.85298,     0.85291,     0.85284,     0.85278,     0.85271,     0.85264,\n",
            "            0.85258,     0.85251,     0.85244,     0.85238,     0.85231,     0.85224,     0.85218,     0.85211,     0.85205,     0.85198,     0.85191,     0.85185,     0.85178,     0.85171,     0.85165,     0.85158,     0.85151,     0.85145,     0.85138,     0.85131,     0.85125,     0.85118,     0.85148,\n",
            "            0.85243,     0.85257,     0.85248,      0.8524,     0.85231,     0.85223,     0.85215,     0.85206,     0.85198,     0.85189,     0.85181,     0.85173,     0.85164,     0.85156,     0.85147,     0.85139,      0.8513,     0.85122,     0.85114,     0.85105,     0.85097,     0.85088,      0.8508,\n",
            "            0.85072,     0.85063,     0.85036,     0.85005,     0.84974,     0.84943,     0.84912,     0.84881,     0.84861,     0.84868,     0.84876,     0.84883,      0.8489,     0.84897,     0.84904,     0.84912,     0.84919,     0.84926,     0.84933,      0.8494,     0.84947,     0.84955,     0.84962,\n",
            "            0.84969,     0.84976,     0.84983,      0.8499,     0.84998,     0.85005,     0.84992,     0.84955,     0.84918,      0.8488,     0.84843,     0.84804,     0.84679,      0.8462,     0.84668,     0.84716,      0.8475,     0.84742,     0.84734,     0.84727,     0.84719,     0.84711,     0.84704,\n",
            "            0.84696,     0.84688,     0.84681,     0.84673,     0.84665,     0.84658,      0.8465,     0.84642,     0.84635,     0.84627,     0.84619,     0.84611,     0.84604,     0.84596,     0.84588,     0.84581,     0.84573,     0.84565,     0.84558,      0.8455,      0.8464,     0.84692,     0.84682,\n",
            "            0.84673,     0.84664,     0.84654,     0.84645,     0.84635,     0.84626,     0.84617,     0.84607,     0.84598,     0.84588,     0.84579,      0.8457,      0.8456,     0.84551,     0.84541,     0.84532,     0.84523,     0.84513,     0.84504,     0.84494,     0.84658,      0.8468,     0.84702,\n",
            "            0.84723,     0.84745,     0.84766,     0.84788,     0.84784,      0.8477,     0.84755,     0.84741,     0.84726,     0.84712,     0.84698,     0.84683,     0.84669,     0.84654,      0.8464,     0.84625,     0.84611,     0.84596,     0.84581,     0.84563,     0.84546,     0.84528,     0.84511,\n",
            "            0.84493,     0.84476,     0.84458,     0.84441,     0.84423,     0.84406,     0.84388,      0.8441,     0.84461,     0.84513,     0.84553,     0.84587,     0.84621,     0.84655,     0.84683,      0.8467,     0.84656,     0.84643,     0.84629,     0.84616,     0.84602,     0.84588,     0.84575,\n",
            "            0.84561,     0.84548,     0.84534,     0.84521,     0.84507,     0.84494,      0.8448,     0.84378,       0.844,     0.84378,     0.84355,     0.84333,      0.8431,     0.84287,     0.84265,     0.84242,      0.8422,     0.84263,      0.8435,     0.84348,      0.8433,     0.84311,     0.84293,\n",
            "            0.84274,     0.84256,     0.84237,     0.84219,     0.84201,     0.84182,     0.84164,      0.8413,     0.84077,     0.84024,      0.8397,     0.83931,     0.83909,     0.83887,     0.83865,     0.83842,      0.8382,     0.83798,     0.83776,     0.83754,     0.83731,     0.83689,     0.83645,\n",
            "              0.836,     0.83556,     0.83515,     0.83497,     0.83479,     0.83462,     0.83444,     0.83426,     0.83409,     0.83391,     0.83374,     0.83356,     0.83338,     0.83321,     0.83303,     0.83154,     0.83121,      0.8318,     0.83239,     0.83222,     0.83203,     0.83183,     0.83163,\n",
            "            0.83143,     0.83124,     0.83104,     0.83084,     0.83065,     0.83045,      0.8302,     0.82859,     0.82649,     0.82569,     0.82538,     0.82507,     0.82476,     0.82444,     0.82413,     0.82382,     0.82258,     0.82235,       0.821,     0.82069,     0.82047,     0.82025,     0.82003,\n",
            "            0.81982,      0.8196,     0.81938,     0.81916,     0.81894,     0.81873,     0.81586,     0.81477,     0.81432,     0.81444,     0.81455,     0.81467,     0.81479,      0.8149,     0.81502,     0.81514,     0.81525,     0.81537,     0.81549,      0.8156,     0.81572,     0.81583,     0.81592,\n",
            "            0.81602,     0.81612,     0.81621,     0.81631,     0.81641,      0.8165,      0.8166,     0.81669,     0.81679,     0.81689,     0.81698,     0.81708,     0.81718,     0.81727,     0.81741,     0.81761,     0.81781,     0.81801,     0.81821,     0.81841,     0.81861,     0.81881,     0.81872,\n",
            "             0.8185,     0.81829,     0.81807,     0.81786,     0.81764,     0.81743,     0.81721,       0.817,     0.81678,     0.81542,     0.81206,      0.8114,     0.81075,     0.81009,     0.80945,     0.80882,     0.80819,     0.80763,     0.80777,     0.80792,     0.80806,      0.8082,     0.80835,\n",
            "            0.80849,     0.80863,     0.80877,     0.80892,     0.80906,     0.80901,     0.80847,     0.80792,     0.80738,      0.8068,     0.80591,     0.80503,     0.80432,     0.80379,     0.80326,     0.80273,     0.80222,     0.80178,     0.80135,     0.80092,     0.80048,     0.80005,      0.7973,\n",
            "            0.79637,     0.79544,     0.79492,     0.79443,     0.79395,     0.79346,     0.79289,     0.79182,     0.79074,     0.79029,     0.78986,     0.78943,     0.78899,     0.78856,     0.78818,     0.78785,     0.78752,     0.78719,     0.78686,     0.78653,      0.7862,     0.78357,     0.78256,\n",
            "            0.78155,     0.77745,     0.77555,     0.77448,     0.77135,     0.77046,     0.76958,     0.76765,     0.76412,     0.76361,      0.7631,     0.76258,     0.76207,     0.76137,     0.76056,     0.75976,     0.75897,     0.75818,      0.7574,     0.75623,     0.75458,     0.75188,     0.75138,\n",
            "            0.75088,     0.75037,     0.74987,     0.74857,     0.74595,     0.74377,     0.74145,     0.74037,     0.73788,     0.73585,     0.73478,     0.73532,     0.73133,     0.72893,     0.72944,     0.72751,     0.72696,     0.72151,     0.71821,     0.71147,     0.70979,     0.70731,     0.70379,\n",
            "            0.70281,     0.70184,     0.70035,     0.69868,     0.69631,     0.69226,     0.68903,     0.68514,     0.67651,     0.67167,     0.66582,     0.66211,     0.65494,     0.65424,     0.65353,     0.65283,     0.65212,     0.64752,     0.64163,     0.63812,     0.63139,     0.62706,     0.62537,\n",
            "            0.62255,     0.62028,     0.61804,     0.61532,     0.61272,     0.61036,       0.607,     0.60228,     0.59267,     0.58661,     0.58075,     0.57498,     0.57082,      0.5667,     0.55859,     0.55723,     0.55587,     0.55248,     0.54318,     0.53986,     0.53533,     0.52921,     0.52694,\n",
            "            0.52493,     0.52063,     0.51613,     0.50846,     0.49637,     0.48183,     0.47797,     0.47453,     0.46427,     0.44633,     0.43754,     0.43156,     0.42479,     0.42142,     0.41191,     0.40511,      0.4019,     0.39568,     0.38138,      0.3639,     0.36085,     0.35881,      0.3358,\n",
            "             0.3328,     0.32883,     0.32345,     0.30651,     0.29406,      0.2914,     0.28754,      0.2799,     0.27564,     0.25974,     0.25633,     0.25245,     0.24456,     0.24086,     0.23358,     0.22543,      0.2226,     0.21991,     0.21785,     0.21579,     0.21179,      0.2063,     0.19542,\n",
            "            0.18993,     0.18627,     0.18021,     0.17107,     0.15964,     0.15461,     0.15175,     0.14916,     0.14675,     0.14153,     0.13143,      0.1282,     0.12345,     0.11953,     0.11425,     0.10084,    0.089355,    0.085285,    0.082057,     0.07561,    0.067288,    0.063854,    0.058774,\n",
            "           0.048931,    0.042562,    0.039397,    0.036693,    0.034218,    0.031911,    0.030797,    0.029682,    0.028567,    0.027449,    0.026331,    0.024439,    0.021624,    0.017783,    0.012146,    0.010146,   0.0081419,           0,           0,           0,           0,           0,           0,\n",
            "                  0,           0,           0,           0,           0,           0,           0,           0,           0,           0,           0,           0,           0,           0,           0,           0,           0,           0,           0,           0,           0,           0,           0,\n",
            "                  0,           0,           0,           0,           0,           0,           0,           0,           0,           0,           0]]), 'Confidence', 'F1'], [array([          0,    0.001001,    0.002002,    0.003003,    0.004004,    0.005005,    0.006006,    0.007007,    0.008008,    0.009009,     0.01001,    0.011011,    0.012012,    0.013013,    0.014014,    0.015015,    0.016016,    0.017017,    0.018018,    0.019019,     0.02002,    0.021021,    0.022022,    0.023023,\n",
            "          0.024024,    0.025025,    0.026026,    0.027027,    0.028028,    0.029029,     0.03003,    0.031031,    0.032032,    0.033033,    0.034034,    0.035035,    0.036036,    0.037037,    0.038038,    0.039039,     0.04004,    0.041041,    0.042042,    0.043043,    0.044044,    0.045045,    0.046046,    0.047047,\n",
            "          0.048048,    0.049049,     0.05005,    0.051051,    0.052052,    0.053053,    0.054054,    0.055055,    0.056056,    0.057057,    0.058058,    0.059059,     0.06006,    0.061061,    0.062062,    0.063063,    0.064064,    0.065065,    0.066066,    0.067067,    0.068068,    0.069069,     0.07007,    0.071071,\n",
            "          0.072072,    0.073073,    0.074074,    0.075075,    0.076076,    0.077077,    0.078078,    0.079079,     0.08008,    0.081081,    0.082082,    0.083083,    0.084084,    0.085085,    0.086086,    0.087087,    0.088088,    0.089089,     0.09009,    0.091091,    0.092092,    0.093093,    0.094094,    0.095095,\n",
            "          0.096096,    0.097097,    0.098098,    0.099099,      0.1001,      0.1011,      0.1021,      0.1031,      0.1041,     0.10511,     0.10611,     0.10711,     0.10811,     0.10911,     0.11011,     0.11111,     0.11211,     0.11311,     0.11411,     0.11512,     0.11612,     0.11712,     0.11812,     0.11912,\n",
            "           0.12012,     0.12112,     0.12212,     0.12312,     0.12412,     0.12513,     0.12613,     0.12713,     0.12813,     0.12913,     0.13013,     0.13113,     0.13213,     0.13313,     0.13413,     0.13514,     0.13614,     0.13714,     0.13814,     0.13914,     0.14014,     0.14114,     0.14214,     0.14314,\n",
            "           0.14414,     0.14515,     0.14615,     0.14715,     0.14815,     0.14915,     0.15015,     0.15115,     0.15215,     0.15315,     0.15415,     0.15516,     0.15616,     0.15716,     0.15816,     0.15916,     0.16016,     0.16116,     0.16216,     0.16316,     0.16416,     0.16517,     0.16617,     0.16717,\n",
            "           0.16817,     0.16917,     0.17017,     0.17117,     0.17217,     0.17317,     0.17417,     0.17518,     0.17618,     0.17718,     0.17818,     0.17918,     0.18018,     0.18118,     0.18218,     0.18318,     0.18418,     0.18519,     0.18619,     0.18719,     0.18819,     0.18919,     0.19019,     0.19119,\n",
            "           0.19219,     0.19319,     0.19419,      0.1952,      0.1962,      0.1972,      0.1982,      0.1992,      0.2002,      0.2012,      0.2022,      0.2032,      0.2042,     0.20521,     0.20621,     0.20721,     0.20821,     0.20921,     0.21021,     0.21121,     0.21221,     0.21321,     0.21421,     0.21522,\n",
            "           0.21622,     0.21722,     0.21822,     0.21922,     0.22022,     0.22122,     0.22222,     0.22322,     0.22422,     0.22523,     0.22623,     0.22723,     0.22823,     0.22923,     0.23023,     0.23123,     0.23223,     0.23323,     0.23423,     0.23524,     0.23624,     0.23724,     0.23824,     0.23924,\n",
            "           0.24024,     0.24124,     0.24224,     0.24324,     0.24424,     0.24525,     0.24625,     0.24725,     0.24825,     0.24925,     0.25025,     0.25125,     0.25225,     0.25325,     0.25425,     0.25526,     0.25626,     0.25726,     0.25826,     0.25926,     0.26026,     0.26126,     0.26226,     0.26326,\n",
            "           0.26426,     0.26527,     0.26627,     0.26727,     0.26827,     0.26927,     0.27027,     0.27127,     0.27227,     0.27327,     0.27427,     0.27528,     0.27628,     0.27728,     0.27828,     0.27928,     0.28028,     0.28128,     0.28228,     0.28328,     0.28428,     0.28529,     0.28629,     0.28729,\n",
            "           0.28829,     0.28929,     0.29029,     0.29129,     0.29229,     0.29329,     0.29429,      0.2953,      0.2963,      0.2973,      0.2983,      0.2993,      0.3003,      0.3013,      0.3023,      0.3033,      0.3043,     0.30531,     0.30631,     0.30731,     0.30831,     0.30931,     0.31031,     0.31131,\n",
            "           0.31231,     0.31331,     0.31431,     0.31532,     0.31632,     0.31732,     0.31832,     0.31932,     0.32032,     0.32132,     0.32232,     0.32332,     0.32432,     0.32533,     0.32633,     0.32733,     0.32833,     0.32933,     0.33033,     0.33133,     0.33233,     0.33333,     0.33433,     0.33534,\n",
            "           0.33634,     0.33734,     0.33834,     0.33934,     0.34034,     0.34134,     0.34234,     0.34334,     0.34434,     0.34535,     0.34635,     0.34735,     0.34835,     0.34935,     0.35035,     0.35135,     0.35235,     0.35335,     0.35435,     0.35536,     0.35636,     0.35736,     0.35836,     0.35936,\n",
            "           0.36036,     0.36136,     0.36236,     0.36336,     0.36436,     0.36537,     0.36637,     0.36737,     0.36837,     0.36937,     0.37037,     0.37137,     0.37237,     0.37337,     0.37437,     0.37538,     0.37638,     0.37738,     0.37838,     0.37938,     0.38038,     0.38138,     0.38238,     0.38338,\n",
            "           0.38438,     0.38539,     0.38639,     0.38739,     0.38839,     0.38939,     0.39039,     0.39139,     0.39239,     0.39339,     0.39439,      0.3954,      0.3964,      0.3974,      0.3984,      0.3994,      0.4004,      0.4014,      0.4024,      0.4034,      0.4044,     0.40541,     0.40641,     0.40741,\n",
            "           0.40841,     0.40941,     0.41041,     0.41141,     0.41241,     0.41341,     0.41441,     0.41542,     0.41642,     0.41742,     0.41842,     0.41942,     0.42042,     0.42142,     0.42242,     0.42342,     0.42442,     0.42543,     0.42643,     0.42743,     0.42843,     0.42943,     0.43043,     0.43143,\n",
            "           0.43243,     0.43343,     0.43443,     0.43544,     0.43644,     0.43744,     0.43844,     0.43944,     0.44044,     0.44144,     0.44244,     0.44344,     0.44444,     0.44545,     0.44645,     0.44745,     0.44845,     0.44945,     0.45045,     0.45145,     0.45245,     0.45345,     0.45445,     0.45546,\n",
            "           0.45646,     0.45746,     0.45846,     0.45946,     0.46046,     0.46146,     0.46246,     0.46346,     0.46446,     0.46547,     0.46647,     0.46747,     0.46847,     0.46947,     0.47047,     0.47147,     0.47247,     0.47347,     0.47447,     0.47548,     0.47648,     0.47748,     0.47848,     0.47948,\n",
            "           0.48048,     0.48148,     0.48248,     0.48348,     0.48448,     0.48549,     0.48649,     0.48749,     0.48849,     0.48949,     0.49049,     0.49149,     0.49249,     0.49349,     0.49449,      0.4955,      0.4965,      0.4975,      0.4985,      0.4995,      0.5005,      0.5015,      0.5025,      0.5035,\n",
            "            0.5045,     0.50551,     0.50651,     0.50751,     0.50851,     0.50951,     0.51051,     0.51151,     0.51251,     0.51351,     0.51451,     0.51552,     0.51652,     0.51752,     0.51852,     0.51952,     0.52052,     0.52152,     0.52252,     0.52352,     0.52452,     0.52553,     0.52653,     0.52753,\n",
            "           0.52853,     0.52953,     0.53053,     0.53153,     0.53253,     0.53353,     0.53453,     0.53554,     0.53654,     0.53754,     0.53854,     0.53954,     0.54054,     0.54154,     0.54254,     0.54354,     0.54454,     0.54555,     0.54655,     0.54755,     0.54855,     0.54955,     0.55055,     0.55155,\n",
            "           0.55255,     0.55355,     0.55455,     0.55556,     0.55656,     0.55756,     0.55856,     0.55956,     0.56056,     0.56156,     0.56256,     0.56356,     0.56456,     0.56557,     0.56657,     0.56757,     0.56857,     0.56957,     0.57057,     0.57157,     0.57257,     0.57357,     0.57457,     0.57558,\n",
            "           0.57658,     0.57758,     0.57858,     0.57958,     0.58058,     0.58158,     0.58258,     0.58358,     0.58458,     0.58559,     0.58659,     0.58759,     0.58859,     0.58959,     0.59059,     0.59159,     0.59259,     0.59359,     0.59459,      0.5956,      0.5966,      0.5976,      0.5986,      0.5996,\n",
            "            0.6006,      0.6016,      0.6026,      0.6036,      0.6046,     0.60561,     0.60661,     0.60761,     0.60861,     0.60961,     0.61061,     0.61161,     0.61261,     0.61361,     0.61461,     0.61562,     0.61662,     0.61762,     0.61862,     0.61962,     0.62062,     0.62162,     0.62262,     0.62362,\n",
            "           0.62462,     0.62563,     0.62663,     0.62763,     0.62863,     0.62963,     0.63063,     0.63163,     0.63263,     0.63363,     0.63463,     0.63564,     0.63664,     0.63764,     0.63864,     0.63964,     0.64064,     0.64164,     0.64264,     0.64364,     0.64464,     0.64565,     0.64665,     0.64765,\n",
            "           0.64865,     0.64965,     0.65065,     0.65165,     0.65265,     0.65365,     0.65465,     0.65566,     0.65666,     0.65766,     0.65866,     0.65966,     0.66066,     0.66166,     0.66266,     0.66366,     0.66466,     0.66567,     0.66667,     0.66767,     0.66867,     0.66967,     0.67067,     0.67167,\n",
            "           0.67267,     0.67367,     0.67467,     0.67568,     0.67668,     0.67768,     0.67868,     0.67968,     0.68068,     0.68168,     0.68268,     0.68368,     0.68468,     0.68569,     0.68669,     0.68769,     0.68869,     0.68969,     0.69069,     0.69169,     0.69269,     0.69369,     0.69469,      0.6957,\n",
            "            0.6967,      0.6977,      0.6987,      0.6997,      0.7007,      0.7017,      0.7027,      0.7037,      0.7047,     0.70571,     0.70671,     0.70771,     0.70871,     0.70971,     0.71071,     0.71171,     0.71271,     0.71371,     0.71471,     0.71572,     0.71672,     0.71772,     0.71872,     0.71972,\n",
            "           0.72072,     0.72172,     0.72272,     0.72372,     0.72472,     0.72573,     0.72673,     0.72773,     0.72873,     0.72973,     0.73073,     0.73173,     0.73273,     0.73373,     0.73473,     0.73574,     0.73674,     0.73774,     0.73874,     0.73974,     0.74074,     0.74174,     0.74274,     0.74374,\n",
            "           0.74474,     0.74575,     0.74675,     0.74775,     0.74875,     0.74975,     0.75075,     0.75175,     0.75275,     0.75375,     0.75475,     0.75576,     0.75676,     0.75776,     0.75876,     0.75976,     0.76076,     0.76176,     0.76276,     0.76376,     0.76476,     0.76577,     0.76677,     0.76777,\n",
            "           0.76877,     0.76977,     0.77077,     0.77177,     0.77277,     0.77377,     0.77477,     0.77578,     0.77678,     0.77778,     0.77878,     0.77978,     0.78078,     0.78178,     0.78278,     0.78378,     0.78478,     0.78579,     0.78679,     0.78779,     0.78879,     0.78979,     0.79079,     0.79179,\n",
            "           0.79279,     0.79379,     0.79479,      0.7958,      0.7968,      0.7978,      0.7988,      0.7998,      0.8008,      0.8018,      0.8028,      0.8038,      0.8048,     0.80581,     0.80681,     0.80781,     0.80881,     0.80981,     0.81081,     0.81181,     0.81281,     0.81381,     0.81481,     0.81582,\n",
            "           0.81682,     0.81782,     0.81882,     0.81982,     0.82082,     0.82182,     0.82282,     0.82382,     0.82482,     0.82583,     0.82683,     0.82783,     0.82883,     0.82983,     0.83083,     0.83183,     0.83283,     0.83383,     0.83483,     0.83584,     0.83684,     0.83784,     0.83884,     0.83984,\n",
            "           0.84084,     0.84184,     0.84284,     0.84384,     0.84484,     0.84585,     0.84685,     0.84785,     0.84885,     0.84985,     0.85085,     0.85185,     0.85285,     0.85385,     0.85485,     0.85586,     0.85686,     0.85786,     0.85886,     0.85986,     0.86086,     0.86186,     0.86286,     0.86386,\n",
            "           0.86486,     0.86587,     0.86687,     0.86787,     0.86887,     0.86987,     0.87087,     0.87187,     0.87287,     0.87387,     0.87487,     0.87588,     0.87688,     0.87788,     0.87888,     0.87988,     0.88088,     0.88188,     0.88288,     0.88388,     0.88488,     0.88589,     0.88689,     0.88789,\n",
            "           0.88889,     0.88989,     0.89089,     0.89189,     0.89289,     0.89389,     0.89489,      0.8959,      0.8969,      0.8979,      0.8989,      0.8999,      0.9009,      0.9019,      0.9029,      0.9039,      0.9049,     0.90591,     0.90691,     0.90791,     0.90891,     0.90991,     0.91091,     0.91191,\n",
            "           0.91291,     0.91391,     0.91491,     0.91592,     0.91692,     0.91792,     0.91892,     0.91992,     0.92092,     0.92192,     0.92292,     0.92392,     0.92492,     0.92593,     0.92693,     0.92793,     0.92893,     0.92993,     0.93093,     0.93193,     0.93293,     0.93393,     0.93493,     0.93594,\n",
            "           0.93694,     0.93794,     0.93894,     0.93994,     0.94094,     0.94194,     0.94294,     0.94394,     0.94494,     0.94595,     0.94695,     0.94795,     0.94895,     0.94995,     0.95095,     0.95195,     0.95295,     0.95395,     0.95495,     0.95596,     0.95696,     0.95796,     0.95896,     0.95996,\n",
            "           0.96096,     0.96196,     0.96296,     0.96396,     0.96496,     0.96597,     0.96697,     0.96797,     0.96897,     0.96997,     0.97097,     0.97197,     0.97297,     0.97397,     0.97497,     0.97598,     0.97698,     0.97798,     0.97898,     0.97998,     0.98098,     0.98198,     0.98298,     0.98398,\n",
            "           0.98498,     0.98599,     0.98699,     0.98799,     0.98899,     0.98999,     0.99099,     0.99199,     0.99299,     0.99399,     0.99499,       0.996,       0.997,       0.998,       0.999,           1]), array([[   0.029436,    0.029457,    0.039589,    0.052414,    0.065866,    0.079022,    0.092385,     0.10507,     0.11793,     0.13226,     0.14596,     0.15966,     0.17129,     0.18738,     0.20059,     0.21518,     0.22808,     0.24089,     0.25245,     0.26192,      0.2747,     0.28818,     0.29743,\n",
            "            0.30792,     0.31501,     0.32667,     0.34105,     0.35295,     0.36352,     0.37075,      0.3845,     0.39423,      0.4045,     0.41839,     0.42339,     0.43235,     0.44303,     0.44987,     0.45825,     0.46445,     0.47068,     0.47959,     0.48907,     0.50275,      0.5116,     0.52016,\n",
            "            0.52669,     0.53752,     0.54382,     0.55083,     0.55374,     0.56254,      0.5694,     0.57638,     0.58019,      0.5865,     0.59262,     0.59688,     0.60367,     0.61108,     0.61847,     0.62466,     0.62754,       0.631,     0.63479,     0.63938,     0.64599,     0.65178,     0.65825,\n",
            "            0.66346,     0.66635,     0.67424,     0.67764,     0.68146,       0.687,     0.69383,      0.6972,     0.70388,      0.7084,     0.71303,     0.71898,     0.72044,     0.72278,     0.72529,     0.73066,     0.73192,     0.73509,     0.73751,     0.74016,     0.74172,     0.74308,     0.74284,\n",
            "            0.74657,     0.75342,     0.75669,     0.76061,     0.76178,     0.76813,     0.77153,     0.77322,     0.77463,     0.77713,     0.78006,     0.78215,     0.78956,     0.79086,     0.79298,     0.79428,     0.79414,       0.794,     0.79385,     0.79409,     0.79523,     0.79639,     0.79778,\n",
            "            0.79941,     0.80156,     0.80347,     0.80551,     0.80576,     0.80655,     0.80738,     0.80822,     0.80901,     0.80979,     0.81057,     0.81171,     0.81313,     0.81413,     0.81498,     0.81583,      0.8167,     0.81757,     0.81845,     0.81938,     0.82035,     0.82132,     0.82167,\n",
            "            0.82194,     0.82221,     0.82248,     0.82275,     0.82302,     0.82329,     0.82356,     0.82383,      0.8241,     0.82948,     0.82902,     0.82924,     0.82959,     0.82993,     0.83028,     0.83063,     0.83097,     0.83132,     0.83166,     0.83193,     0.83218,     0.83244,      0.8327,\n",
            "            0.83296,     0.83322,     0.83347,     0.83373,     0.83399,     0.83425,      0.8344,     0.83426,     0.83412,     0.83399,     0.83433,     0.83591,     0.83692,     0.83741,     0.83789,     0.83837,     0.83886,     0.83934,     0.83994,     0.84057,      0.8412,     0.84183,     0.84233,\n",
            "            0.84252,      0.8427,     0.84288,     0.84306,     0.84325,     0.84343,     0.84361,     0.84379,     0.84398,     0.84416,     0.84434,     0.84452,     0.84471,     0.84489,     0.84507,     0.84544,     0.84588,     0.84632,     0.84676,      0.8472,     0.84763,     0.84805,     0.84838,\n",
            "            0.84872,     0.84905,     0.84939,     0.84972,     0.85006,     0.85039,     0.85073,     0.85143,     0.85235,     0.85327,     0.85462,     0.85641,     0.85642,     0.85617,     0.85644,     0.85671,     0.85697,     0.85724,     0.85751,     0.85777,     0.85804,      0.8583,     0.85857,\n",
            "            0.85884,      0.8591,     0.85899,     0.85888,     0.85877,     0.85865,     0.85892,     0.85932,     0.85973,     0.86013,     0.86054,     0.86094,     0.86135,     0.86188,     0.86262,     0.86336,      0.8641,     0.86584,     0.86785,     0.86834,     0.86883,     0.86931,      0.8698,\n",
            "            0.87029,     0.87204,     0.87698,      0.8775,     0.87801,     0.87853,     0.87904,     0.87955,     0.87972,     0.87941,     0.87926,     0.87911,     0.87938,     0.88056,     0.88173,     0.88266,     0.88346,     0.88425,     0.88505,     0.88507,      0.8853,     0.88613,     0.88695,\n",
            "            0.88777,     0.88813,     0.88821,     0.88828,     0.88836,     0.88843,      0.8885,     0.88858,     0.88865,     0.88873,      0.8888,     0.88888,     0.88895,     0.88903,      0.8891,     0.88918,     0.88925,     0.88932,      0.8894,     0.88947,     0.88955,     0.88962,      0.8897,\n",
            "            0.88977,     0.88985,     0.88992,        0.89,     0.89007,     0.89014,     0.89022,     0.89029,     0.89037,     0.89044,     0.89052,     0.89059,     0.89067,     0.89074,     0.89082,     0.89089,     0.89096,     0.89104,     0.89111,     0.89119,     0.89126,     0.89267,     0.89479,\n",
            "            0.89543,     0.89608,     0.89672,     0.89736,      0.8978,     0.89779,     0.89777,     0.89775,     0.89773,     0.89771,     0.89769,     0.89767,     0.89765,     0.89764,     0.89762,      0.8976,     0.89758,     0.89756,     0.89754,     0.89752,      0.8975,     0.89748,     0.89747,\n",
            "            0.89745,     0.89759,     0.89796,     0.89834,     0.89872,      0.8991,     0.89947,     0.89985,     0.90023,     0.90061,     0.90107,     0.90158,     0.90208,     0.90259,      0.9031,     0.90361,     0.90438,     0.90732,     0.90727,     0.90712,      0.9079,     0.90929,     0.91062,\n",
            "            0.91164,     0.91266,     0.91368,     0.91413,     0.91446,      0.9148,     0.91513,     0.91546,     0.91579,     0.91612,     0.91646,     0.91679,     0.91712,     0.91816,     0.91999,     0.92075,     0.92074,     0.92073,     0.92072,     0.92071,      0.9207,     0.92069,     0.92068,\n",
            "            0.92067,     0.92066,     0.92065,     0.92064,     0.92063,     0.92062,     0.92061,      0.9206,     0.92059,     0.92058,     0.92057,     0.92056,     0.92055,     0.92054,     0.92053,     0.92052,     0.92051,      0.9205,     0.92049,     0.92048,     0.92047,     0.92046,     0.92125,\n",
            "            0.92347,     0.92394,     0.92393,     0.92392,     0.92391,      0.9239,     0.92388,     0.92387,     0.92386,     0.92385,     0.92384,     0.92382,     0.92381,      0.9238,     0.92379,     0.92378,     0.92376,     0.92375,     0.92374,     0.92373,     0.92371,      0.9237,     0.92369,\n",
            "            0.92368,     0.92367,     0.92363,     0.92358,     0.92354,     0.92349,     0.92345,      0.9234,     0.92342,     0.92359,     0.92376,     0.92393,      0.9241,     0.92427,     0.92444,     0.92461,     0.92478,     0.92495,     0.92512,     0.92529,     0.92546,     0.92564,     0.92581,\n",
            "            0.92598,     0.92615,     0.92632,     0.92649,     0.92666,     0.92683,      0.9269,     0.92685,      0.9268,     0.92674,     0.92669,     0.92664,     0.92646,      0.9268,     0.92795,      0.9291,     0.92996,     0.92995,     0.92994,     0.92993,     0.92992,     0.92991,      0.9299,\n",
            "            0.92989,     0.92988,     0.92987,     0.92986,     0.92985,     0.92984,     0.92982,     0.92981,      0.9298,     0.92979,     0.92978,     0.92977,     0.92976,     0.92975,     0.92974,     0.92973,     0.92972,     0.92971,      0.9297,     0.92969,     0.93194,     0.93333,     0.93331,\n",
            "             0.9333,     0.93329,     0.93328,     0.93327,     0.93325,     0.93324,     0.93323,     0.93322,     0.93321,     0.93319,     0.93318,     0.93317,     0.93316,     0.93315,     0.93313,     0.93312,     0.93311,      0.9331,     0.93309,     0.93307,     0.93714,     0.93767,      0.9382,\n",
            "            0.93873,     0.93926,     0.93979,     0.94032,     0.94046,     0.94045,     0.94043,     0.94041,      0.9404,     0.94038,     0.94037,     0.94035,     0.94033,     0.94032,      0.9403,     0.94028,     0.94027,     0.94025,     0.94023,     0.94021,     0.94019,     0.94017,     0.94015,\n",
            "            0.94013,     0.94011,     0.94009,     0.94007,     0.94005,     0.94003,     0.94001,     0.94073,     0.94201,     0.94328,      0.9443,     0.94514,     0.94599,     0.94683,     0.94758,     0.94757,     0.94755,     0.94754,     0.94752,     0.94751,      0.9475,     0.94748,     0.94747,\n",
            "            0.94745,     0.94744,     0.94743,     0.94741,      0.9474,     0.94739,     0.94737,     0.94996,       0.951,     0.95098,     0.95096,     0.95094,     0.95091,     0.95089,     0.95087,     0.95085,     0.95083,     0.95215,     0.95438,     0.95472,      0.9547,     0.95469,     0.95467,\n",
            "            0.95465,     0.95464,     0.95462,      0.9546,     0.95459,     0.95457,     0.95455,     0.95453,     0.95448,     0.95443,     0.95438,     0.95435,     0.95433,     0.95431,     0.95429,     0.95427,     0.95425,     0.95423,     0.95421,     0.95419,     0.95417,     0.95413,     0.95409,\n",
            "            0.95405,     0.95401,     0.95397,     0.95396,     0.95394,     0.95393,     0.95391,     0.95389,     0.95388,     0.95386,     0.95385,     0.95383,     0.95381,      0.9538,     0.95378,     0.95365,     0.95446,     0.95602,     0.95758,     0.95761,     0.95759,     0.95758,     0.95756,\n",
            "            0.95755,     0.95753,     0.95751,      0.9575,     0.95748,     0.95746,     0.95744,     0.95731,     0.95713,     0.95706,     0.95703,     0.95701,     0.95698,     0.95696,     0.95693,      0.9569,      0.9568,     0.95885,     0.96071,     0.96068,     0.96067,     0.96065,     0.96063,\n",
            "            0.96061,      0.9606,     0.96058,     0.96056,     0.96055,     0.96053,      0.9603,     0.96022,     0.96035,     0.96067,       0.961,     0.96132,     0.96165,     0.96197,      0.9623,     0.96262,     0.96295,     0.96327,     0.96359,     0.96392,     0.96424,     0.96455,     0.96482,\n",
            "            0.96509,     0.96536,     0.96563,      0.9659,     0.96617,     0.96644,     0.96671,     0.96698,     0.96725,     0.96752,     0.96779,     0.96806,     0.96833,      0.9686,       0.969,     0.96956,     0.97012,     0.97068,     0.97124,      0.9718,     0.97236,     0.97292,     0.97309,\n",
            "            0.97307,     0.97306,     0.97305,     0.97304,     0.97303,     0.97302,       0.973,     0.97299,     0.97298,     0.97291,     0.97272,     0.97269,     0.97265,     0.97261,     0.97258,     0.97254,     0.97251,     0.97251,     0.97293,     0.97334,     0.97376,     0.97417,     0.97459,\n",
            "              0.975,     0.97542,     0.97583,     0.97624,     0.97666,     0.97695,     0.97693,      0.9769,     0.97687,     0.97685,     0.97681,     0.97676,     0.97673,     0.97671,     0.97668,     0.97666,     0.97663,     0.97661,     0.97659,     0.97657,     0.97655,     0.97653,      0.9764,\n",
            "            0.97635,     0.97631,     0.97628,     0.97626,     0.97623,     0.97621,     0.97618,     0.97613,     0.97608,     0.97606,     0.97604,     0.97601,     0.97599,     0.97597,     0.97595,     0.97594,     0.97592,      0.9759,     0.97589,     0.97587,     0.97586,     0.97573,     0.97567,\n",
            "            0.97562,     0.97542,     0.97532,     0.97527,     0.97511,     0.97506,     0.97502,     0.97492,     0.97473,     0.97471,     0.97468,     0.97465,     0.97463,     0.97459,     0.97455,     0.97451,     0.97446,     0.97442,     0.97438,     0.97432,     0.97423,     0.97409,     0.97406,\n",
            "            0.97403,     0.97401,     0.97398,     0.97391,     0.97377,     0.97365,     0.97352,     0.97346,     0.97332,     0.97321,     0.97315,     0.97679,     0.97817,     0.97806,     0.98319,     0.98335,     0.98879,     0.98866,     0.98858,     0.98841,     0.98837,     0.98831,     0.98822,\n",
            "            0.98819,     0.98817,     0.98813,     0.98809,     0.98803,     0.98792,     0.98783,     0.98773,      0.9875,     0.99362,     0.99354,     0.99348,     0.99338,     0.99337,     0.99336,     0.99334,     0.99333,     0.99326,     0.99317,     0.99312,     0.99301,     0.99294,     0.99291,\n",
            "            0.99287,     0.99283,     0.99279,     0.99275,     0.99329,           1,           1,           1,           1,           1,           1,           1,           1,           1,           1,           1,           1,           1,           1,           1,           1,           1,           1,\n",
            "                  1,           1,           1,           1,           1,           1,           1,           1,           1,           1,           1,           1,           1,           1,           1,           1,           1,           1,           1,           1,           1,           1,           1,\n",
            "                  1,           1,           1,           1,           1,           1,           1,           1,           1,           1,           1,           1,           1,           1,           1,           1,           1,           1,           1,           1,           1,           1,           1,\n",
            "                  1,           1,           1,           1,           1,           1,           1,           1,           1,           1,           1,           1,           1,           1,           1,           1,           1,           1,           1,           1,           1,           1,           1,\n",
            "                  1,           1,           1,           1,           1,           1,           1,           1,           1,           1,           1,           1,           1,           1,           1,           1,           1,           1,           1,           1,           1,           1,           1,\n",
            "                  1,           1,           1,           1,           1,           1,           1,           1,           1,           1,           1,           1,           1,           1,           1,           1,           1,           1,           1,           1,           1,           1,           1,\n",
            "                  1,           1,           1,           1,           1,           1,           1,           1,           1,           1,           1]]), 'Confidence', 'Precision'], [array([          0,    0.001001,    0.002002,    0.003003,    0.004004,    0.005005,    0.006006,    0.007007,    0.008008,    0.009009,     0.01001,    0.011011,    0.012012,    0.013013,    0.014014,    0.015015,    0.016016,    0.017017,    0.018018,    0.019019,     0.02002,    0.021021,    0.022022,    0.023023,\n",
            "          0.024024,    0.025025,    0.026026,    0.027027,    0.028028,    0.029029,     0.03003,    0.031031,    0.032032,    0.033033,    0.034034,    0.035035,    0.036036,    0.037037,    0.038038,    0.039039,     0.04004,    0.041041,    0.042042,    0.043043,    0.044044,    0.045045,    0.046046,    0.047047,\n",
            "          0.048048,    0.049049,     0.05005,    0.051051,    0.052052,    0.053053,    0.054054,    0.055055,    0.056056,    0.057057,    0.058058,    0.059059,     0.06006,    0.061061,    0.062062,    0.063063,    0.064064,    0.065065,    0.066066,    0.067067,    0.068068,    0.069069,     0.07007,    0.071071,\n",
            "          0.072072,    0.073073,    0.074074,    0.075075,    0.076076,    0.077077,    0.078078,    0.079079,     0.08008,    0.081081,    0.082082,    0.083083,    0.084084,    0.085085,    0.086086,    0.087087,    0.088088,    0.089089,     0.09009,    0.091091,    0.092092,    0.093093,    0.094094,    0.095095,\n",
            "          0.096096,    0.097097,    0.098098,    0.099099,      0.1001,      0.1011,      0.1021,      0.1031,      0.1041,     0.10511,     0.10611,     0.10711,     0.10811,     0.10911,     0.11011,     0.11111,     0.11211,     0.11311,     0.11411,     0.11512,     0.11612,     0.11712,     0.11812,     0.11912,\n",
            "           0.12012,     0.12112,     0.12212,     0.12312,     0.12412,     0.12513,     0.12613,     0.12713,     0.12813,     0.12913,     0.13013,     0.13113,     0.13213,     0.13313,     0.13413,     0.13514,     0.13614,     0.13714,     0.13814,     0.13914,     0.14014,     0.14114,     0.14214,     0.14314,\n",
            "           0.14414,     0.14515,     0.14615,     0.14715,     0.14815,     0.14915,     0.15015,     0.15115,     0.15215,     0.15315,     0.15415,     0.15516,     0.15616,     0.15716,     0.15816,     0.15916,     0.16016,     0.16116,     0.16216,     0.16316,     0.16416,     0.16517,     0.16617,     0.16717,\n",
            "           0.16817,     0.16917,     0.17017,     0.17117,     0.17217,     0.17317,     0.17417,     0.17518,     0.17618,     0.17718,     0.17818,     0.17918,     0.18018,     0.18118,     0.18218,     0.18318,     0.18418,     0.18519,     0.18619,     0.18719,     0.18819,     0.18919,     0.19019,     0.19119,\n",
            "           0.19219,     0.19319,     0.19419,      0.1952,      0.1962,      0.1972,      0.1982,      0.1992,      0.2002,      0.2012,      0.2022,      0.2032,      0.2042,     0.20521,     0.20621,     0.20721,     0.20821,     0.20921,     0.21021,     0.21121,     0.21221,     0.21321,     0.21421,     0.21522,\n",
            "           0.21622,     0.21722,     0.21822,     0.21922,     0.22022,     0.22122,     0.22222,     0.22322,     0.22422,     0.22523,     0.22623,     0.22723,     0.22823,     0.22923,     0.23023,     0.23123,     0.23223,     0.23323,     0.23423,     0.23524,     0.23624,     0.23724,     0.23824,     0.23924,\n",
            "           0.24024,     0.24124,     0.24224,     0.24324,     0.24424,     0.24525,     0.24625,     0.24725,     0.24825,     0.24925,     0.25025,     0.25125,     0.25225,     0.25325,     0.25425,     0.25526,     0.25626,     0.25726,     0.25826,     0.25926,     0.26026,     0.26126,     0.26226,     0.26326,\n",
            "           0.26426,     0.26527,     0.26627,     0.26727,     0.26827,     0.26927,     0.27027,     0.27127,     0.27227,     0.27327,     0.27427,     0.27528,     0.27628,     0.27728,     0.27828,     0.27928,     0.28028,     0.28128,     0.28228,     0.28328,     0.28428,     0.28529,     0.28629,     0.28729,\n",
            "           0.28829,     0.28929,     0.29029,     0.29129,     0.29229,     0.29329,     0.29429,      0.2953,      0.2963,      0.2973,      0.2983,      0.2993,      0.3003,      0.3013,      0.3023,      0.3033,      0.3043,     0.30531,     0.30631,     0.30731,     0.30831,     0.30931,     0.31031,     0.31131,\n",
            "           0.31231,     0.31331,     0.31431,     0.31532,     0.31632,     0.31732,     0.31832,     0.31932,     0.32032,     0.32132,     0.32232,     0.32332,     0.32432,     0.32533,     0.32633,     0.32733,     0.32833,     0.32933,     0.33033,     0.33133,     0.33233,     0.33333,     0.33433,     0.33534,\n",
            "           0.33634,     0.33734,     0.33834,     0.33934,     0.34034,     0.34134,     0.34234,     0.34334,     0.34434,     0.34535,     0.34635,     0.34735,     0.34835,     0.34935,     0.35035,     0.35135,     0.35235,     0.35335,     0.35435,     0.35536,     0.35636,     0.35736,     0.35836,     0.35936,\n",
            "           0.36036,     0.36136,     0.36236,     0.36336,     0.36436,     0.36537,     0.36637,     0.36737,     0.36837,     0.36937,     0.37037,     0.37137,     0.37237,     0.37337,     0.37437,     0.37538,     0.37638,     0.37738,     0.37838,     0.37938,     0.38038,     0.38138,     0.38238,     0.38338,\n",
            "           0.38438,     0.38539,     0.38639,     0.38739,     0.38839,     0.38939,     0.39039,     0.39139,     0.39239,     0.39339,     0.39439,      0.3954,      0.3964,      0.3974,      0.3984,      0.3994,      0.4004,      0.4014,      0.4024,      0.4034,      0.4044,     0.40541,     0.40641,     0.40741,\n",
            "           0.40841,     0.40941,     0.41041,     0.41141,     0.41241,     0.41341,     0.41441,     0.41542,     0.41642,     0.41742,     0.41842,     0.41942,     0.42042,     0.42142,     0.42242,     0.42342,     0.42442,     0.42543,     0.42643,     0.42743,     0.42843,     0.42943,     0.43043,     0.43143,\n",
            "           0.43243,     0.43343,     0.43443,     0.43544,     0.43644,     0.43744,     0.43844,     0.43944,     0.44044,     0.44144,     0.44244,     0.44344,     0.44444,     0.44545,     0.44645,     0.44745,     0.44845,     0.44945,     0.45045,     0.45145,     0.45245,     0.45345,     0.45445,     0.45546,\n",
            "           0.45646,     0.45746,     0.45846,     0.45946,     0.46046,     0.46146,     0.46246,     0.46346,     0.46446,     0.46547,     0.46647,     0.46747,     0.46847,     0.46947,     0.47047,     0.47147,     0.47247,     0.47347,     0.47447,     0.47548,     0.47648,     0.47748,     0.47848,     0.47948,\n",
            "           0.48048,     0.48148,     0.48248,     0.48348,     0.48448,     0.48549,     0.48649,     0.48749,     0.48849,     0.48949,     0.49049,     0.49149,     0.49249,     0.49349,     0.49449,      0.4955,      0.4965,      0.4975,      0.4985,      0.4995,      0.5005,      0.5015,      0.5025,      0.5035,\n",
            "            0.5045,     0.50551,     0.50651,     0.50751,     0.50851,     0.50951,     0.51051,     0.51151,     0.51251,     0.51351,     0.51451,     0.51552,     0.51652,     0.51752,     0.51852,     0.51952,     0.52052,     0.52152,     0.52252,     0.52352,     0.52452,     0.52553,     0.52653,     0.52753,\n",
            "           0.52853,     0.52953,     0.53053,     0.53153,     0.53253,     0.53353,     0.53453,     0.53554,     0.53654,     0.53754,     0.53854,     0.53954,     0.54054,     0.54154,     0.54254,     0.54354,     0.54454,     0.54555,     0.54655,     0.54755,     0.54855,     0.54955,     0.55055,     0.55155,\n",
            "           0.55255,     0.55355,     0.55455,     0.55556,     0.55656,     0.55756,     0.55856,     0.55956,     0.56056,     0.56156,     0.56256,     0.56356,     0.56456,     0.56557,     0.56657,     0.56757,     0.56857,     0.56957,     0.57057,     0.57157,     0.57257,     0.57357,     0.57457,     0.57558,\n",
            "           0.57658,     0.57758,     0.57858,     0.57958,     0.58058,     0.58158,     0.58258,     0.58358,     0.58458,     0.58559,     0.58659,     0.58759,     0.58859,     0.58959,     0.59059,     0.59159,     0.59259,     0.59359,     0.59459,      0.5956,      0.5966,      0.5976,      0.5986,      0.5996,\n",
            "            0.6006,      0.6016,      0.6026,      0.6036,      0.6046,     0.60561,     0.60661,     0.60761,     0.60861,     0.60961,     0.61061,     0.61161,     0.61261,     0.61361,     0.61461,     0.61562,     0.61662,     0.61762,     0.61862,     0.61962,     0.62062,     0.62162,     0.62262,     0.62362,\n",
            "           0.62462,     0.62563,     0.62663,     0.62763,     0.62863,     0.62963,     0.63063,     0.63163,     0.63263,     0.63363,     0.63463,     0.63564,     0.63664,     0.63764,     0.63864,     0.63964,     0.64064,     0.64164,     0.64264,     0.64364,     0.64464,     0.64565,     0.64665,     0.64765,\n",
            "           0.64865,     0.64965,     0.65065,     0.65165,     0.65265,     0.65365,     0.65465,     0.65566,     0.65666,     0.65766,     0.65866,     0.65966,     0.66066,     0.66166,     0.66266,     0.66366,     0.66466,     0.66567,     0.66667,     0.66767,     0.66867,     0.66967,     0.67067,     0.67167,\n",
            "           0.67267,     0.67367,     0.67467,     0.67568,     0.67668,     0.67768,     0.67868,     0.67968,     0.68068,     0.68168,     0.68268,     0.68368,     0.68468,     0.68569,     0.68669,     0.68769,     0.68869,     0.68969,     0.69069,     0.69169,     0.69269,     0.69369,     0.69469,      0.6957,\n",
            "            0.6967,      0.6977,      0.6987,      0.6997,      0.7007,      0.7017,      0.7027,      0.7037,      0.7047,     0.70571,     0.70671,     0.70771,     0.70871,     0.70971,     0.71071,     0.71171,     0.71271,     0.71371,     0.71471,     0.71572,     0.71672,     0.71772,     0.71872,     0.71972,\n",
            "           0.72072,     0.72172,     0.72272,     0.72372,     0.72472,     0.72573,     0.72673,     0.72773,     0.72873,     0.72973,     0.73073,     0.73173,     0.73273,     0.73373,     0.73473,     0.73574,     0.73674,     0.73774,     0.73874,     0.73974,     0.74074,     0.74174,     0.74274,     0.74374,\n",
            "           0.74474,     0.74575,     0.74675,     0.74775,     0.74875,     0.74975,     0.75075,     0.75175,     0.75275,     0.75375,     0.75475,     0.75576,     0.75676,     0.75776,     0.75876,     0.75976,     0.76076,     0.76176,     0.76276,     0.76376,     0.76476,     0.76577,     0.76677,     0.76777,\n",
            "           0.76877,     0.76977,     0.77077,     0.77177,     0.77277,     0.77377,     0.77477,     0.77578,     0.77678,     0.77778,     0.77878,     0.77978,     0.78078,     0.78178,     0.78278,     0.78378,     0.78478,     0.78579,     0.78679,     0.78779,     0.78879,     0.78979,     0.79079,     0.79179,\n",
            "           0.79279,     0.79379,     0.79479,      0.7958,      0.7968,      0.7978,      0.7988,      0.7998,      0.8008,      0.8018,      0.8028,      0.8038,      0.8048,     0.80581,     0.80681,     0.80781,     0.80881,     0.80981,     0.81081,     0.81181,     0.81281,     0.81381,     0.81481,     0.81582,\n",
            "           0.81682,     0.81782,     0.81882,     0.81982,     0.82082,     0.82182,     0.82282,     0.82382,     0.82482,     0.82583,     0.82683,     0.82783,     0.82883,     0.82983,     0.83083,     0.83183,     0.83283,     0.83383,     0.83483,     0.83584,     0.83684,     0.83784,     0.83884,     0.83984,\n",
            "           0.84084,     0.84184,     0.84284,     0.84384,     0.84484,     0.84585,     0.84685,     0.84785,     0.84885,     0.84985,     0.85085,     0.85185,     0.85285,     0.85385,     0.85485,     0.85586,     0.85686,     0.85786,     0.85886,     0.85986,     0.86086,     0.86186,     0.86286,     0.86386,\n",
            "           0.86486,     0.86587,     0.86687,     0.86787,     0.86887,     0.86987,     0.87087,     0.87187,     0.87287,     0.87387,     0.87487,     0.87588,     0.87688,     0.87788,     0.87888,     0.87988,     0.88088,     0.88188,     0.88288,     0.88388,     0.88488,     0.88589,     0.88689,     0.88789,\n",
            "           0.88889,     0.88989,     0.89089,     0.89189,     0.89289,     0.89389,     0.89489,      0.8959,      0.8969,      0.8979,      0.8989,      0.8999,      0.9009,      0.9019,      0.9029,      0.9039,      0.9049,     0.90591,     0.90691,     0.90791,     0.90891,     0.90991,     0.91091,     0.91191,\n",
            "           0.91291,     0.91391,     0.91491,     0.91592,     0.91692,     0.91792,     0.91892,     0.91992,     0.92092,     0.92192,     0.92292,     0.92392,     0.92492,     0.92593,     0.92693,     0.92793,     0.92893,     0.92993,     0.93093,     0.93193,     0.93293,     0.93393,     0.93493,     0.93594,\n",
            "           0.93694,     0.93794,     0.93894,     0.93994,     0.94094,     0.94194,     0.94294,     0.94394,     0.94494,     0.94595,     0.94695,     0.94795,     0.94895,     0.94995,     0.95095,     0.95195,     0.95295,     0.95395,     0.95495,     0.95596,     0.95696,     0.95796,     0.95896,     0.95996,\n",
            "           0.96096,     0.96196,     0.96296,     0.96396,     0.96496,     0.96597,     0.96697,     0.96797,     0.96897,     0.96997,     0.97097,     0.97197,     0.97297,     0.97397,     0.97497,     0.97598,     0.97698,     0.97798,     0.97898,     0.97998,     0.98098,     0.98198,     0.98298,     0.98398,\n",
            "           0.98498,     0.98599,     0.98699,     0.98799,     0.98899,     0.98999,     0.99099,     0.99199,     0.99299,     0.99399,     0.99499,       0.996,       0.997,       0.998,       0.999,           1]), array([[     0.9316,      0.9316,     0.91531,     0.90554,     0.90228,     0.89902,     0.89902,     0.89251,     0.88925,     0.88599,     0.88599,     0.88599,     0.87948,     0.87948,     0.87296,     0.87296,     0.86971,     0.86971,     0.86645,     0.86645,     0.86645,     0.86645,     0.86319,\n",
            "            0.86319,     0.86319,     0.86319,     0.86319,     0.86319,     0.86319,     0.85993,     0.85993,     0.85993,     0.85993,     0.85993,     0.85668,     0.85668,     0.85668,     0.85668,     0.85342,     0.85016,     0.85016,     0.85016,     0.85016,     0.85016,     0.85016,     0.85016,\n",
            "            0.85016,     0.85016,     0.85016,     0.85016,     0.85016,     0.85016,     0.85016,     0.85016,     0.85016,     0.85016,     0.85016,     0.85016,     0.85016,     0.84691,     0.84691,     0.84566,     0.84365,     0.84365,     0.84365,     0.84365,     0.84365,     0.84365,     0.84365,\n",
            "            0.84365,     0.84365,     0.84365,     0.84365,     0.84039,     0.84039,     0.84039,     0.84039,     0.84039,     0.84039,     0.84039,     0.84039,     0.84039,     0.84039,     0.84039,     0.84039,     0.84039,     0.84039,     0.84039,     0.84039,     0.84039,     0.83848,     0.83388,\n",
            "            0.83388,     0.83388,     0.83388,     0.83388,     0.83388,     0.83062,     0.83062,     0.83062,     0.83062,     0.83062,     0.83062,     0.83062,     0.83062,     0.83062,     0.83062,     0.83006,     0.82933,      0.8286,     0.82788,     0.82736,     0.82736,     0.82736,     0.82736,\n",
            "            0.82736,     0.82736,     0.82736,     0.82736,     0.82426,      0.8241,      0.8241,      0.8241,      0.8241,      0.8241,      0.8241,      0.8241,      0.8241,      0.8241,      0.8241,      0.8241,      0.8241,      0.8241,      0.8241,      0.8241,      0.8241,      0.8241,      0.8241,\n",
            "             0.8241,      0.8241,      0.8241,      0.8241,      0.8241,      0.8241,      0.8241,      0.8241,      0.8241,     0.82391,     0.82125,     0.82085,     0.82085,     0.82085,     0.82085,     0.82085,     0.82085,     0.82085,     0.82085,     0.82085,     0.82085,     0.82085,     0.82085,\n",
            "            0.82085,     0.82085,     0.82085,     0.82085,     0.82085,     0.82085,     0.82063,     0.81981,       0.819,     0.81818,     0.81759,     0.81759,     0.81759,     0.81759,     0.81759,     0.81759,     0.81759,     0.81759,     0.81759,     0.81759,     0.81759,     0.81759,     0.81759,\n",
            "            0.81759,     0.81759,     0.81759,     0.81759,     0.81759,     0.81759,     0.81759,     0.81759,     0.81759,     0.81759,     0.81759,     0.81759,     0.81759,     0.81759,     0.81759,     0.81759,     0.81759,     0.81759,     0.81759,     0.81759,     0.81759,     0.81759,     0.81759,\n",
            "            0.81759,     0.81759,     0.81759,     0.81759,     0.81759,     0.81759,     0.81759,     0.81759,     0.81759,     0.81759,     0.81759,     0.81759,     0.81605,     0.81433,     0.81433,     0.81433,     0.81433,     0.81433,     0.81433,     0.81433,     0.81433,     0.81433,     0.81433,\n",
            "            0.81433,     0.81433,     0.81358,     0.81281,     0.81205,     0.81128,     0.81107,     0.81107,     0.81107,     0.81107,     0.81107,     0.81107,     0.81107,     0.81107,     0.81107,     0.81107,     0.81107,     0.81107,     0.81107,     0.81107,     0.81107,     0.81107,     0.81107,\n",
            "            0.81107,     0.81107,     0.81107,     0.81107,     0.81107,     0.81107,     0.81107,     0.81107,     0.81003,     0.80767,     0.80651,     0.80535,     0.80456,     0.80456,     0.80456,     0.80456,     0.80456,     0.80456,     0.80456,     0.80268,      0.8013,      0.8013,      0.8013,\n",
            "             0.8013,      0.8013,      0.8013,      0.8013,      0.8013,      0.8013,      0.8013,      0.8013,      0.8013,      0.8013,      0.8013,      0.8013,      0.8013,      0.8013,      0.8013,      0.8013,      0.8013,      0.8013,      0.8013,      0.8013,      0.8013,      0.8013,      0.8013,\n",
            "             0.8013,      0.8013,      0.8013,      0.8013,      0.8013,      0.8013,      0.8013,      0.8013,      0.8013,      0.8013,      0.8013,      0.8013,      0.8013,      0.8013,      0.8013,      0.8013,      0.8013,      0.8013,      0.8013,      0.8013,      0.8013,      0.8013,      0.8013,\n",
            "             0.8013,      0.8013,      0.8013,      0.8013,     0.80125,     0.80109,     0.80093,     0.80076,      0.8006,     0.80044,     0.80027,     0.80011,     0.79995,     0.79978,     0.79962,     0.79945,     0.79929,     0.79913,     0.79896,      0.7988,     0.79864,     0.79847,     0.79831,\n",
            "            0.79814,     0.79805,     0.79805,     0.79805,     0.79805,     0.79805,     0.79805,     0.79805,     0.79805,     0.79805,     0.79805,     0.79805,     0.79805,     0.79805,     0.79805,     0.79805,     0.79805,     0.79805,     0.79671,     0.79533,     0.79479,     0.79479,     0.79479,\n",
            "            0.79479,     0.79479,     0.79479,     0.79479,     0.79479,     0.79479,     0.79479,     0.79479,     0.79479,     0.79479,     0.79479,     0.79479,     0.79479,     0.79479,     0.79479,     0.79473,     0.79462,     0.79451,      0.7944,     0.79429,     0.79419,     0.79408,     0.79397,\n",
            "            0.79386,     0.79376,     0.79365,     0.79354,     0.79343,     0.79332,     0.79322,     0.79311,       0.793,     0.79289,     0.79279,     0.79268,     0.79257,     0.79246,     0.79235,     0.79225,     0.79214,     0.79203,     0.79192,     0.79182,     0.79171,      0.7916,     0.79153,\n",
            "            0.79153,     0.79142,     0.79129,     0.79115,     0.79102,     0.79088,     0.79075,     0.79061,     0.79047,     0.79034,      0.7902,     0.79007,     0.78993,     0.78979,     0.78966,     0.78952,     0.78939,     0.78925,     0.78911,     0.78898,     0.78884,     0.78871,     0.78857,\n",
            "            0.78844,      0.7883,     0.78787,     0.78737,     0.78687,     0.78637,     0.78587,     0.78537,     0.78502,     0.78502,     0.78502,     0.78502,     0.78502,     0.78502,     0.78502,     0.78502,     0.78502,     0.78502,     0.78502,     0.78502,     0.78502,     0.78502,     0.78502,\n",
            "            0.78502,     0.78502,     0.78502,     0.78502,     0.78502,     0.78502,     0.78475,     0.78415,     0.78355,     0.78295,     0.78235,     0.78173,     0.77974,      0.7785,      0.7785,      0.7785,     0.77847,     0.77835,     0.77823,      0.7781,     0.77798,     0.77786,     0.77774,\n",
            "            0.77761,     0.77749,     0.77737,     0.77725,     0.77712,       0.777,     0.77688,     0.77676,     0.77664,     0.77651,     0.77639,     0.77627,     0.77615,     0.77602,      0.7759,     0.77578,     0.77566,     0.77553,     0.77541,     0.77529,     0.77524,     0.77515,       0.775,\n",
            "            0.77486,     0.77471,     0.77456,     0.77441,     0.77426,     0.77411,     0.77396,     0.77381,     0.77366,     0.77351,     0.77336,     0.77322,     0.77307,     0.77292,     0.77277,     0.77262,     0.77247,     0.77232,     0.77217,     0.77202,     0.77199,     0.77199,     0.77199,\n",
            "            0.77199,     0.77199,     0.77199,     0.77199,     0.77183,      0.7716,     0.77137,     0.77114,     0.77092,     0.77069,     0.77046,     0.77023,        0.77,     0.76978,     0.76955,     0.76932,     0.76909,     0.76886,     0.76862,     0.76834,     0.76807,     0.76779,     0.76752,\n",
            "            0.76724,     0.76697,     0.76669,     0.76642,     0.76614,     0.76587,     0.76559,     0.76547,     0.76547,     0.76547,     0.76547,     0.76547,     0.76547,     0.76547,     0.76545,     0.76524,     0.76502,     0.76481,      0.7646,     0.76439,     0.76418,     0.76397,     0.76375,\n",
            "            0.76354,     0.76333,     0.76312,     0.76291,     0.76269,     0.76248,     0.76227,     0.75896,     0.75865,      0.7583,     0.75795,     0.75759,     0.75724,     0.75689,     0.75654,     0.75619,     0.75584,      0.7557,      0.7557,     0.75546,     0.75517,     0.75489,      0.7546,\n",
            "            0.75432,     0.75403,     0.75375,     0.75346,     0.75318,     0.75289,     0.75261,     0.75209,     0.75127,     0.75045,     0.74962,     0.74903,     0.74869,     0.74834,       0.748,     0.74766,     0.74732,     0.74698,     0.74664,      0.7463,     0.74596,     0.74531,     0.74463,\n",
            "            0.74395,     0.74327,     0.74264,     0.74237,      0.7421,     0.74184,     0.74157,      0.7413,     0.74103,     0.74076,     0.74049,     0.74022,     0.73995,     0.73968,     0.73942,     0.73716,     0.73616,     0.73616,     0.73616,     0.73587,     0.73557,     0.73527,     0.73497,\n",
            "            0.73468,     0.73438,     0.73408,     0.73378,     0.73348,     0.73319,     0.73282,     0.73039,     0.72722,     0.72603,     0.72556,      0.7251,     0.72463,     0.72417,      0.7237,     0.72323,     0.72138,     0.71987,     0.71676,      0.7163,     0.71598,     0.71566,     0.71534,\n",
            "            0.71501,     0.71469,     0.71437,     0.71405,     0.71373,     0.71341,     0.70919,     0.70759,     0.70684,     0.70684,     0.70684,     0.70684,     0.70684,     0.70684,     0.70684,     0.70684,     0.70684,     0.70684,     0.70684,     0.70684,     0.70684,     0.70684,     0.70684,\n",
            "            0.70684,     0.70684,     0.70684,     0.70684,     0.70684,     0.70684,     0.70684,     0.70684,     0.70684,     0.70684,     0.70684,     0.70684,     0.70684,     0.70684,     0.70684,     0.70684,     0.70684,     0.70684,     0.70684,     0.70684,     0.70684,     0.70684,     0.70662,\n",
            "            0.70631,       0.706,     0.70568,     0.70537,     0.70505,     0.70474,     0.70443,     0.70411,      0.7038,     0.70182,     0.69695,       0.696,     0.69505,      0.6941,     0.69319,     0.69228,     0.69138,     0.69055,     0.69055,     0.69055,     0.69055,     0.69055,     0.69055,\n",
            "            0.69055,     0.69055,     0.69055,     0.69055,     0.69055,     0.69034,     0.68956,     0.68878,       0.688,     0.68717,     0.68591,     0.68465,     0.68365,      0.6829,     0.68214,     0.68139,     0.68066,     0.68005,     0.67943,     0.67882,     0.67821,     0.67759,     0.67373,\n",
            "            0.67242,     0.67112,     0.67039,      0.6697,     0.66902,     0.66834,     0.66755,     0.66605,     0.66456,     0.66392,     0.66333,     0.66273,     0.66213,     0.66153,     0.66101,     0.66055,     0.66009,     0.65964,     0.65918,     0.65872,     0.65826,     0.65464,     0.65326,\n",
            "            0.65188,     0.64629,      0.6437,     0.64225,     0.63802,     0.63683,     0.63564,     0.63306,     0.62835,     0.62767,     0.62699,     0.62631,     0.62563,     0.62469,     0.62363,     0.62256,     0.62152,     0.62049,     0.61946,     0.61791,     0.61576,     0.61223,     0.61157,\n",
            "            0.61092,     0.61026,      0.6096,     0.60792,     0.60452,      0.6017,     0.59873,     0.59734,     0.59416,     0.59157,     0.59022,     0.58958,     0.58396,     0.58095,      0.5798,      0.5773,     0.57476,     0.56802,     0.56397,     0.55575,     0.55372,     0.55073,     0.54649,\n",
            "            0.54533,     0.54416,     0.54239,      0.5404,     0.53759,     0.53281,     0.52901,     0.52447,     0.51448,      0.5073,     0.50067,      0.4965,     0.48851,     0.48773,     0.48695,     0.48617,     0.48539,     0.48033,     0.47389,     0.47009,     0.46284,     0.45822,     0.45642,\n",
            "            0.45343,     0.45104,     0.44868,     0.44582,       0.443,     0.43923,     0.43575,      0.4309,     0.42113,     0.41504,     0.40919,     0.40349,      0.3994,     0.39538,     0.38753,     0.38622,     0.38492,     0.38167,     0.37285,     0.36974,      0.3655,     0.35981,     0.35772,\n",
            "            0.35587,     0.35193,     0.34783,     0.34089,     0.33011,     0.31738,     0.31404,     0.31107,     0.30231,     0.28728,     0.28003,     0.27515,     0.26968,     0.26696,     0.25938,       0.254,     0.25148,     0.24663,     0.23562,     0.22242,     0.22014,     0.21863,     0.20178,\n",
            "            0.19962,     0.19677,     0.19293,     0.18099,     0.17238,     0.17055,     0.16791,     0.16273,     0.15985,     0.14925,       0.147,     0.14446,     0.13931,     0.13692,     0.13223,     0.12703,     0.12524,     0.12354,     0.12224,     0.12094,     0.11844,     0.11501,     0.10829,\n",
            "            0.10493,      0.1027,    0.099027,    0.093533,    0.086744,    0.083782,    0.082106,    0.080591,    0.079184,    0.076156,    0.070337,    0.068492,    0.065788,    0.063564,    0.060588,    0.053099,    0.046767,    0.044542,    0.042784,     0.03929,    0.034815,     0.03298,    0.030277,\n",
            "           0.025079,    0.021744,    0.020094,    0.018689,    0.017407,    0.016214,    0.015639,    0.015065,     0.01449,    0.013916,    0.013341,    0.012371,     0.01093,   0.0089712,   0.0061103,   0.0050989,   0.0040876,           0,           0,           0,           0,           0,           0,\n",
            "                  0,           0,           0,           0,           0,           0,           0,           0,           0,           0,           0,           0,           0,           0,           0,           0,           0,           0,           0,           0,           0,           0,           0,\n",
            "                  0,           0,           0,           0,           0,           0,           0,           0,           0,           0,           0]]), 'Confidence', 'Recall']]\n",
            "fitness: 0.6510502355268584\n",
            "keys: ['metrics/precision(B)', 'metrics/recall(B)', 'metrics/mAP50(B)', 'metrics/mAP50-95(B)']\n",
            "maps: array([    0.62948])\n",
            "names: {0: 'LicensePlate'}\n",
            "plot: True\n",
            "results_dict: {'metrics/precision(B)': 0.9239085597637774, 'metrics/recall(B)': 0.7910168109255452, 'metrics/mAP50(B)': 0.84517153857417, 'metrics/mAP50-95(B)': 0.6294812018549348, 'fitness': 0.6510502355268584}\n",
            "save_dir: PosixPath('runs/detect/val')\n",
            "speed: {'preprocess': 0.3003738636297468, 'inference': 8.085076281833443, 'loss': 0.0007971681828745535, 'postprocess': 1.0200285045481328}\n",
            "task: 'detect'\n"
          ]
        }
      ]
    },
    {
      "cell_type": "code",
      "source": [
        "metrics = model.val()\n",
        "print(f\"mAP@50: {metrics.box.map50:.3f}\")  # Mean Average Precision at IoU 0.50\n",
        "print(f\"mAP@50-95: {metrics.box.map:.3f}\")  # Mean Average Precision from IoU 0.50 to 0.95\n",
        "print(f\"Precision: {metrics.box.mp:.3f}\")  # Mean Precision across all classes\n",
        "print(f\"Recall: {metrics.box.mr:.3f}\")  # Mean Recall across all classes"
      ],
      "metadata": {
        "colab": {
          "base_uri": "https://localhost:8080/"
        },
        "id": "vpH8h7kofnR_",
        "outputId": "49cdd2be-3053-4e91-b8b7-d033cfdc807b"
      },
      "execution_count": 26,
      "outputs": [
        {
          "output_type": "stream",
          "name": "stdout",
          "text": [
            "Ultralytics 8.3.82 🚀 Python-3.11.11 torch-2.5.1+cu124 CUDA:0 (Tesla T4, 15095MiB)\n"
          ]
        },
        {
          "output_type": "stream",
          "name": "stderr",
          "text": [
            "\u001b[34m\u001b[1mval: \u001b[0mScanning /content/license-plate-detection-1/valid/labels.cache... 220 images, 0 backgrounds, 0 corrupt: 100%|██████████| 220/220 [00:00<?, ?it/s]"
          ]
        },
        {
          "output_type": "stream",
          "name": "stdout",
          "text": [
            "WARNING ⚠️ Box and segment counts should be equal, but got len(segments) = 154, len(boxes) = 307. To resolve this only boxes will be used and all segments will be removed. To avoid this please supply either a detect or segment dataset, not a detect-segment mixed dataset.\n"
          ]
        },
        {
          "output_type": "stream",
          "name": "stderr",
          "text": [
            "\n",
            "                 Class     Images  Instances      Box(P          R      mAP50  mAP50-95): 100%|██████████| 14/14 [00:03<00:00,  3.83it/s]\n"
          ]
        },
        {
          "output_type": "stream",
          "name": "stdout",
          "text": [
            "                   all        220        307      0.924      0.791      0.845      0.629\n",
            "Speed: 2.2ms preprocess, 4.6ms inference, 0.0ms loss, 1.4ms postprocess per image\n",
            "Results saved to \u001b[1mruns/detect/val5\u001b[0m\n",
            "mAP@50: 0.845\n",
            "mAP@50-95: 0.629\n",
            "Precision: 0.924\n",
            "Recall: 0.791\n"
          ]
        }
      ]
    },
    {
      "cell_type": "code",
      "source": [
        "import pandas as pd\n",
        "import matplotlib.pyplot as plt\n",
        "\n",
        "# Load training logs\n",
        "results = pd.read_csv(\"/content/runs/detect/train4/results.csv\")\n",
        "\n",
        "# Plot mAP@50\n",
        "plt.figure(figsize=(10,5))\n",
        "plt.plot(results[\"epoch\"], results[\"metrics/mAP50(B)\"], label=\"mAP@50\")\n",
        "plt.xlabel(\"Epochs\")\n",
        "plt.ylabel(\"mAP\")\n",
        "plt.legend()\n",
        "plt.title(\"Mean Average Precision (mAP) Over Time\")\n",
        "plt.show()"
      ],
      "metadata": {
        "colab": {
          "base_uri": "https://localhost:8080/",
          "height": 487
        },
        "id": "_Rd_IzSzg9dr",
        "outputId": "058170f5-42b3-43a7-a1c1-224587049eb3"
      },
      "execution_count": 33,
      "outputs": [
        {
          "output_type": "display_data",
          "data": {
            "text/plain": [
              "<Figure size 1000x500 with 1 Axes>"
            ],
            "image/png": "[encoded data removed]"
          },
          "metadata": {}
        }
      ]
    },
    {
      "cell_type": "code",
      "source": [
        "from ultralytics import YOLO\n",
        "\n",
        "# Load the best trained model and continue training\n",
        "model = YOLO(\"/content/runs/detect/train4/weights/best.pt\")  # Load trained model\n",
        "\n",
        "model.train(data=\"/content/license-plate-detection-1/data.yaml\", epochs=100, batch=16, save=True)"
      ],
      "metadata": {
        "colab": {
          "base_uri": "https://localhost:8080/"
        },
        "id": "xlqlZv3ZiQox",
        "outputId": "e55a92f7-5227-4d2c-90a2-2fe1d93438c8"
      },
      "execution_count": null,
      "outputs": [
        {
          "metadata": {
            "tags": null
          },
          "name": "stdout",
          "output_type": "stream",
          "text": [
            "Ultralytics 8.3.82 🚀 Python-3.11.11 torch-2.5.1+cu124 CUDA:0 (Tesla T4, 15095MiB)\n",
            "\u001b[34m\u001b[1mengine/trainer: \u001b[0mtask=detect, mode=train, model=/content/runs/detect/train4/weights/best.pt, data=/content/license-plate-detection-1/data.yaml, epochs=100, time=None, patience=100, batch=16, imgsz=640, save=True, save_period=-1, cache=False, device=None, workers=8, project=None, name=train5, exist_ok=False, pretrained=True, optimizer=auto, verbose=True, seed=0, deterministic=True, single_cls=False, rect=False, cos_lr=False, close_mosaic=10, resume=False, amp=True, fraction=1.0, profile=False, freeze=None, multi_scale=False, overlap_mask=True, mask_ratio=4, dropout=0.0, val=True, split=val, save_json=False, save_hybrid=False, conf=None, iou=0.7, max_det=300, half=False, dnn=False, plots=True, source=None, vid_stride=1, stream_buffer=False, visualize=False, augment=False, agnostic_nms=False, classes=None, retina_masks=False, embed=None, show=False, save_frames=False, save_txt=False, save_conf=False, save_crop=False, show_labels=True, show_conf=True, show_boxes=True, line_width=None, format=torchscript, keras=False, optimize=False, int8=False, dynamic=False, simplify=True, opset=None, workspace=None, nms=False, lr0=0.01, lrf=0.01, momentum=0.937, weight_decay=0.0005, warmup_epochs=3.0, warmup_momentum=0.8, warmup_bias_lr=0.1, box=7.5, cls=0.5, dfl=1.5, pose=12.0, kobj=1.0, nbs=64, hsv_h=0.015, hsv_s=0.7, hsv_v=0.4, degrees=0.0, translate=0.1, scale=0.5, shear=0.0, perspective=0.0, flipud=0.0, fliplr=0.5, bgr=0.0, mosaic=1.0, mixup=0.0, copy_paste=0.0, copy_paste_mode=flip, auto_augment=randaugment, erasing=0.4, crop_fraction=1.0, cfg=None, tracker=botsort.yaml, save_dir=runs/detect/train5\n",
            "\n",
            "                   from  n    params  module                                       arguments                     \n",
            "  0                  -1  1       464  ultralytics.nn.modules.conv.Conv             [3, 16, 3, 2]                 \n",
            "  1                  -1  1      4672  ultralytics.nn.modules.conv.Conv             [16, 32, 3, 2]                \n",
            "  2                  -1  1      6640  ultralytics.nn.modules.block.C3k2            [32, 64, 1, False, 0.25]      \n",
            "  3                  -1  1     36992  ultralytics.nn.modules.conv.Conv             [64, 64, 3, 2]                \n",
            "  4                  -1  1     26080  ultralytics.nn.modules.block.C3k2            [64, 128, 1, False, 0.25]     \n",
            "  5                  -1  1    147712  ultralytics.nn.modules.conv.Conv             [128, 128, 3, 2]              \n",
            "  6                  -1  1     87040  ultralytics.nn.modules.block.C3k2            [128, 128, 1, True]           \n",
            "  7                  -1  1    295424  ultralytics.nn.modules.conv.Conv             [128, 256, 3, 2]              \n",
            "  8                  -1  1    346112  ultralytics.nn.modules.block.C3k2            [256, 256, 1, True]           \n",
            "  9                  -1  1    164608  ultralytics.nn.modules.block.SPPF            [256, 256, 5]                 \n",
            " 10                  -1  1    249728  ultralytics.nn.modules.block.C2PSA           [256, 256, 1]                 \n",
            " 11                  -1  1         0  torch.nn.modules.upsampling.Upsample         [None, 2, 'nearest']          \n",
            " 12             [-1, 6]  1         0  ultralytics.nn.modules.conv.Concat           [1]                           \n",
            " 13                  -1  1    111296  ultralytics.nn.modules.block.C3k2            [384, 128, 1, False]          \n",
            " 14                  -1  1         0  torch.nn.modules.upsampling.Upsample         [None, 2, 'nearest']          \n",
            " 15             [-1, 4]  1         0  ultralytics.nn.modules.conv.Concat           [1]                           \n",
            " 16                  -1  1     32096  ultralytics.nn.modules.block.C3k2            [256, 64, 1, False]           \n",
            " 17                  -1  1     36992  ultralytics.nn.modules.conv.Conv             [64, 64, 3, 2]                \n",
            " 18            [-1, 13]  1         0  ultralytics.nn.modules.conv.Concat           [1]                           \n",
            " 19                  -1  1     86720  ultralytics.nn.modules.block.C3k2            [192, 128, 1, False]          \n",
            " 20                  -1  1    147712  ultralytics.nn.modules.conv.Conv             [128, 128, 3, 2]              \n",
            " 21            [-1, 10]  1         0  ultralytics.nn.modules.conv.Concat           [1]                           \n",
            " 22                  -1  1    378880  ultralytics.nn.modules.block.C3k2            [384, 256, 1, True]           \n",
            " 23        [16, 19, 22]  1    430867  ultralytics.nn.modules.head.Detect           [1, [64, 128, 256]]           \n",
            "YOLO11n summary: 181 layers, 2,590,035 parameters, 2,590,019 gradients, 6.4 GFLOPs\n",
            "\n",
            "Transferred 499/499 items from pretrained weights\n",
            "\u001b[34m\u001b[1mTensorBoard: \u001b[0mStart with 'tensorboard --logdir runs/detect/train5', view at http://localhost:6006/\n",
            "Freezing layer 'model.23.dfl.conv.weight'\n",
            "\u001b[34m\u001b[1mAMP: \u001b[0mrunning Automatic Mixed Precision (AMP) checks...\n",
            "\u001b[34m\u001b[1mAMP: \u001b[0mchecks passed ✅\n"
          ]
        },
        {
          "metadata": {
            "tags": null
          },
          "name": "stderr",
          "output_type": "stream",
          "text": [
            "\u001b[34m\u001b[1mtrain: \u001b[0mScanning /content/license-plate-detection-1/train/labels.cache... 4959 images, 0 backgrounds, 0 corrupt: 100%|██████████| 4959/4959 [00:00<?, ?it/s]\n"
          ]
        },
        {
          "metadata": {
            "tags": null
          },
          "name": "stdout",
          "output_type": "stream",
          "text": [
            "WARNING ⚠️ Box and segment counts should be equal, but got len(segments) = 3636, len(boxes) = 6621. To resolve this only boxes will be used and all segments will be removed. To avoid this please supply either a detect or segment dataset, not a detect-segment mixed dataset.\n",
            "\u001b[34m\u001b[1malbumentations: \u001b[0mBlur(p=0.01, blur_limit=(3, 7)), MedianBlur(p=0.01, blur_limit=(3, 7)), ToGray(p=0.01, num_output_channels=3, method='weighted_average'), CLAHE(p=0.01, clip_limit=(1.0, 4.0), tile_grid_size=(8, 8))\n"
          ]
        },
        {
          "metadata": {
            "tags": null
          },
          "name": "stderr",
          "output_type": "stream",
          "text": [
            "\u001b[34m\u001b[1mval: \u001b[0mScanning /content/license-plate-detection-1/valid/labels.cache... 220 images, 0 backgrounds, 0 corrupt: 100%|██████████| 220/220 [00:00<?, ?it/s]"
          ]
        },
        {
          "metadata": {
            "tags": null
          },
          "name": "stdout",
          "output_type": "stream",
          "text": [
            "WARNING ⚠️ Box and segment counts should be equal, but got len(segments) = 154, len(boxes) = 307. To resolve this only boxes will be used and all segments will be removed. To avoid this please supply either a detect or segment dataset, not a detect-segment mixed dataset.\n"
          ]
        },
        {
          "metadata": {
            "tags": null
          },
          "name": "stderr",
          "output_type": "stream",
          "text": [
            "\n"
          ]
        },
        {
          "metadata": {
            "tags": null
          },
          "name": "stdout",
          "output_type": "stream",
          "text": [
            "Plotting labels to runs/detect/train5/labels.jpg... \n",
            "\u001b[34m\u001b[1moptimizer:\u001b[0m 'optimizer=auto' found, ignoring 'lr0=0.01' and 'momentum=0.937' and determining best 'optimizer', 'lr0' and 'momentum' automatically... \n",
            "\u001b[34m\u001b[1moptimizer:\u001b[0m AdamW(lr=0.002, momentum=0.9) with parameter groups 81 weight(decay=0.0), 88 weight(decay=0.0005), 87 bias(decay=0.0)\n",
            "\u001b[34m\u001b[1mTensorBoard: \u001b[0mmodel graph visualization added ✅\n",
            "Image sizes 640 train, 640 val\n",
            "Using 2 dataloader workers\n",
            "Logging results to \u001b[1mruns/detect/train5\u001b[0m\n",
            "Starting training for 100 epochs...\n",
            "\n",
            "      Epoch    GPU_mem   box_loss   cls_loss   dfl_loss  Instances       Size\n"
          ]
        },
        {
          "metadata": {
            "tags": null
          },
          "name": "stderr",
          "output_type": "stream",
          "text": [
            "      1/100       2.3G     0.9057     0.6847      1.218         45        640: 100%|██████████| 310/310 [01:40<00:00,  3.08it/s]\n",
            "                 Class     Images  Instances      Box(P          R      mAP50  mAP50-95): 100%|██████████| 7/7 [00:02<00:00,  3.39it/s]"
          ]
        },
        {
          "metadata": {
            "tags": null
          },
          "name": "stdout",
          "output_type": "stream",
          "text": [
            "                   all        220        307      0.896      0.785      0.834      0.608\n"
          ]
        },
        {
          "metadata": {
            "tags": null
          },
          "name": "stderr",
          "output_type": "stream",
          "text": [
            "\n"
          ]
        },
        {
          "metadata": {
            "tags": null
          },
          "name": "stdout",
          "output_type": "stream",
          "text": [
            "\n",
            "      Epoch    GPU_mem   box_loss   cls_loss   dfl_loss  Instances       Size\n"
          ]
        },
        {
          "metadata": {
            "tags": null
          },
          "name": "stderr",
          "output_type": "stream",
          "text": [
            "      2/100      2.23G     0.9704     0.7453       1.26         51        640: 100%|██████████| 310/310 [01:36<00:00,  3.23it/s]\n",
            "                 Class     Images  Instances      Box(P          R      mAP50  mAP50-95): 100%|██████████| 7/7 [00:02<00:00,  2.57it/s]"
          ]
        },
        {
          "metadata": {
            "tags": null
          },
          "name": "stdout",
          "output_type": "stream",
          "text": [
            "                   all        220        307      0.871      0.795      0.838      0.584\n"
          ]
        },
        {
          "metadata": {
            "tags": null
          },
          "name": "stderr",
          "output_type": "stream",
          "text": [
            "\n"
          ]
        },
        {
          "metadata": {
            "tags": null
          },
          "name": "stdout",
          "output_type": "stream",
          "text": [
            "\n",
            "      Epoch    GPU_mem   box_loss   cls_loss   dfl_loss  Instances       Size\n"
          ]
        },
        {
          "metadata": {
            "tags": null
          },
          "name": "stderr",
          "output_type": "stream",
          "text": [
            "      3/100      2.22G      1.018     0.7785      1.291         36        640: 100%|██████████| 310/310 [01:39<00:00,  3.13it/s]\n",
            "                 Class     Images  Instances      Box(P          R      mAP50  mAP50-95): 100%|██████████| 7/7 [00:02<00:00,  2.90it/s]\n"
          ]
        },
        {
          "metadata": {
            "tags": null
          },
          "name": "stdout",
          "output_type": "stream",
          "text": [
            "                   all        220        307      0.745      0.801      0.794       0.56\n",
            "\n",
            "      Epoch    GPU_mem   box_loss   cls_loss   dfl_loss  Instances       Size\n"
          ]
        },
        {
          "metadata": {
            "tags": null
          },
          "name": "stderr",
          "output_type": "stream",
          "text": [
            "      4/100      2.23G      1.034     0.8117        1.3         34        640: 100%|██████████| 310/310 [01:36<00:00,  3.21it/s]\n",
            "                 Class     Images  Instances      Box(P          R      mAP50  mAP50-95): 100%|██████████| 7/7 [00:02<00:00,  2.40it/s]"
          ]
        },
        {
          "metadata": {
            "tags": null
          },
          "name": "stdout",
          "output_type": "stream",
          "text": [
            "                   all        220        307      0.866      0.775      0.826      0.583\n"
          ]
        },
        {
          "metadata": {
            "tags": null
          },
          "name": "stderr",
          "output_type": "stream",
          "text": [
            "\n"
          ]
        },
        {
          "metadata": {
            "tags": null
          },
          "name": "stdout",
          "output_type": "stream",
          "text": [
            "\n",
            "      Epoch    GPU_mem   box_loss   cls_loss   dfl_loss  Instances       Size\n"
          ]
        },
        {
          "metadata": {
            "tags": null
          },
          "name": "stderr",
          "output_type": "stream",
          "text": [
            "      5/100      2.23G      1.045     0.8133      1.306         33        640: 100%|██████████| 310/310 [01:35<00:00,  3.25it/s]\n",
            "                 Class     Images  Instances      Box(P          R      mAP50  mAP50-95): 100%|██████████| 7/7 [00:02<00:00,  3.04it/s]"
          ]
        },
        {
          "metadata": {
            "tags": null
          },
          "name": "stdout",
          "output_type": "stream",
          "text": [
            "                   all        220        307      0.898      0.798      0.821      0.583\n"
          ]
        },
        {
          "metadata": {
            "tags": null
          },
          "name": "stderr",
          "output_type": "stream",
          "text": [
            "\n"
          ]
        },
        {
          "metadata": {
            "tags": null
          },
          "name": "stdout",
          "output_type": "stream",
          "text": [
            "\n",
            "      Epoch    GPU_mem   box_loss   cls_loss   dfl_loss  Instances       Size\n"
          ]
        },
        {
          "metadata": {
            "tags": null
          },
          "name": "stderr",
          "output_type": "stream",
          "text": [
            "      6/100      2.25G      1.036     0.8083      1.303         43        640: 100%|██████████| 310/310 [01:34<00:00,  3.28it/s]\n",
            "                 Class     Images  Instances      Box(P          R      mAP50  mAP50-95): 100%|██████████| 7/7 [00:02<00:00,  3.36it/s]"
          ]
        },
        {
          "metadata": {
            "tags": null
          },
          "name": "stdout",
          "output_type": "stream",
          "text": [
            "                   all        220        307      0.926       0.73      0.815      0.592\n"
          ]
        },
        {
          "metadata": {
            "tags": null
          },
          "name": "stderr",
          "output_type": "stream",
          "text": [
            "\n"
          ]
        },
        {
          "metadata": {
            "tags": null
          },
          "name": "stdout",
          "output_type": "stream",
          "text": [
            "\n",
            "      Epoch    GPU_mem   box_loss   cls_loss   dfl_loss  Instances       Size\n"
          ]
        },
        {
          "metadata": {
            "tags": null
          },
          "name": "stderr",
          "output_type": "stream",
          "text": [
            "      7/100      2.25G      1.036     0.8047      1.303         27        640: 100%|██████████| 310/310 [01:36<00:00,  3.23it/s]\n",
            "                 Class     Images  Instances      Box(P          R      mAP50  mAP50-95): 100%|██████████| 7/7 [00:01<00:00,  3.91it/s]"
          ]
        },
        {
          "metadata": {
            "tags": null
          },
          "name": "stdout",
          "output_type": "stream",
          "text": [
            "                   all        220        307      0.891      0.792       0.83      0.584\n"
          ]
        },
        {
          "metadata": {
            "tags": null
          },
          "name": "stderr",
          "output_type": "stream",
          "text": [
            "\n"
          ]
        },
        {
          "metadata": {
            "tags": null
          },
          "name": "stdout",
          "output_type": "stream",
          "text": [
            "\n",
            "      Epoch    GPU_mem   box_loss   cls_loss   dfl_loss  Instances       Size\n"
          ]
        },
        {
          "metadata": {
            "tags": null
          },
          "name": "stderr",
          "output_type": "stream",
          "text": [
            "      8/100      2.25G      1.023     0.7889      1.296         25        640: 100%|██████████| 310/310 [01:35<00:00,  3.24it/s]\n",
            "                 Class     Images  Instances      Box(P          R      mAP50  mAP50-95): 100%|██████████| 7/7 [00:01<00:00,  3.72it/s]"
          ]
        },
        {
          "metadata": {
            "tags": null
          },
          "name": "stdout",
          "output_type": "stream",
          "text": [
            "                   all        220        307      0.916      0.765      0.831      0.586\n"
          ]
        },
        {
          "metadata": {
            "tags": null
          },
          "name": "stderr",
          "output_type": "stream",
          "text": [
            "\n"
          ]
        },
        {
          "metadata": {
            "tags": null
          },
          "name": "stdout",
          "output_type": "stream",
          "text": [
            "\n",
            "      Epoch    GPU_mem   box_loss   cls_loss   dfl_loss  Instances       Size\n"
          ]
        },
        {
          "metadata": {
            "tags": null
          },
          "name": "stderr",
          "output_type": "stream",
          "text": [
            "      9/100      2.22G      1.018     0.7814      1.292         33        640: 100%|██████████| 310/310 [01:35<00:00,  3.24it/s]\n",
            "                 Class     Images  Instances      Box(P          R      mAP50  mAP50-95): 100%|██████████| 7/7 [00:02<00:00,  2.45it/s]"
          ]
        },
        {
          "metadata": {
            "tags": null
          },
          "name": "stdout",
          "output_type": "stream",
          "text": [
            "                   all        220        307      0.879      0.801      0.837      0.592\n"
          ]
        },
        {
          "metadata": {
            "tags": null
          },
          "name": "stderr",
          "output_type": "stream",
          "text": [
            "\n"
          ]
        },
        {
          "metadata": {
            "tags": null
          },
          "name": "stdout",
          "output_type": "stream",
          "text": [
            "\n",
            "      Epoch    GPU_mem   box_loss   cls_loss   dfl_loss  Instances       Size\n"
          ]
        },
        {
          "metadata": {
            "tags": null
          },
          "name": "stderr",
          "output_type": "stream",
          "text": [
            "     10/100      2.25G      1.014     0.7729      1.285         40        640: 100%|██████████| 310/310 [01:34<00:00,  3.27it/s]\n",
            "                 Class     Images  Instances      Box(P          R      mAP50  mAP50-95): 100%|██████████| 7/7 [00:02<00:00,  3.48it/s]"
          ]
        },
        {
          "metadata": {
            "tags": null
          },
          "name": "stdout",
          "output_type": "stream",
          "text": [
            "                   all        220        307      0.805      0.766      0.763      0.537\n"
          ]
        },
        {
          "metadata": {
            "tags": null
          },
          "name": "stderr",
          "output_type": "stream",
          "text": [
            "\n"
          ]
        },
        {
          "metadata": {
            "tags": null
          },
          "name": "stdout",
          "output_type": "stream",
          "text": [
            "\n",
            "      Epoch    GPU_mem   box_loss   cls_loss   dfl_loss  Instances       Size\n"
          ]
        },
        {
          "metadata": {
            "tags": null
          },
          "name": "stderr",
          "output_type": "stream",
          "text": [
            "     11/100      2.22G       1.01       0.78      1.288         37        640: 100%|██████████| 310/310 [01:35<00:00,  3.25it/s]\n",
            "                 Class     Images  Instances      Box(P          R      mAP50  mAP50-95): 100%|██████████| 7/7 [00:01<00:00,  4.02it/s]\n"
          ]
        },
        {
          "metadata": {
            "tags": null
          },
          "name": "stdout",
          "output_type": "stream",
          "text": [
            "                   all        220        307      0.892      0.781      0.828      0.593\n",
            "\n",
            "      Epoch    GPU_mem   box_loss   cls_loss   dfl_loss  Instances       Size\n"
          ]
        },
        {
          "metadata": {
            "tags": null
          },
          "name": "stderr",
          "output_type": "stream",
          "text": [
            "     12/100      2.23G       1.01     0.7697      1.282         36        640: 100%|██████████| 310/310 [01:36<00:00,  3.22it/s]\n",
            "                 Class     Images  Instances      Box(P          R      mAP50  mAP50-95): 100%|██████████| 7/7 [00:01<00:00,  3.99it/s]"
          ]
        },
        {
          "metadata": {
            "tags": null
          },
          "name": "stdout",
          "output_type": "stream",
          "text": [
            "                   all        220        307      0.869      0.811      0.843      0.599\n"
          ]
        },
        {
          "metadata": {
            "tags": null
          },
          "name": "stderr",
          "output_type": "stream",
          "text": [
            "\n"
          ]
        },
        {
          "metadata": {
            "tags": null
          },
          "name": "stdout",
          "output_type": "stream",
          "text": [
            "\n",
            "      Epoch    GPU_mem   box_loss   cls_loss   dfl_loss  Instances       Size\n"
          ]
        },
        {
          "metadata": {
            "tags": null
          },
          "name": "stderr",
          "output_type": "stream",
          "text": [
            "     13/100      2.25G      0.998     0.7666      1.276         42        640: 100%|██████████| 310/310 [01:36<00:00,  3.22it/s]\n",
            "                 Class     Images  Instances      Box(P          R      mAP50  mAP50-95): 100%|██████████| 7/7 [00:01<00:00,  3.53it/s]"
          ]
        },
        {
          "metadata": {
            "tags": null
          },
          "name": "stdout",
          "output_type": "stream",
          "text": [
            "                   all        220        307       0.88      0.798      0.834      0.592\n"
          ]
        },
        {
          "metadata": {
            "tags": null
          },
          "name": "stderr",
          "output_type": "stream",
          "text": [
            "\n"
          ]
        },
        {
          "metadata": {
            "tags": null
          },
          "name": "stdout",
          "output_type": "stream",
          "text": [
            "\n",
            "      Epoch    GPU_mem   box_loss   cls_loss   dfl_loss  Instances       Size\n"
          ]
        },
        {
          "metadata": {
            "tags": null
          },
          "name": "stderr",
          "output_type": "stream",
          "text": [
            "     14/100      2.22G     0.9961     0.7562      1.281         47        640: 100%|██████████| 310/310 [01:34<00:00,  3.26it/s]\n",
            "                 Class     Images  Instances      Box(P          R      mAP50  mAP50-95): 100%|██████████| 7/7 [00:03<00:00,  2.16it/s]"
          ]
        },
        {
          "metadata": {
            "tags": null
          },
          "name": "stdout",
          "output_type": "stream",
          "text": [
            "                   all        220        307       0.89      0.805      0.842      0.609\n"
          ]
        },
        {
          "metadata": {
            "tags": null
          },
          "name": "stderr",
          "output_type": "stream",
          "text": [
            "\n"
          ]
        },
        {
          "metadata": {
            "tags": null
          },
          "name": "stdout",
          "output_type": "stream",
          "text": [
            "\n",
            "      Epoch    GPU_mem   box_loss   cls_loss   dfl_loss  Instances       Size\n"
          ]
        },
        {
          "metadata": {
            "tags": null
          },
          "name": "stderr",
          "output_type": "stream",
          "text": [
            "     15/100      2.25G     0.9918     0.7499      1.277         44        640: 100%|██████████| 310/310 [01:35<00:00,  3.25it/s]\n",
            "                 Class     Images  Instances      Box(P          R      mAP50  mAP50-95): 100%|██████████| 7/7 [00:02<00:00,  3.26it/s]"
          ]
        },
        {
          "metadata": {
            "tags": null
          },
          "name": "stdout",
          "output_type": "stream",
          "text": [
            "                   all        220        307      0.891      0.814      0.846      0.597\n"
          ]
        },
        {
          "metadata": {
            "tags": null
          },
          "name": "stderr",
          "output_type": "stream",
          "text": [
            "\n"
          ]
        },
        {
          "metadata": {
            "tags": null
          },
          "name": "stdout",
          "output_type": "stream",
          "text": [
            "\n",
            "      Epoch    GPU_mem   box_loss   cls_loss   dfl_loss  Instances       Size\n"
          ]
        },
        {
          "metadata": {
            "tags": null
          },
          "name": "stderr",
          "output_type": "stream",
          "text": [
            "     16/100      2.25G     0.9789     0.7381      1.266         25        640: 100%|██████████| 310/310 [01:35<00:00,  3.23it/s]\n",
            "                 Class     Images  Instances      Box(P          R      mAP50  mAP50-95): 100%|██████████| 7/7 [00:01<00:00,  3.84it/s]\n"
          ]
        },
        {
          "metadata": {
            "tags": null
          },
          "name": "stdout",
          "output_type": "stream",
          "text": [
            "                   all        220        307      0.842      0.798      0.808      0.567\n",
            "\n",
            "      Epoch    GPU_mem   box_loss   cls_loss   dfl_loss  Instances       Size\n"
          ]
        },
        {
          "metadata": {
            "tags": null
          },
          "name": "stderr",
          "output_type": "stream",
          "text": [
            "     17/100      2.22G     0.9908     0.7523       1.27         35        640: 100%|██████████| 310/310 [01:36<00:00,  3.21it/s]\n",
            "                 Class     Images  Instances      Box(P          R      mAP50  mAP50-95): 100%|██████████| 7/7 [00:01<00:00,  3.68it/s]"
          ]
        },
        {
          "metadata": {
            "tags": null
          },
          "name": "stdout",
          "output_type": "stream",
          "text": [
            "                   all        220        307      0.917      0.792      0.831      0.602\n"
          ]
        },
        {
          "metadata": {
            "tags": null
          },
          "name": "stderr",
          "output_type": "stream",
          "text": [
            "\n"
          ]
        },
        {
          "metadata": {
            "tags": null
          },
          "name": "stdout",
          "output_type": "stream",
          "text": [
            "\n",
            "      Epoch    GPU_mem   box_loss   cls_loss   dfl_loss  Instances       Size\n"
          ]
        },
        {
          "metadata": {
            "tags": null
          },
          "name": "stderr",
          "output_type": "stream",
          "text": [
            "     18/100      2.25G     0.9785     0.7318      1.264         34        640: 100%|██████████| 310/310 [01:36<00:00,  3.20it/s]\n",
            "                 Class     Images  Instances      Box(P          R      mAP50  mAP50-95): 100%|██████████| 7/7 [00:01<00:00,  3.89it/s]"
          ]
        },
        {
          "metadata": {
            "tags": null
          },
          "name": "stdout",
          "output_type": "stream",
          "text": [
            "                   all        220        307       0.85      0.805       0.83      0.601\n"
          ]
        },
        {
          "metadata": {
            "tags": null
          },
          "name": "stderr",
          "output_type": "stream",
          "text": [
            "\n"
          ]
        },
        {
          "metadata": {
            "tags": null
          },
          "name": "stdout",
          "output_type": "stream",
          "text": [
            "\n",
            "      Epoch    GPU_mem   box_loss   cls_loss   dfl_loss  Instances       Size\n"
          ]
        },
        {
          "metadata": {
            "tags": null
          },
          "name": "stderr",
          "output_type": "stream",
          "text": [
            "     19/100      2.22G     0.9736     0.7361      1.269         44        640: 100%|██████████| 310/310 [01:35<00:00,  3.24it/s]\n",
            "                 Class     Images  Instances      Box(P          R      mAP50  mAP50-95): 100%|██████████| 7/7 [00:03<00:00,  2.22it/s]"
          ]
        },
        {
          "metadata": {
            "tags": null
          },
          "name": "stdout",
          "output_type": "stream",
          "text": [
            "                   all        220        307      0.892      0.783       0.83      0.587\n"
          ]
        },
        {
          "metadata": {
            "tags": null
          },
          "name": "stderr",
          "output_type": "stream",
          "text": [
            "\n"
          ]
        },
        {
          "metadata": {
            "tags": null
          },
          "name": "stdout",
          "output_type": "stream",
          "text": [
            "\n",
            "      Epoch    GPU_mem   box_loss   cls_loss   dfl_loss  Instances       Size\n"
          ]
        },
        {
          "metadata": {
            "tags": null
          },
          "name": "stderr",
          "output_type": "stream",
          "text": [
            "     20/100      2.21G     0.9836     0.7398      1.265         31        640: 100%|██████████| 310/310 [01:35<00:00,  3.25it/s]\n",
            "                 Class     Images  Instances      Box(P          R      mAP50  mAP50-95): 100%|██████████| 7/7 [00:01<00:00,  4.15it/s]"
          ]
        },
        {
          "metadata": {
            "tags": null
          },
          "name": "stdout",
          "output_type": "stream",
          "text": [
            "                   all        220        307      0.876      0.811      0.834      0.608\n"
          ]
        },
        {
          "metadata": {
            "tags": null
          },
          "name": "stderr",
          "output_type": "stream",
          "text": [
            "\n"
          ]
        },
        {
          "metadata": {
            "tags": null
          },
          "name": "stdout",
          "output_type": "stream",
          "text": [
            "\n",
            "      Epoch    GPU_mem   box_loss   cls_loss   dfl_loss  Instances       Size\n"
          ]
        },
        {
          "metadata": {
            "tags": null
          },
          "name": "stderr",
          "output_type": "stream",
          "text": [
            "     21/100      2.24G     0.9792     0.7309       1.26         41        640: 100%|██████████| 310/310 [01:37<00:00,  3.18it/s]\n",
            "                 Class     Images  Instances      Box(P          R      mAP50  mAP50-95): 100%|██████████| 7/7 [00:01<00:00,  3.52it/s]"
          ]
        },
        {
          "metadata": {
            "tags": null
          },
          "name": "stdout",
          "output_type": "stream",
          "text": [
            "                   all        220        307      0.887      0.801      0.833      0.598\n"
          ]
        },
        {
          "metadata": {
            "tags": null
          },
          "name": "stderr",
          "output_type": "stream",
          "text": [
            "\n"
          ]
        },
        {
          "metadata": {
            "tags": null
          },
          "name": "stdout",
          "output_type": "stream",
          "text": [
            "\n",
            "      Epoch    GPU_mem   box_loss   cls_loss   dfl_loss  Instances       Size\n"
          ]
        },
        {
          "metadata": {
            "tags": null
          },
          "name": "stderr",
          "output_type": "stream",
          "text": [
            "     22/100      2.22G     0.9753     0.7246      1.265         24        640: 100%|██████████| 310/310 [01:37<00:00,  3.18it/s]\n",
            "                 Class     Images  Instances      Box(P          R      mAP50  mAP50-95): 100%|██████████| 7/7 [00:01<00:00,  3.52it/s]"
          ]
        },
        {
          "metadata": {
            "tags": null
          },
          "name": "stdout",
          "output_type": "stream",
          "text": [
            "                   all        220        307      0.901      0.798      0.841      0.605\n"
          ]
        },
        {
          "metadata": {
            "tags": null
          },
          "name": "stderr",
          "output_type": "stream",
          "text": [
            "\n"
          ]
        },
        {
          "metadata": {
            "tags": null
          },
          "name": "stdout",
          "output_type": "stream",
          "text": [
            "\n",
            "      Epoch    GPU_mem   box_loss   cls_loss   dfl_loss  Instances       Size\n"
          ]
        },
        {
          "metadata": {
            "tags": null
          },
          "name": "stderr",
          "output_type": "stream",
          "text": [
            "     23/100      2.25G     0.9685     0.7242      1.257         44        640: 100%|██████████| 310/310 [01:34<00:00,  3.26it/s]\n",
            "                 Class     Images  Instances      Box(P          R      mAP50  mAP50-95): 100%|██████████| 7/7 [00:02<00:00,  2.55it/s]"
          ]
        },
        {
          "metadata": {
            "tags": null
          },
          "name": "stdout",
          "output_type": "stream",
          "text": [
            "                   all        220        307      0.907      0.798      0.839      0.608\n"
          ]
        },
        {
          "metadata": {
            "tags": null
          },
          "name": "stderr",
          "output_type": "stream",
          "text": [
            "\n"
          ]
        },
        {
          "metadata": {
            "tags": null
          },
          "name": "stdout",
          "output_type": "stream",
          "text": [
            "\n",
            "      Epoch    GPU_mem   box_loss   cls_loss   dfl_loss  Instances       Size\n"
          ]
        },
        {
          "metadata": {
            "tags": null
          },
          "name": "stderr",
          "output_type": "stream",
          "text": [
            "     24/100      2.25G     0.9513     0.7143      1.243         36        640: 100%|██████████| 310/310 [01:36<00:00,  3.22it/s]\n",
            "                 Class     Images  Instances      Box(P          R      mAP50  mAP50-95): 100%|██████████| 7/7 [00:01<00:00,  3.83it/s]"
          ]
        },
        {
          "metadata": {
            "tags": null
          },
          "name": "stdout",
          "output_type": "stream",
          "text": [
            "                   all        220        307      0.924      0.787      0.841      0.601\n"
          ]
        },
        {
          "metadata": {
            "tags": null
          },
          "name": "stderr",
          "output_type": "stream",
          "text": [
            "\n"
          ]
        },
        {
          "metadata": {
            "tags": null
          },
          "name": "stdout",
          "output_type": "stream",
          "text": [
            "\n",
            "      Epoch    GPU_mem   box_loss   cls_loss   dfl_loss  Instances       Size\n"
          ]
        },
        {
          "metadata": {
            "tags": null
          },
          "name": "stderr",
          "output_type": "stream",
          "text": [
            "     25/100      2.25G      0.967      0.729      1.254         40        640: 100%|██████████| 310/310 [01:36<00:00,  3.22it/s]\n",
            "                 Class     Images  Instances      Box(P          R      mAP50  mAP50-95): 100%|██████████| 7/7 [00:01<00:00,  3.59it/s]"
          ]
        },
        {
          "metadata": {
            "tags": null
          },
          "name": "stdout",
          "output_type": "stream",
          "text": [
            "                   all        220        307      0.899      0.808      0.852      0.595\n"
          ]
        },
        {
          "metadata": {
            "tags": null
          },
          "name": "stderr",
          "output_type": "stream",
          "text": [
            "\n"
          ]
        },
        {
          "metadata": {
            "tags": null
          },
          "name": "stdout",
          "output_type": "stream",
          "text": [
            "\n",
            "      Epoch    GPU_mem   box_loss   cls_loss   dfl_loss  Instances       Size\n"
          ]
        },
        {
          "metadata": {
            "tags": null
          },
          "name": "stderr",
          "output_type": "stream",
          "text": [
            "     26/100      2.21G     0.9572     0.7101      1.248         38        640: 100%|██████████| 310/310 [01:39<00:00,  3.11it/s]\n",
            "                 Class     Images  Instances      Box(P          R      mAP50  mAP50-95): 100%|██████████| 7/7 [00:01<00:00,  3.72it/s]"
          ]
        },
        {
          "metadata": {
            "tags": null
          },
          "name": "stdout",
          "output_type": "stream",
          "text": [
            "                   all        220        307      0.914      0.798      0.841       0.61\n"
          ]
        },
        {
          "metadata": {
            "tags": null
          },
          "name": "stderr",
          "output_type": "stream",
          "text": [
            "\n"
          ]
        },
        {
          "metadata": {
            "tags": null
          },
          "name": "stdout",
          "output_type": "stream",
          "text": [
            "\n",
            "      Epoch    GPU_mem   box_loss   cls_loss   dfl_loss  Instances       Size\n"
          ]
        },
        {
          "metadata": {
            "tags": null
          },
          "name": "stderr",
          "output_type": "stream",
          "text": [
            "     27/100      2.26G     0.9537     0.7147      1.247         36        640: 100%|██████████| 310/310 [01:37<00:00,  3.19it/s]\n",
            "                 Class     Images  Instances      Box(P          R      mAP50  mAP50-95): 100%|██████████| 7/7 [00:02<00:00,  2.37it/s]"
          ]
        },
        {
          "metadata": {
            "tags": null
          },
          "name": "stdout",
          "output_type": "stream",
          "text": [
            "                   all        220        307      0.885      0.803      0.836      0.604\n"
          ]
        },
        {
          "metadata": {
            "tags": null
          },
          "name": "stderr",
          "output_type": "stream",
          "text": [
            "\n"
          ]
        },
        {
          "metadata": {
            "tags": null
          },
          "name": "stdout",
          "output_type": "stream",
          "text": [
            "\n",
            "      Epoch    GPU_mem   box_loss   cls_loss   dfl_loss  Instances       Size\n"
          ]
        },
        {
          "metadata": {
            "tags": null
          },
          "name": "stderr",
          "output_type": "stream",
          "text": [
            "     28/100      2.21G     0.9529     0.7101      1.239         38        640: 100%|██████████| 310/310 [01:38<00:00,  3.15it/s]\n",
            "                 Class     Images  Instances      Box(P          R      mAP50  mAP50-95): 100%|██████████| 7/7 [00:02<00:00,  2.93it/s]"
          ]
        },
        {
          "metadata": {
            "tags": null
          },
          "name": "stdout",
          "output_type": "stream",
          "text": [
            "                   all        220        307      0.924      0.772      0.845      0.619\n"
          ]
        },
        {
          "metadata": {
            "tags": null
          },
          "name": "stderr",
          "output_type": "stream",
          "text": [
            "\n"
          ]
        },
        {
          "metadata": {
            "tags": null
          },
          "name": "stdout",
          "output_type": "stream",
          "text": [
            "\n",
            "      Epoch    GPU_mem   box_loss   cls_loss   dfl_loss  Instances       Size\n"
          ]
        },
        {
          "metadata": {
            "tags": null
          },
          "name": "stderr",
          "output_type": "stream",
          "text": [
            "     29/100      2.23G     0.9468     0.7057      1.247         35        640: 100%|██████████| 310/310 [01:36<00:00,  3.22it/s]\n",
            "                 Class     Images  Instances      Box(P          R      mAP50  mAP50-95): 100%|██████████| 7/7 [00:01<00:00,  3.92it/s]"
          ]
        },
        {
          "metadata": {
            "tags": null
          },
          "name": "stdout",
          "output_type": "stream",
          "text": [
            "                   all        220        307      0.898      0.799      0.834      0.606\n"
          ]
        },
        {
          "metadata": {
            "tags": null
          },
          "name": "stderr",
          "output_type": "stream",
          "text": [
            "\n"
          ]
        },
        {
          "metadata": {
            "tags": null
          },
          "name": "stdout",
          "output_type": "stream",
          "text": [
            "\n",
            "      Epoch    GPU_mem   box_loss   cls_loss   dfl_loss  Instances       Size\n"
          ]
        },
        {
          "metadata": {
            "tags": null
          },
          "name": "stderr",
          "output_type": "stream",
          "text": [
            "     30/100      2.25G     0.9377      0.702      1.241         46        640: 100%|██████████| 310/310 [01:38<00:00,  3.15it/s]\n",
            "                 Class     Images  Instances      Box(P          R      mAP50  mAP50-95): 100%|██████████| 7/7 [00:01<00:00,  4.07it/s]"
          ]
        },
        {
          "metadata": {
            "tags": null
          },
          "name": "stdout",
          "output_type": "stream",
          "text": [
            "                   all        220        307      0.876      0.818       0.83      0.616\n"
          ]
        },
        {
          "metadata": {
            "tags": null
          },
          "name": "stderr",
          "output_type": "stream",
          "text": [
            "\n"
          ]
        },
        {
          "metadata": {
            "tags": null
          },
          "name": "stdout",
          "output_type": "stream",
          "text": [
            "\n",
            "      Epoch    GPU_mem   box_loss   cls_loss   dfl_loss  Instances       Size\n"
          ]
        },
        {
          "metadata": {
            "tags": null
          },
          "name": "stderr",
          "output_type": "stream",
          "text": [
            "     31/100      2.23G     0.9291     0.6875      1.232         39        640: 100%|██████████| 310/310 [01:38<00:00,  3.16it/s]\n",
            "                 Class     Images  Instances      Box(P          R      mAP50  mAP50-95): 100%|██████████| 7/7 [00:01<00:00,  3.62it/s]"
          ]
        },
        {
          "metadata": {
            "tags": null
          },
          "name": "stdout",
          "output_type": "stream",
          "text": [
            "                   all        220        307      0.888      0.802      0.841      0.622\n"
          ]
        },
        {
          "metadata": {
            "tags": null
          },
          "name": "stderr",
          "output_type": "stream",
          "text": [
            "\n"
          ]
        },
        {
          "metadata": {
            "tags": null
          },
          "name": "stdout",
          "output_type": "stream",
          "text": [
            "\n",
            "      Epoch    GPU_mem   box_loss   cls_loss   dfl_loss  Instances       Size\n"
          ]
        },
        {
          "metadata": {
            "tags": null
          },
          "name": "stderr",
          "output_type": "stream",
          "text": [
            "     32/100      2.22G     0.9326     0.6957      1.235         49        640: 100%|██████████| 310/310 [01:36<00:00,  3.22it/s]\n",
            "                 Class     Images  Instances      Box(P          R      mAP50  mAP50-95): 100%|██████████| 7/7 [00:03<00:00,  2.27it/s]"
          ]
        },
        {
          "metadata": {
            "tags": null
          },
          "name": "stdout",
          "output_type": "stream",
          "text": [
            "                   all        220        307      0.914      0.775      0.839      0.614\n"
          ]
        },
        {
          "metadata": {
            "tags": null
          },
          "name": "stderr",
          "output_type": "stream",
          "text": [
            "\n"
          ]
        },
        {
          "metadata": {
            "tags": null
          },
          "name": "stdout",
          "output_type": "stream",
          "text": [
            "\n",
            "      Epoch    GPU_mem   box_loss   cls_loss   dfl_loss  Instances       Size\n"
          ]
        },
        {
          "metadata": {
            "tags": null
          },
          "name": "stderr",
          "output_type": "stream",
          "text": [
            "     33/100      2.21G     0.9269     0.6799      1.226         38        640: 100%|██████████| 310/310 [01:35<00:00,  3.23it/s]\n",
            "                 Class     Images  Instances      Box(P          R      mAP50  mAP50-95): 100%|██████████| 7/7 [00:02<00:00,  3.30it/s]"
          ]
        },
        {
          "metadata": {
            "tags": null
          },
          "name": "stdout",
          "output_type": "stream",
          "text": [
            "                   all        220        307      0.908      0.795      0.843      0.591\n"
          ]
        },
        {
          "metadata": {
            "tags": null
          },
          "name": "stderr",
          "output_type": "stream",
          "text": [
            "\n"
          ]
        },
        {
          "metadata": {
            "tags": null
          },
          "name": "stdout",
          "output_type": "stream",
          "text": [
            "\n",
            "      Epoch    GPU_mem   box_loss   cls_loss   dfl_loss  Instances       Size\n"
          ]
        },
        {
          "metadata": {
            "tags": null
          },
          "name": "stderr",
          "output_type": "stream",
          "text": [
            "     34/100      2.22G     0.9263     0.6872      1.222         31        640: 100%|██████████| 310/310 [01:37<00:00,  3.18it/s]\n",
            "                 Class     Images  Instances      Box(P          R      mAP50  mAP50-95): 100%|██████████| 7/7 [00:02<00:00,  3.50it/s]"
          ]
        },
        {
          "metadata": {
            "tags": null
          },
          "name": "stdout",
          "output_type": "stream",
          "text": [
            "                   all        220        307      0.883      0.815      0.844      0.616\n"
          ]
        },
        {
          "metadata": {
            "tags": null
          },
          "name": "stderr",
          "output_type": "stream",
          "text": [
            "\n"
          ]
        },
        {
          "metadata": {
            "tags": null
          },
          "name": "stdout",
          "output_type": "stream",
          "text": [
            "\n",
            "      Epoch    GPU_mem   box_loss   cls_loss   dfl_loss  Instances       Size\n"
          ]
        },
        {
          "metadata": {
            "tags": null
          },
          "name": "stderr",
          "output_type": "stream",
          "text": [
            "     35/100      2.21G     0.9323     0.6949      1.233         30        640: 100%|██████████| 310/310 [01:38<00:00,  3.14it/s]\n",
            "                 Class     Images  Instances      Box(P          R      mAP50  mAP50-95): 100%|██████████| 7/7 [00:01<00:00,  3.60it/s]"
          ]
        },
        {
          "metadata": {
            "tags": null
          },
          "name": "stdout",
          "output_type": "stream",
          "text": [
            "                   all        220        307      0.915      0.785      0.843      0.611\n"
          ]
        },
        {
          "metadata": {
            "tags": null
          },
          "name": "stderr",
          "output_type": "stream",
          "text": [
            "\n"
          ]
        },
        {
          "metadata": {
            "tags": null
          },
          "name": "stdout",
          "output_type": "stream",
          "text": [
            "\n",
            "      Epoch    GPU_mem   box_loss   cls_loss   dfl_loss  Instances       Size\n"
          ]
        },
        {
          "metadata": {
            "tags": null
          },
          "name": "stderr",
          "output_type": "stream",
          "text": [
            "     36/100      2.22G     0.9075     0.6629      1.214         32        640: 100%|██████████| 310/310 [01:37<00:00,  3.17it/s]\n",
            "                 Class     Images  Instances      Box(P          R      mAP50  mAP50-95): 100%|██████████| 7/7 [00:01<00:00,  3.72it/s]\n"
          ]
        },
        {
          "metadata": {
            "tags": null
          },
          "name": "stdout",
          "output_type": "stream",
          "text": [
            "                   all        220        307      0.908      0.782       0.84      0.622\n",
            "\n",
            "      Epoch    GPU_mem   box_loss   cls_loss   dfl_loss  Instances       Size\n"
          ]
        },
        {
          "metadata": {
            "tags": null
          },
          "name": "stderr",
          "output_type": "stream",
          "text": [
            "     37/100      2.24G     0.9185     0.6755      1.214         41        640: 100%|██████████| 310/310 [01:35<00:00,  3.25it/s]\n",
            "                 Class     Images  Instances      Box(P          R      mAP50  mAP50-95): 100%|██████████| 7/7 [00:03<00:00,  2.21it/s]"
          ]
        },
        {
          "metadata": {
            "tags": null
          },
          "name": "stdout",
          "output_type": "stream",
          "text": [
            "                   all        220        307      0.911      0.798      0.844       0.61\n"
          ]
        },
        {
          "metadata": {
            "tags": null
          },
          "name": "stderr",
          "output_type": "stream",
          "text": [
            "\n"
          ]
        },
        {
          "metadata": {
            "tags": null
          },
          "name": "stdout",
          "output_type": "stream",
          "text": [
            "\n",
            "      Epoch    GPU_mem   box_loss   cls_loss   dfl_loss  Instances       Size\n"
          ]
        },
        {
          "metadata": {
            "tags": null
          },
          "name": "stderr",
          "output_type": "stream",
          "text": [
            "     38/100      2.28G     0.9037      0.674      1.207         40        640: 100%|██████████| 310/310 [01:34<00:00,  3.27it/s]\n",
            "                 Class     Images  Instances      Box(P          R      mAP50  mAP50-95): 100%|██████████| 7/7 [00:01<00:00,  3.81it/s]\n"
          ]
        },
        {
          "metadata": {
            "tags": null
          },
          "name": "stdout",
          "output_type": "stream",
          "text": [
            "                   all        220        307      0.907      0.788      0.856       0.62\n",
            "\n",
            "      Epoch    GPU_mem   box_loss   cls_loss   dfl_loss  Instances       Size\n"
          ]
        },
        {
          "metadata": {
            "tags": null
          },
          "name": "stderr",
          "output_type": "stream",
          "text": [
            "     39/100      2.22G     0.9175     0.6698      1.213         44        640: 100%|██████████| 310/310 [01:38<00:00,  3.13it/s]\n",
            "                 Class     Images  Instances      Box(P          R      mAP50  mAP50-95): 100%|██████████| 7/7 [00:01<00:00,  3.63it/s]\n"
          ]
        },
        {
          "metadata": {
            "tags": null
          },
          "name": "stdout",
          "output_type": "stream",
          "text": [
            "                   all        220        307       0.93      0.765      0.844      0.618\n",
            "\n",
            "      Epoch    GPU_mem   box_loss   cls_loss   dfl_loss  Instances       Size\n"
          ]
        },
        {
          "metadata": {
            "tags": null
          },
          "name": "stderr",
          "output_type": "stream",
          "text": [
            "     40/100      2.22G     0.9134     0.6727      1.215         37        640: 100%|██████████| 310/310 [01:37<00:00,  3.17it/s]\n",
            "                 Class     Images  Instances      Box(P          R      mAP50  mAP50-95): 100%|██████████| 7/7 [00:01<00:00,  3.88it/s]"
          ]
        },
        {
          "metadata": {
            "tags": null
          },
          "name": "stdout",
          "output_type": "stream",
          "text": [
            "                   all        220        307      0.924      0.805      0.849      0.618\n"
          ]
        },
        {
          "metadata": {
            "tags": null
          },
          "name": "stderr",
          "output_type": "stream",
          "text": [
            "\n"
          ]
        },
        {
          "metadata": {
            "tags": null
          },
          "name": "stdout",
          "output_type": "stream",
          "text": [
            "\n",
            "      Epoch    GPU_mem   box_loss   cls_loss   dfl_loss  Instances       Size\n"
          ]
        },
        {
          "metadata": {
            "tags": null
          },
          "name": "stderr",
          "output_type": "stream",
          "text": [
            "     41/100      2.22G      0.908     0.6722       1.21         27        640: 100%|██████████| 310/310 [01:35<00:00,  3.24it/s]\n",
            "                 Class     Images  Instances      Box(P          R      mAP50  mAP50-95): 100%|██████████| 7/7 [00:01<00:00,  3.55it/s]"
          ]
        },
        {
          "metadata": {
            "tags": null
          },
          "name": "stdout",
          "output_type": "stream",
          "text": [
            "                   all        220        307      0.934      0.801       0.86      0.616\n"
          ]
        },
        {
          "metadata": {
            "tags": null
          },
          "name": "stderr",
          "output_type": "stream",
          "text": [
            "\n"
          ]
        },
        {
          "metadata": {
            "tags": null
          },
          "name": "stdout",
          "output_type": "stream",
          "text": [
            "\n",
            "      Epoch    GPU_mem   box_loss   cls_loss   dfl_loss  Instances       Size\n"
          ]
        },
        {
          "metadata": {
            "tags": null
          },
          "name": "stderr",
          "output_type": "stream",
          "text": [
            "     42/100      2.25G     0.9019     0.6605       1.21         42        640: 100%|██████████| 310/310 [01:33<00:00,  3.32it/s]\n",
            "                 Class     Images  Instances      Box(P          R      mAP50  mAP50-95): 100%|██████████| 7/7 [00:02<00:00,  2.45it/s]"
          ]
        },
        {
          "metadata": {
            "tags": null
          },
          "name": "stdout",
          "output_type": "stream",
          "text": [
            "                   all        220        307      0.933      0.773      0.839      0.617\n"
          ]
        },
        {
          "metadata": {
            "tags": null
          },
          "name": "stderr",
          "output_type": "stream",
          "text": [
            "\n"
          ]
        },
        {
          "metadata": {
            "tags": null
          },
          "name": "stdout",
          "output_type": "stream",
          "text": [
            "\n",
            "      Epoch    GPU_mem   box_loss   cls_loss   dfl_loss  Instances       Size\n"
          ]
        },
        {
          "metadata": {
            "tags": null
          },
          "name": "stderr",
          "output_type": "stream",
          "text": [
            "     43/100      2.25G      0.901     0.6628      1.212         29        640: 100%|██████████| 310/310 [01:34<00:00,  3.28it/s]\n",
            "                 Class     Images  Instances      Box(P          R      mAP50  mAP50-95): 100%|██████████| 7/7 [00:02<00:00,  3.02it/s]"
          ]
        },
        {
          "metadata": {
            "tags": null
          },
          "name": "stdout",
          "output_type": "stream",
          "text": [
            "                   all        220        307      0.931      0.798      0.851      0.618\n"
          ]
        },
        {
          "metadata": {
            "tags": null
          },
          "name": "stderr",
          "output_type": "stream",
          "text": [
            "\n"
          ]
        },
        {
          "metadata": {
            "tags": null
          },
          "name": "stdout",
          "output_type": "stream",
          "text": [
            "\n",
            "      Epoch    GPU_mem   box_loss   cls_loss   dfl_loss  Instances       Size\n"
          ]
        },
        {
          "metadata": {
            "tags": null
          },
          "name": "stderr",
          "output_type": "stream",
          "text": [
            "     44/100      2.27G     0.8951     0.6462      1.207         33        640: 100%|██████████| 310/310 [01:34<00:00,  3.29it/s]\n",
            "                 Class     Images  Instances      Box(P          R      mAP50  mAP50-95): 100%|██████████| 7/7 [00:01<00:00,  4.10it/s]"
          ]
        },
        {
          "metadata": {
            "tags": null
          },
          "name": "stdout",
          "output_type": "stream",
          "text": [
            "                   all        220        307      0.948      0.778      0.847      0.625\n"
          ]
        },
        {
          "metadata": {
            "tags": null
          },
          "name": "stderr",
          "output_type": "stream",
          "text": [
            "\n"
          ]
        },
        {
          "metadata": {
            "tags": null
          },
          "name": "stdout",
          "output_type": "stream",
          "text": [
            "\n",
            "      Epoch    GPU_mem   box_loss   cls_loss   dfl_loss  Instances       Size\n"
          ]
        },
        {
          "metadata": {
            "tags": null
          },
          "name": "stderr",
          "output_type": "stream",
          "text": [
            "     45/100      2.22G     0.8927     0.6508      1.204         38        640: 100%|██████████| 310/310 [01:36<00:00,  3.22it/s]\n",
            "                 Class     Images  Instances      Box(P          R      mAP50  mAP50-95): 100%|██████████| 7/7 [00:01<00:00,  4.09it/s]"
          ]
        },
        {
          "metadata": {
            "tags": null
          },
          "name": "stdout",
          "output_type": "stream",
          "text": [
            "                   all        220        307      0.907      0.814      0.846      0.618\n"
          ]
        },
        {
          "metadata": {
            "tags": null
          },
          "name": "stderr",
          "output_type": "stream",
          "text": [
            "\n"
          ]
        },
        {
          "metadata": {
            "tags": null
          },
          "name": "stdout",
          "output_type": "stream",
          "text": [
            "\n",
            "      Epoch    GPU_mem   box_loss   cls_loss   dfl_loss  Instances       Size\n"
          ]
        },
        {
          "metadata": {
            "tags": null
          },
          "name": "stderr",
          "output_type": "stream",
          "text": [
            "     46/100      2.25G     0.8878      0.652      1.203         43        640: 100%|██████████| 310/310 [01:35<00:00,  3.23it/s]\n",
            "                 Class     Images  Instances      Box(P          R      mAP50  mAP50-95): 100%|██████████| 7/7 [00:01<00:00,  3.71it/s]"
          ]
        },
        {
          "metadata": {
            "tags": null
          },
          "name": "stdout",
          "output_type": "stream",
          "text": [
            "                   all        220        307       0.91      0.805      0.841      0.614\n"
          ]
        },
        {
          "metadata": {
            "tags": null
          },
          "name": "stderr",
          "output_type": "stream",
          "text": [
            "\n"
          ]
        },
        {
          "metadata": {
            "tags": null
          },
          "name": "stdout",
          "output_type": "stream",
          "text": [
            "\n",
            "      Epoch    GPU_mem   box_loss   cls_loss   dfl_loss  Instances       Size\n"
          ]
        },
        {
          "output_type": "stream",
          "name": "stderr",
          "text": [
            "     47/100      2.22G     0.8805     0.6418        1.2         55        640: 100%|██████████| 310/310 [01:40<00:00,  3.08it/s]\n",
            "                 Class     Images  Instances      Box(P          R      mAP50  mAP50-95): 100%|██████████| 7/7 [00:02<00:00,  3.35it/s]"
          ]
        },
        {
          "output_type": "stream",
          "name": "stdout",
          "text": [
            "                   all        220        307      0.893      0.798       0.83      0.615\n"
          ]
        },
        {
          "output_type": "stream",
          "name": "stderr",
          "text": [
            "\n"
          ]
        },
        {
          "output_type": "stream",
          "name": "stdout",
          "text": [
            "\n",
            "      Epoch    GPU_mem   box_loss   cls_loss   dfl_loss  Instances       Size\n"
          ]
        },
        {
          "output_type": "stream",
          "name": "stderr",
          "text": [
            "     48/100      2.23G     0.8735     0.6215      1.194         47        640: 100%|██████████| 310/310 [01:43<00:00,  3.00it/s]\n",
            "                 Class     Images  Instances      Box(P          R      mAP50  mAP50-95): 100%|██████████| 7/7 [00:03<00:00,  2.15it/s]"
          ]
        },
        {
          "output_type": "stream",
          "name": "stdout",
          "text": [
            "                   all        220        307      0.914      0.805      0.849      0.623\n"
          ]
        },
        {
          "output_type": "stream",
          "name": "stderr",
          "text": [
            "\n"
          ]
        },
        {
          "output_type": "stream",
          "name": "stdout",
          "text": [
            "\n",
            "      Epoch    GPU_mem   box_loss   cls_loss   dfl_loss  Instances       Size\n"
          ]
        },
        {
          "output_type": "stream",
          "name": "stderr",
          "text": [
            "     49/100      2.22G     0.8717     0.6249      1.193         27        640: 100%|██████████| 310/310 [01:40<00:00,  3.08it/s]\n",
            "                 Class     Images  Instances      Box(P          R      mAP50  mAP50-95): 100%|██████████| 7/7 [00:02<00:00,  3.07it/s]"
          ]
        },
        {
          "output_type": "stream",
          "name": "stdout",
          "text": [
            "                   all        220        307      0.934      0.788      0.838      0.605\n"
          ]
        },
        {
          "output_type": "stream",
          "name": "stderr",
          "text": [
            "\n"
          ]
        },
        {
          "output_type": "stream",
          "name": "stdout",
          "text": [
            "\n",
            "      Epoch    GPU_mem   box_loss   cls_loss   dfl_loss  Instances       Size\n"
          ]
        },
        {
          "output_type": "stream",
          "name": "stderr",
          "text": [
            "     50/100      2.25G      0.881     0.6334      1.197         43        640: 100%|██████████| 310/310 [01:37<00:00,  3.19it/s]\n",
            "                 Class     Images  Instances      Box(P          R      mAP50  mAP50-95): 100%|██████████| 7/7 [00:02<00:00,  3.34it/s]"
          ]
        },
        {
          "output_type": "stream",
          "name": "stdout",
          "text": [
            "                   all        220        307      0.923      0.795      0.844      0.613\n"
          ]
        },
        {
          "output_type": "stream",
          "name": "stderr",
          "text": [
            "\n"
          ]
        },
        {
          "output_type": "stream",
          "name": "stdout",
          "text": [
            "\n",
            "      Epoch    GPU_mem   box_loss   cls_loss   dfl_loss  Instances       Size\n"
          ]
        },
        {
          "output_type": "stream",
          "name": "stderr",
          "text": [
            "     51/100      2.22G     0.8799       0.63      1.195         36        640: 100%|██████████| 310/310 [01:35<00:00,  3.25it/s]\n",
            "                 Class     Images  Instances      Box(P          R      mAP50  mAP50-95): 100%|██████████| 7/7 [00:02<00:00,  2.44it/s]"
          ]
        },
        {
          "output_type": "stream",
          "name": "stdout",
          "text": [
            "                   all        220        307      0.915      0.801      0.841      0.619\n"
          ]
        },
        {
          "output_type": "stream",
          "name": "stderr",
          "text": [
            "\n"
          ]
        },
        {
          "output_type": "stream",
          "name": "stdout",
          "text": [
            "\n",
            "      Epoch    GPU_mem   box_loss   cls_loss   dfl_loss  Instances       Size\n"
          ]
        },
        {
          "output_type": "stream",
          "name": "stderr",
          "text": [
            "     52/100      2.25G     0.8762      0.636      1.193         38        640: 100%|██████████| 310/310 [01:38<00:00,  3.16it/s]\n",
            "                 Class     Images  Instances      Box(P          R      mAP50  mAP50-95): 100%|██████████| 7/7 [00:02<00:00,  2.49it/s]"
          ]
        },
        {
          "output_type": "stream",
          "name": "stdout",
          "text": [
            "                   all        220        307      0.908      0.792       0.84      0.618\n"
          ]
        },
        {
          "output_type": "stream",
          "name": "stderr",
          "text": [
            "\n"
          ]
        },
        {
          "output_type": "stream",
          "name": "stdout",
          "text": [
            "\n",
            "      Epoch    GPU_mem   box_loss   cls_loss   dfl_loss  Instances       Size\n"
          ]
        },
        {
          "output_type": "stream",
          "name": "stderr",
          "text": [
            "     53/100      2.26G     0.8676     0.6299      1.188         33        640: 100%|██████████| 310/310 [01:35<00:00,  3.26it/s]\n",
            "                 Class     Images  Instances      Box(P          R      mAP50  mAP50-95): 100%|██████████| 7/7 [00:03<00:00,  2.18it/s]"
          ]
        },
        {
          "output_type": "stream",
          "name": "stdout",
          "text": [
            "                   all        220        307        0.9      0.801      0.838      0.623\n"
          ]
        },
        {
          "output_type": "stream",
          "name": "stderr",
          "text": [
            "\n"
          ]
        },
        {
          "output_type": "stream",
          "name": "stdout",
          "text": [
            "\n",
            "      Epoch    GPU_mem   box_loss   cls_loss   dfl_loss  Instances       Size\n"
          ]
        },
        {
          "output_type": "stream",
          "name": "stderr",
          "text": [
            "     54/100      2.25G     0.8489      0.611      1.178         39        640: 100%|██████████| 310/310 [01:35<00:00,  3.25it/s]\n",
            "                 Class     Images  Instances      Box(P          R      mAP50  mAP50-95): 100%|██████████| 7/7 [00:03<00:00,  2.31it/s]"
          ]
        },
        {
          "output_type": "stream",
          "name": "stdout",
          "text": [
            "                   all        220        307      0.943      0.772      0.852      0.623\n"
          ]
        },
        {
          "output_type": "stream",
          "name": "stderr",
          "text": [
            "\n"
          ]
        },
        {
          "output_type": "stream",
          "name": "stdout",
          "text": [
            "\n",
            "      Epoch    GPU_mem   box_loss   cls_loss   dfl_loss  Instances       Size\n"
          ]
        },
        {
          "output_type": "stream",
          "name": "stderr",
          "text": [
            "     55/100      2.25G     0.8584     0.6294      1.184         45        640: 100%|██████████| 310/310 [01:35<00:00,  3.26it/s]\n",
            "                 Class     Images  Instances      Box(P          R      mAP50  mAP50-95): 100%|██████████| 7/7 [00:02<00:00,  2.74it/s]"
          ]
        },
        {
          "output_type": "stream",
          "name": "stdout",
          "text": [
            "                   all        220        307       0.93      0.779      0.844      0.619\n"
          ]
        },
        {
          "output_type": "stream",
          "name": "stderr",
          "text": [
            "\n"
          ]
        },
        {
          "output_type": "stream",
          "name": "stdout",
          "text": [
            "\n",
            "      Epoch    GPU_mem   box_loss   cls_loss   dfl_loss  Instances       Size\n"
          ]
        },
        {
          "output_type": "stream",
          "name": "stderr",
          "text": [
            "     56/100      2.26G     0.8538     0.6166      1.177         42        640: 100%|██████████| 310/310 [01:35<00:00,  3.25it/s]\n",
            "                 Class     Images  Instances      Box(P          R      mAP50  mAP50-95): 100%|██████████| 7/7 [00:01<00:00,  3.72it/s]"
          ]
        },
        {
          "output_type": "stream",
          "name": "stdout",
          "text": [
            "                   all        220        307      0.924      0.792      0.843       0.62\n"
          ]
        },
        {
          "output_type": "stream",
          "name": "stderr",
          "text": [
            "\n"
          ]
        },
        {
          "output_type": "stream",
          "name": "stdout",
          "text": [
            "\n",
            "      Epoch    GPU_mem   box_loss   cls_loss   dfl_loss  Instances       Size\n"
          ]
        },
        {
          "output_type": "stream",
          "name": "stderr",
          "text": [
            "     57/100      2.24G      0.855     0.6109      1.179         31        640: 100%|██████████| 310/310 [01:36<00:00,  3.21it/s]\n",
            "                 Class     Images  Instances      Box(P          R      mAP50  mAP50-95): 100%|██████████| 7/7 [00:02<00:00,  3.38it/s]"
          ]
        },
        {
          "output_type": "stream",
          "name": "stdout",
          "text": [
            "                   all        220        307      0.923      0.788      0.828      0.619\n"
          ]
        },
        {
          "output_type": "stream",
          "name": "stderr",
          "text": [
            "\n"
          ]
        },
        {
          "output_type": "stream",
          "name": "stdout",
          "text": [
            "\n",
            "      Epoch    GPU_mem   box_loss   cls_loss   dfl_loss  Instances       Size\n"
          ]
        },
        {
          "output_type": "stream",
          "name": "stderr",
          "text": [
            "     58/100      2.22G     0.8459     0.6079      1.174         32        640: 100%|██████████| 310/310 [01:35<00:00,  3.26it/s]\n",
            "                 Class     Images  Instances      Box(P          R      mAP50  mAP50-95): 100%|██████████| 7/7 [00:01<00:00,  3.55it/s]"
          ]
        },
        {
          "output_type": "stream",
          "name": "stdout",
          "text": [
            "                   all        220        307      0.898      0.811      0.836      0.622\n"
          ]
        },
        {
          "output_type": "stream",
          "name": "stderr",
          "text": [
            "\n"
          ]
        },
        {
          "output_type": "stream",
          "name": "stdout",
          "text": [
            "\n",
            "      Epoch    GPU_mem   box_loss   cls_loss   dfl_loss  Instances       Size\n"
          ]
        },
        {
          "output_type": "stream",
          "name": "stderr",
          "text": [
            "     59/100      2.21G     0.8497     0.6091      1.171         43        640: 100%|██████████| 310/310 [01:35<00:00,  3.25it/s]\n",
            "                 Class     Images  Instances      Box(P          R      mAP50  mAP50-95): 100%|██████████| 7/7 [00:01<00:00,  4.28it/s]\n"
          ]
        },
        {
          "output_type": "stream",
          "name": "stdout",
          "text": [
            "                   all        220        307       0.92      0.805      0.849      0.628\n",
            "\n",
            "      Epoch    GPU_mem   box_loss   cls_loss   dfl_loss  Instances       Size\n"
          ]
        },
        {
          "output_type": "stream",
          "name": "stderr",
          "text": [
            "     60/100      2.25G     0.8475     0.6107      1.172         43        640: 100%|██████████| 310/310 [01:35<00:00,  3.23it/s]\n",
            "                 Class     Images  Instances      Box(P          R      mAP50  mAP50-95): 100%|██████████| 7/7 [00:01<00:00,  3.81it/s]"
          ]
        },
        {
          "output_type": "stream",
          "name": "stdout",
          "text": [
            "                   all        220        307      0.908      0.805      0.841      0.624\n"
          ]
        },
        {
          "output_type": "stream",
          "name": "stderr",
          "text": [
            "\n"
          ]
        },
        {
          "output_type": "stream",
          "name": "stdout",
          "text": [
            "\n",
            "      Epoch    GPU_mem   box_loss   cls_loss   dfl_loss  Instances       Size\n"
          ]
        },
        {
          "output_type": "stream",
          "name": "stderr",
          "text": [
            "     61/100      2.22G     0.8496     0.6166       1.18         31        640: 100%|██████████| 310/310 [01:36<00:00,  3.21it/s]\n",
            "                 Class     Images  Instances      Box(P          R      mAP50  mAP50-95): 100%|██████████| 7/7 [00:02<00:00,  3.48it/s]\n"
          ]
        },
        {
          "output_type": "stream",
          "name": "stdout",
          "text": [
            "                   all        220        307      0.948      0.775      0.848      0.633\n",
            "\n",
            "      Epoch    GPU_mem   box_loss   cls_loss   dfl_loss  Instances       Size\n"
          ]
        },
        {
          "output_type": "stream",
          "name": "stderr",
          "text": [
            "     62/100      2.25G     0.8443     0.6074      1.172         38        640: 100%|██████████| 310/310 [01:34<00:00,  3.29it/s]\n",
            "                 Class     Images  Instances      Box(P          R      mAP50  mAP50-95): 100%|██████████| 7/7 [00:02<00:00,  2.44it/s]"
          ]
        },
        {
          "output_type": "stream",
          "name": "stdout",
          "text": [
            "                   all        220        307      0.924      0.796      0.845      0.619\n"
          ]
        },
        {
          "output_type": "stream",
          "name": "stderr",
          "text": [
            "\n"
          ]
        },
        {
          "output_type": "stream",
          "name": "stdout",
          "text": [
            "\n",
            "      Epoch    GPU_mem   box_loss   cls_loss   dfl_loss  Instances       Size\n"
          ]
        },
        {
          "output_type": "stream",
          "name": "stderr",
          "text": [
            "     63/100      2.25G     0.8202     0.5939      1.162         30        640: 100%|██████████| 310/310 [01:34<00:00,  3.28it/s]\n",
            "                 Class     Images  Instances      Box(P          R      mAP50  mAP50-95): 100%|██████████| 7/7 [00:02<00:00,  2.77it/s]"
          ]
        },
        {
          "output_type": "stream",
          "name": "stdout",
          "text": [
            "                   all        220        307      0.908      0.788      0.832      0.624\n"
          ]
        },
        {
          "output_type": "stream",
          "name": "stderr",
          "text": [
            "\n"
          ]
        },
        {
          "output_type": "stream",
          "name": "stdout",
          "text": [
            "\n",
            "      Epoch    GPU_mem   box_loss   cls_loss   dfl_loss  Instances       Size\n"
          ]
        },
        {
          "output_type": "stream",
          "name": "stderr",
          "text": [
            "     64/100      2.21G     0.8248     0.5854      1.159         40        640: 100%|██████████| 310/310 [01:34<00:00,  3.30it/s]\n",
            "                 Class     Images  Instances      Box(P          R      mAP50  mAP50-95): 100%|██████████| 7/7 [00:01<00:00,  4.04it/s]"
          ]
        },
        {
          "output_type": "stream",
          "name": "stdout",
          "text": [
            "                   all        220        307      0.924      0.789      0.835       0.62\n"
          ]
        },
        {
          "output_type": "stream",
          "name": "stderr",
          "text": [
            "\n"
          ]
        },
        {
          "output_type": "stream",
          "name": "stdout",
          "text": [
            "\n",
            "      Epoch    GPU_mem   box_loss   cls_loss   dfl_loss  Instances       Size\n"
          ]
        },
        {
          "output_type": "stream",
          "name": "stderr",
          "text": [
            "     65/100      2.26G     0.8203     0.5857      1.158         48        640: 100%|██████████| 310/310 [01:35<00:00,  3.23it/s]\n",
            "                 Class     Images  Instances      Box(P          R      mAP50  mAP50-95): 100%|██████████| 7/7 [00:01<00:00,  4.06it/s]"
          ]
        },
        {
          "output_type": "stream",
          "name": "stdout",
          "text": [
            "                   all        220        307      0.917      0.793       0.84      0.626\n"
          ]
        },
        {
          "output_type": "stream",
          "name": "stderr",
          "text": [
            "\n"
          ]
        },
        {
          "output_type": "stream",
          "name": "stdout",
          "text": [
            "\n",
            "      Epoch    GPU_mem   box_loss   cls_loss   dfl_loss  Instances       Size\n"
          ]
        },
        {
          "output_type": "stream",
          "name": "stderr",
          "text": [
            "     66/100      2.25G     0.8276     0.5944      1.157         48        640: 100%|██████████| 310/310 [01:36<00:00,  3.21it/s]\n",
            "                 Class     Images  Instances      Box(P          R      mAP50  mAP50-95): 100%|██████████| 7/7 [00:01<00:00,  3.80it/s]\n"
          ]
        },
        {
          "output_type": "stream",
          "name": "stdout",
          "text": [
            "                   all        220        307      0.947      0.779      0.842      0.632\n",
            "\n",
            "      Epoch    GPU_mem   box_loss   cls_loss   dfl_loss  Instances       Size\n"
          ]
        },
        {
          "output_type": "stream",
          "name": "stderr",
          "text": [
            "     67/100      2.24G     0.8228     0.5801       1.16         29        640: 100%|██████████| 310/310 [01:36<00:00,  3.22it/s]\n",
            "                 Class     Images  Instances      Box(P          R      mAP50  mAP50-95): 100%|██████████| 7/7 [00:01<00:00,  3.75it/s]"
          ]
        },
        {
          "output_type": "stream",
          "name": "stdout",
          "text": [
            "                   all        220        307      0.919      0.785      0.836      0.632\n"
          ]
        },
        {
          "output_type": "stream",
          "name": "stderr",
          "text": [
            "\n"
          ]
        },
        {
          "output_type": "stream",
          "name": "stdout",
          "text": [
            "\n",
            "      Epoch    GPU_mem   box_loss   cls_loss   dfl_loss  Instances       Size\n"
          ]
        },
        {
          "output_type": "stream",
          "name": "stderr",
          "text": [
            "     68/100      2.22G     0.8153     0.5802      1.159         38        640: 100%|██████████| 310/310 [01:35<00:00,  3.23it/s]\n",
            "                 Class     Images  Instances      Box(P          R      mAP50  mAP50-95): 100%|██████████| 7/7 [00:02<00:00,  3.48it/s]"
          ]
        },
        {
          "output_type": "stream",
          "name": "stdout",
          "text": [
            "                   all        220        307      0.931      0.788      0.837      0.624\n"
          ]
        },
        {
          "output_type": "stream",
          "name": "stderr",
          "text": [
            "\n"
          ]
        },
        {
          "output_type": "stream",
          "name": "stdout",
          "text": [
            "\n",
            "      Epoch    GPU_mem   box_loss   cls_loss   dfl_loss  Instances       Size\n"
          ]
        },
        {
          "output_type": "stream",
          "name": "stderr",
          "text": [
            "     69/100      2.27G     0.8284     0.5841      1.159         37        640: 100%|██████████| 310/310 [01:35<00:00,  3.24it/s]\n",
            "                 Class     Images  Instances      Box(P          R      mAP50  mAP50-95): 100%|██████████| 7/7 [00:02<00:00,  2.97it/s]"
          ]
        },
        {
          "output_type": "stream",
          "name": "stdout",
          "text": [
            "                   all        220        307      0.948      0.782      0.835      0.622\n"
          ]
        },
        {
          "output_type": "stream",
          "name": "stderr",
          "text": [
            "\n"
          ]
        },
        {
          "output_type": "stream",
          "name": "stdout",
          "text": [
            "\n",
            "      Epoch    GPU_mem   box_loss   cls_loss   dfl_loss  Instances       Size\n"
          ]
        },
        {
          "output_type": "stream",
          "name": "stderr",
          "text": [
            "     70/100      2.21G     0.8124     0.5752      1.152         30        640: 100%|██████████| 310/310 [01:33<00:00,  3.30it/s]\n",
            "                 Class     Images  Instances      Box(P          R      mAP50  mAP50-95): 100%|██████████| 7/7 [00:02<00:00,  2.44it/s]"
          ]
        },
        {
          "output_type": "stream",
          "name": "stdout",
          "text": [
            "                   all        220        307      0.938      0.794      0.839      0.629\n"
          ]
        },
        {
          "output_type": "stream",
          "name": "stderr",
          "text": [
            "\n"
          ]
        },
        {
          "output_type": "stream",
          "name": "stdout",
          "text": [
            "\n",
            "      Epoch    GPU_mem   box_loss   cls_loss   dfl_loss  Instances       Size\n"
          ]
        },
        {
          "output_type": "stream",
          "name": "stderr",
          "text": [
            "     71/100      2.25G     0.8042     0.5724      1.147         46        640: 100%|██████████| 310/310 [01:34<00:00,  3.29it/s]\n",
            "                 Class     Images  Instances      Box(P          R      mAP50  mAP50-95): 100%|██████████| 7/7 [00:01<00:00,  3.75it/s]"
          ]
        },
        {
          "output_type": "stream",
          "name": "stdout",
          "text": [
            "                   all        220        307      0.941      0.781      0.836      0.624\n"
          ]
        },
        {
          "output_type": "stream",
          "name": "stderr",
          "text": [
            "\n"
          ]
        },
        {
          "output_type": "stream",
          "name": "stdout",
          "text": [
            "\n",
            "      Epoch    GPU_mem   box_loss   cls_loss   dfl_loss  Instances       Size\n"
          ]
        },
        {
          "output_type": "stream",
          "name": "stderr",
          "text": [
            "     72/100      2.25G     0.8126     0.5788      1.157         54        640: 100%|██████████| 310/310 [01:35<00:00,  3.25it/s]\n",
            "                 Class     Images  Instances      Box(P          R      mAP50  mAP50-95): 100%|██████████| 7/7 [00:01<00:00,  3.74it/s]\n"
          ]
        },
        {
          "output_type": "stream",
          "name": "stdout",
          "text": [
            "                   all        220        307      0.934      0.781      0.845      0.629\n",
            "\n",
            "      Epoch    GPU_mem   box_loss   cls_loss   dfl_loss  Instances       Size\n"
          ]
        },
        {
          "output_type": "stream",
          "name": "stderr",
          "text": [
            "     73/100      2.23G     0.8071     0.5705      1.148         23        640: 100%|██████████| 310/310 [01:36<00:00,  3.22it/s]\n",
            "                 Class     Images  Instances      Box(P          R      mAP50  mAP50-95): 100%|██████████| 7/7 [00:01<00:00,  4.08it/s]"
          ]
        },
        {
          "output_type": "stream",
          "name": "stdout",
          "text": [
            "                   all        220        307      0.938      0.788       0.84      0.628\n"
          ]
        },
        {
          "output_type": "stream",
          "name": "stderr",
          "text": [
            "\n"
          ]
        },
        {
          "output_type": "stream",
          "name": "stdout",
          "text": [
            "\n",
            "      Epoch    GPU_mem   box_loss   cls_loss   dfl_loss  Instances       Size\n"
          ]
        },
        {
          "output_type": "stream",
          "name": "stderr",
          "text": [
            "     74/100      2.25G     0.8011     0.5679      1.145         35        640: 100%|██████████| 310/310 [01:35<00:00,  3.23it/s]\n",
            "                 Class     Images  Instances      Box(P          R      mAP50  mAP50-95): 100%|██████████| 7/7 [00:01<00:00,  3.85it/s]"
          ]
        },
        {
          "output_type": "stream",
          "name": "stdout",
          "text": [
            "                   all        220        307      0.933      0.792      0.846      0.631\n"
          ]
        },
        {
          "output_type": "stream",
          "name": "stderr",
          "text": [
            "\n"
          ]
        },
        {
          "output_type": "stream",
          "name": "stdout",
          "text": [
            "\n",
            "      Epoch    GPU_mem   box_loss   cls_loss   dfl_loss  Instances       Size\n"
          ]
        },
        {
          "output_type": "stream",
          "name": "stderr",
          "text": [
            "     75/100      2.22G     0.7996     0.5761      1.148         48        640: 100%|██████████| 310/310 [01:35<00:00,  3.25it/s]\n",
            "                 Class     Images  Instances      Box(P          R      mAP50  mAP50-95): 100%|██████████| 7/7 [00:02<00:00,  3.24it/s]"
          ]
        },
        {
          "output_type": "stream",
          "name": "stdout",
          "text": [
            "                   all        220        307      0.904      0.808      0.843      0.633\n"
          ]
        },
        {
          "output_type": "stream",
          "name": "stderr",
          "text": [
            "\n"
          ]
        },
        {
          "output_type": "stream",
          "name": "stdout",
          "text": [
            "\n",
            "      Epoch    GPU_mem   box_loss   cls_loss   dfl_loss  Instances       Size\n"
          ]
        },
        {
          "output_type": "stream",
          "name": "stderr",
          "text": [
            "     76/100      2.27G     0.7926     0.5583      1.145         26        640: 100%|██████████| 310/310 [01:35<00:00,  3.25it/s]\n",
            "                 Class     Images  Instances      Box(P          R      mAP50  mAP50-95): 100%|██████████| 7/7 [00:03<00:00,  2.32it/s]"
          ]
        },
        {
          "output_type": "stream",
          "name": "stdout",
          "text": [
            "                   all        220        307      0.932      0.782      0.842      0.636\n"
          ]
        },
        {
          "output_type": "stream",
          "name": "stderr",
          "text": [
            "\n"
          ]
        },
        {
          "output_type": "stream",
          "name": "stdout",
          "text": [
            "\n",
            "      Epoch    GPU_mem   box_loss   cls_loss   dfl_loss  Instances       Size\n"
          ]
        },
        {
          "output_type": "stream",
          "name": "stderr",
          "text": [
            "     77/100      2.22G     0.8078     0.5671      1.151         25        640:  32%|███▏      | 98/310 [00:29<01:09,  3.03it/s]"
          ]
        }
      ]
    }
  ]
}